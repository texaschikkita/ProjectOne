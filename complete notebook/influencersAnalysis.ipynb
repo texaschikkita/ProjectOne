{
 "cells": [
  {
   "cell_type": "code",
   "execution_count": 5,
   "id": "b723f513",
   "metadata": {
    "execution": {
     "iopub.execute_input": "2022-04-23T06:31:00.701951Z",
     "iopub.status.busy": "2022-04-23T06:31:00.701233Z",
     "iopub.status.idle": "2022-04-23T06:31:00.721288Z",
     "shell.execute_reply": "2022-04-23T06:31:00.720456Z"
    },
    "papermill": {
     "duration": 0.09182,
     "end_time": "2022-04-23T06:31:00.723463",
     "exception": false,
     "start_time": "2022-04-23T06:31:00.631643",
     "status": "completed"
    },
    "tags": []
   },
   "outputs": [],
   "source": [
    "# This Python 3 environment comes with many helpful analytics libraries installed\n",
    "# It is defined by the kaggle/python Docker image: https://github.com/kaggle/docker-python\n",
    "# For example, here's several helpful packages to load\n",
    "\n",
    "import numpy as np # linear algebra\n",
    "import pandas as pd # data processing, CSV file I/O (e.g. pd.read_csv)\n",
    "from pandas import DataFrame\n",
    "import pandas as pd\n",
    "from pandas import DataFrame\n",
    "import csv\n",
    "import matplotlib\n",
    "import matplotlib.pyplot as plt\n",
    "%matplotlib inline\n",
    "import numpy as np\n",
    "import os\n",
    "import seaborn as sns\n",
    "import scipy.stats as st\n",
    "from scipy.stats import linregress\n",
    "from scipy.stats import ttest_ind\n",
    "from scipy.stats import norm\n",
    "from scipy.stats import pearsonr\n",
    "from scipy.stats import random_correlation\n",
    "from IPython.display import IFrame\n",
    "import matplotlib.pyplot as plt\n",
    "pd.options.mode.chained_assignment = None\n",
    "from sklearn.cluster import KMeans\n",
    "import plotly.graph_objs as go\n",
    "import warnings\n",
    "warnings.filterwarnings('ignore')\n",
    "# Input data files are available in the read-only \"../input/\" directory\n",
    "# For example, running this (by clicking run or pressing Shift+Enter) will list all files under the input directory\n",
    "\n",
    "# import os\n",
    "# for dirname, _, filenames in os.walk('/kaggle/input'):\n",
    "#     for filename in filenames:\n",
    "#         print(os.path.join(dirname, filename))\n",
    "\n",
    "# You can write up to 20GB to the current directory (/kaggle/working/) that gets preserved as output when you create a version using \"Save & Run All\" \n",
    "# You can also write temporary files to /kaggle/temp/, but they won't be saved outside of the current session"
   ]
  },
  {
   "cell_type": "code",
   "execution_count": 6,
   "id": "a89b6b1b",
   "metadata": {},
   "outputs": [],
   "source": [
    "import os\n",
    "for dirname, _, filenames in os.walk(''):\n",
    "    for filename in filenames:\n",
    "        print(os.path.join(dirname, filename))"
   ]
  },
  {
   "cell_type": "code",
   "execution_count": 7,
   "id": "268d592b",
   "metadata": {},
   "outputs": [],
   "source": [
    "# Files to load\n",
    "data2load=\"smi_ig.csv\"\n",
    "data2load2=\"smi_youtube.csv\"\n",
    "\n",
    " # read data and store in pandas\n",
    "df_i = pd.read_csv(data2load)\n",
    "df_y=pd.read_csv(data2load2)\n"
   ]
  },
  {
   "cell_type": "markdown",
   "id": "9c2d9701",
   "metadata": {
    "execution": {
     "iopub.execute_input": "2022-04-23T06:12:57.249588Z",
     "iopub.status.busy": "2022-04-23T06:12:57.249301Z",
     "iopub.status.idle": "2022-04-23T06:12:57.255746Z",
     "shell.execute_reply": "2022-04-23T06:12:57.254984Z",
     "shell.execute_reply.started": "2022-04-23T06:12:57.249557Z"
    },
    "papermill": {
     "duration": 0.067799,
     "end_time": "2022-04-23T06:31:02.036477",
     "exception": false,
     "start_time": "2022-04-23T06:31:01.968678",
     "status": "completed"
    },
    "tags": []
   },
   "source": [
    "Top 1000 Influencers include celebrities with large followings to niche content creators with a loyal following on YouTube, Instagram, Facebook, and Twitter.They are categorized in tiers (mini,mega), based on their number of followers.\n",
    "\n",
    "Businesses pursue people who aim to lessen their consumption of advertisements, and are willing to pay their influencers more.\n",
    "\n",
    "Market Researchers find that influencer selection extends into product personality. This product and benefit matching is key. For a shampoo, it should use an influencer with good hair."
   ]
  },
  {
   "cell_type": "code",
   "execution_count": 8,
   "id": "e55695e6",
   "metadata": {
    "execution": {
     "iopub.execute_input": "2022-04-23T06:31:02.172263Z",
     "iopub.status.busy": "2022-04-23T06:31:02.171953Z",
     "iopub.status.idle": "2022-04-23T06:31:02.204863Z",
     "shell.execute_reply": "2022-04-23T06:31:02.204207Z"
    },
    "papermill": {
     "duration": 0.103067,
     "end_time": "2022-04-23T06:31:02.206935",
     "exception": false,
     "start_time": "2022-04-23T06:31:02.103868",
     "status": "completed"
    },
    "tags": []
   },
   "outputs": [
    {
     "data": {
      "text/html": [
       "<div>\n",
       "<style scoped>\n",
       "    .dataframe tbody tr th:only-of-type {\n",
       "        vertical-align: middle;\n",
       "    }\n",
       "\n",
       "    .dataframe tbody tr th {\n",
       "        vertical-align: top;\n",
       "    }\n",
       "\n",
       "    .dataframe thead th {\n",
       "        text-align: right;\n",
       "    }\n",
       "</style>\n",
       "<table border=\"1\" class=\"dataframe\">\n",
       "  <thead>\n",
       "    <tr style=\"text-align: right;\">\n",
       "      <th></th>\n",
       "      <th>Influencer insta name</th>\n",
       "      <th>instagram name</th>\n",
       "      <th>category_1</th>\n",
       "      <th>category_2</th>\n",
       "      <th>Followers</th>\n",
       "      <th>Audience country(mostly)</th>\n",
       "      <th>Authentic engagement\\r\\n</th>\n",
       "      <th>Engagement avg\\r\\n</th>\n",
       "    </tr>\n",
       "  </thead>\n",
       "  <tbody>\n",
       "    <tr>\n",
       "      <th>0</th>\n",
       "      <td>433</td>\n",
       "      <td>433</td>\n",
       "      <td>Sports with a ball</td>\n",
       "      <td>NaN</td>\n",
       "      <td>48.5M</td>\n",
       "      <td>Spain</td>\n",
       "      <td>383.1K</td>\n",
       "      <td>637K</td>\n",
       "    </tr>\n",
       "    <tr>\n",
       "      <th>1</th>\n",
       "      <td>__youngbae__</td>\n",
       "      <td>TAEYANG</td>\n",
       "      <td>Music</td>\n",
       "      <td>NaN</td>\n",
       "      <td>12.7M</td>\n",
       "      <td>Indonesia</td>\n",
       "      <td>478K</td>\n",
       "      <td>542.3K</td>\n",
       "    </tr>\n",
       "    <tr>\n",
       "      <th>2</th>\n",
       "      <td>_agentgirl_</td>\n",
       "      <td>НАСТЯ ИВЛЕЕВА</td>\n",
       "      <td>Shows</td>\n",
       "      <td>NaN</td>\n",
       "      <td>18.8M</td>\n",
       "      <td>Russia</td>\n",
       "      <td>310.8K</td>\n",
       "      <td>377.9K</td>\n",
       "    </tr>\n",
       "    <tr>\n",
       "      <th>3</th>\n",
       "      <td>_imyour_joy</td>\n",
       "      <td>Joy</td>\n",
       "      <td>Lifestyle</td>\n",
       "      <td>NaN</td>\n",
       "      <td>13.5M</td>\n",
       "      <td>Indonesia</td>\n",
       "      <td>1.1M</td>\n",
       "      <td>1.4M</td>\n",
       "    </tr>\n",
       "    <tr>\n",
       "      <th>4</th>\n",
       "      <td>_jeongjaehyun</td>\n",
       "      <td>Jaehyun</td>\n",
       "      <td>NaN</td>\n",
       "      <td>NaN</td>\n",
       "      <td>11.1M</td>\n",
       "      <td>Indonesia</td>\n",
       "      <td>2.5M</td>\n",
       "      <td>3.1M</td>\n",
       "    </tr>\n",
       "  </tbody>\n",
       "</table>\n",
       "</div>"
      ],
      "text/plain": [
       "  Influencer insta name instagram name          category_1 category_2  \\\n",
       "0                   433            433  Sports with a ball        NaN   \n",
       "1          __youngbae__        TAEYANG               Music        NaN   \n",
       "2           _agentgirl_  НАСТЯ ИВЛЕЕВА               Shows        NaN   \n",
       "3           _imyour_joy            Joy           Lifestyle        NaN   \n",
       "4         _jeongjaehyun        Jaehyun                 NaN        NaN   \n",
       "\n",
       "  Followers Audience country(mostly) Authentic engagement\\r\\n  \\\n",
       "0     48.5M                    Spain                   383.1K   \n",
       "1     12.7M                Indonesia                     478K   \n",
       "2     18.8M                   Russia                   310.8K   \n",
       "3     13.5M                Indonesia                     1.1M   \n",
       "4     11.1M                Indonesia                     2.5M   \n",
       "\n",
       "  Engagement avg\\r\\n  \n",
       "0               637K  \n",
       "1             542.3K  \n",
       "2             377.9K  \n",
       "3               1.4M  \n",
       "4               3.1M  "
      ]
     },
     "execution_count": 8,
     "metadata": {},
     "output_type": "execute_result"
    }
   ],
   "source": [
    "\n",
    "\n",
    "df_i=pd.read_csv('smi_ig.csv')\n",
    "df_y=pd.read_csv('smi_youtube.csv')\n",
    "df_i.head()\n"
   ]
  },
  {
   "cell_type": "code",
   "execution_count": 9,
   "id": "f322e354",
   "metadata": {
    "execution": {
     "iopub.execute_input": "2022-04-23T06:31:03.210864Z",
     "iopub.status.busy": "2022-04-23T06:31:03.210372Z",
     "iopub.status.idle": "2022-04-23T06:31:03.213887Z",
     "shell.execute_reply": "2022-04-23T06:31:03.213316Z"
    },
    "papermill": {
     "duration": 0.074253,
     "end_time": "2022-04-23T06:31:03.215549",
     "exception": false,
     "start_time": "2022-04-23T06:31:03.141296",
     "status": "completed"
    },
    "tags": []
   },
   "outputs": [],
   "source": [
    "import re\n",
    "def convert(x):\n",
    "    return re.findall('\\d+\\.?\\d*',x)"
   ]
  },
  {
   "cell_type": "code",
   "execution_count": 10,
   "id": "dbfe4f83",
   "metadata": {
    "execution": {
     "iopub.execute_input": "2022-04-23T06:31:03.353478Z",
     "iopub.status.busy": "2022-04-23T06:31:03.352928Z",
     "iopub.status.idle": "2022-04-23T06:31:03.358786Z",
     "shell.execute_reply": "2022-04-23T06:31:03.358175Z"
    },
    "papermill": {
     "duration": 0.076638,
     "end_time": "2022-04-23T06:31:03.360652",
     "exception": false,
     "start_time": "2022-04-23T06:31:03.284014",
     "status": "completed"
    },
    "tags": []
   },
   "outputs": [],
   "source": [
    "def change(df,list1):\n",
    "    for i in list1:\n",
    "        df['new'+i]=df[i].apply(convert)\n",
    "        df['new'+i]=df['new'+i].apply(lambda x: \"\".join(x))\n",
    "        df['new'+i]=pd.to_numeric(df['new'+i])\n",
    "        df['new'+i]=np.where(['M' in j for j in df[i]],df['new'+i]*1000000,\n",
    "                             np.where(['K' in j1 for j1 in df[i]],df['new'+i]*1000,df['new'+i]))\n",
    "    return df\n",
    "    "
   ]
  },
  {
   "attachments": {},
   "cell_type": "markdown",
   "id": "4f41e865",
   "metadata": {
    "papermill": {
     "duration": 0.071796,
     "end_time": "2022-04-23T06:31:03.963911",
     "exception": false,
     "start_time": "2022-04-23T06:31:03.892115",
     "status": "completed"
    },
    "tags": []
   },
   "source": [
    "# instagram and youtube data set"
   ]
  },
  {
   "cell_type": "code",
   "execution_count": 11,
   "id": "4b24e6c5",
   "metadata": {
    "execution": {
     "iopub.execute_input": "2022-04-23T06:31:04.106626Z",
     "iopub.status.busy": "2022-04-23T06:31:04.105910Z",
     "iopub.status.idle": "2022-04-23T06:31:04.117100Z",
     "shell.execute_reply": "2022-04-23T06:31:04.116260Z"
    },
    "papermill": {
     "duration": 0.085485,
     "end_time": "2022-04-23T06:31:04.119001",
     "exception": false,
     "start_time": "2022-04-23T06:31:04.033516",
     "status": "completed"
    },
    "tags": []
   },
   "outputs": [
    {
     "data": {
      "text/html": [
       "<div>\n",
       "<style scoped>\n",
       "    .dataframe tbody tr th:only-of-type {\n",
       "        vertical-align: middle;\n",
       "    }\n",
       "\n",
       "    .dataframe tbody tr th {\n",
       "        vertical-align: top;\n",
       "    }\n",
       "\n",
       "    .dataframe thead th {\n",
       "        text-align: right;\n",
       "    }\n",
       "</style>\n",
       "<table border=\"1\" class=\"dataframe\">\n",
       "  <thead>\n",
       "    <tr style=\"text-align: right;\">\n",
       "      <th></th>\n",
       "      <th>Influencer insta name</th>\n",
       "      <th>instagram name</th>\n",
       "      <th>category_1</th>\n",
       "      <th>category_2</th>\n",
       "      <th>Followers</th>\n",
       "      <th>Audience country(mostly)</th>\n",
       "      <th>Authentic engagement\\r\\n</th>\n",
       "      <th>Engagement avg\\r\\n</th>\n",
       "    </tr>\n",
       "  </thead>\n",
       "  <tbody>\n",
       "    <tr>\n",
       "      <th>0</th>\n",
       "      <td>433</td>\n",
       "      <td>433</td>\n",
       "      <td>Sports with a ball</td>\n",
       "      <td>NaN</td>\n",
       "      <td>48.5M</td>\n",
       "      <td>Spain</td>\n",
       "      <td>383.1K</td>\n",
       "      <td>637K</td>\n",
       "    </tr>\n",
       "    <tr>\n",
       "      <th>1</th>\n",
       "      <td>__youngbae__</td>\n",
       "      <td>TAEYANG</td>\n",
       "      <td>Music</td>\n",
       "      <td>NaN</td>\n",
       "      <td>12.7M</td>\n",
       "      <td>Indonesia</td>\n",
       "      <td>478K</td>\n",
       "      <td>542.3K</td>\n",
       "    </tr>\n",
       "  </tbody>\n",
       "</table>\n",
       "</div>"
      ],
      "text/plain": [
       "  Influencer insta name instagram name          category_1 category_2  \\\n",
       "0                   433            433  Sports with a ball        NaN   \n",
       "1          __youngbae__        TAEYANG               Music        NaN   \n",
       "\n",
       "  Followers Audience country(mostly) Authentic engagement\\r\\n  \\\n",
       "0     48.5M                    Spain                   383.1K   \n",
       "1     12.7M                Indonesia                     478K   \n",
       "\n",
       "  Engagement avg\\r\\n  \n",
       "0               637K  \n",
       "1             542.3K  "
      ]
     },
     "execution_count": 11,
     "metadata": {},
     "output_type": "execute_result"
    }
   ],
   "source": [
    "df_i.head(2)\n",
    "# instagram dataset"
   ]
  },
  {
   "cell_type": "code",
   "execution_count": 12,
   "id": "df9a529d",
   "metadata": {
    "execution": {
     "iopub.execute_input": "2022-04-23T06:31:04.262211Z",
     "iopub.status.busy": "2022-04-23T06:31:04.261530Z",
     "iopub.status.idle": "2022-04-23T06:31:04.274048Z",
     "shell.execute_reply": "2022-04-23T06:31:04.273247Z"
    },
    "papermill": {
     "duration": 0.085868,
     "end_time": "2022-04-23T06:31:04.276006",
     "exception": false,
     "start_time": "2022-04-23T06:31:04.190138",
     "status": "completed"
    },
    "tags": []
   },
   "outputs": [
    {
     "data": {
      "text/html": [
       "<div>\n",
       "<style scoped>\n",
       "    .dataframe tbody tr th:only-of-type {\n",
       "        vertical-align: middle;\n",
       "    }\n",
       "\n",
       "    .dataframe tbody tr th {\n",
       "        vertical-align: top;\n",
       "    }\n",
       "\n",
       "    .dataframe thead th {\n",
       "        text-align: right;\n",
       "    }\n",
       "</style>\n",
       "<table border=\"1\" class=\"dataframe\">\n",
       "  <thead>\n",
       "    <tr style=\"text-align: right;\">\n",
       "      <th></th>\n",
       "      <th>youtuber name</th>\n",
       "      <th>channel name</th>\n",
       "      <th>Category</th>\n",
       "      <th>Subscribers</th>\n",
       "      <th>Audience Country</th>\n",
       "      <th>avg views</th>\n",
       "      <th>avg likes</th>\n",
       "      <th>avg comments</th>\n",
       "    </tr>\n",
       "  </thead>\n",
       "  <tbody>\n",
       "    <tr>\n",
       "      <th>0</th>\n",
       "      <td>tseries</td>\n",
       "      <td>T-Series</td>\n",
       "      <td>Music &amp; Dance</td>\n",
       "      <td>212.1M</td>\n",
       "      <td>India</td>\n",
       "      <td>323.7K</td>\n",
       "      <td>9.8K</td>\n",
       "      <td>290</td>\n",
       "    </tr>\n",
       "    <tr>\n",
       "      <th>1</th>\n",
       "      <td>checkgate</td>\n",
       "      <td>Cocomelon - Nursery Rhymes</td>\n",
       "      <td>Education</td>\n",
       "      <td>132.1M</td>\n",
       "      <td>NaN</td>\n",
       "      <td>13.8M</td>\n",
       "      <td>80.9K</td>\n",
       "      <td>NaN</td>\n",
       "    </tr>\n",
       "  </tbody>\n",
       "</table>\n",
       "</div>"
      ],
      "text/plain": [
       "  youtuber name                channel name       Category Subscribers  \\\n",
       "0       tseries                    T-Series  Music & Dance      212.1M   \n",
       "1     checkgate  Cocomelon - Nursery Rhymes      Education      132.1M   \n",
       "\n",
       "  Audience Country avg views avg likes avg comments  \n",
       "0            India    323.7K      9.8K          290  \n",
       "1              NaN     13.8M     80.9K          NaN  "
      ]
     },
     "execution_count": 12,
     "metadata": {},
     "output_type": "execute_result"
    }
   ],
   "source": [
    "df_y.head(2)\n",
    "# youtube dataset\n"
   ]
  },
  {
   "attachments": {},
   "cell_type": "markdown",
   "id": "657680be",
   "metadata": {
    "papermill": {
     "duration": 0.072081,
     "end_time": "2022-04-23T06:31:04.420004",
     "exception": false,
     "start_time": "2022-04-23T06:31:04.347923",
     "status": "completed"
    },
    "tags": []
   },
   "source": [
    "# munging"
   ]
  },
  {
   "cell_type": "code",
   "execution_count": 13,
   "id": "b927faf0",
   "metadata": {
    "execution": {
     "iopub.execute_input": "2022-04-23T06:31:04.562554Z",
     "iopub.status.busy": "2022-04-23T06:31:04.562115Z",
     "iopub.status.idle": "2022-04-23T06:31:04.567671Z",
     "shell.execute_reply": "2022-04-23T06:31:04.567042Z"
    },
    "papermill": {
     "duration": 0.078859,
     "end_time": "2022-04-23T06:31:04.569468",
     "exception": false,
     "start_time": "2022-04-23T06:31:04.490609",
     "status": "completed"
    },
    "tags": []
   },
   "outputs": [],
   "source": [
    "df_i.rename({'category_1':'Category','Audience country(mostly)':'Audience Country'},axis=1,inplace=True)\n",
    "\n",
    "df_y.rename({'Subscribers':'Followers',},axis=1,inplace=True)"
   ]
  },
  {
   "cell_type": "code",
   "execution_count": 14,
   "id": "321dc0f0",
   "metadata": {
    "execution": {
     "iopub.execute_input": "2022-04-23T06:31:04.712916Z",
     "iopub.status.busy": "2022-04-23T06:31:04.712370Z",
     "iopub.status.idle": "2022-04-23T06:31:04.724183Z",
     "shell.execute_reply": "2022-04-23T06:31:04.723354Z"
    },
    "papermill": {
     "duration": 0.086349,
     "end_time": "2022-04-23T06:31:04.726093",
     "exception": false,
     "start_time": "2022-04-23T06:31:04.639744",
     "status": "completed"
    },
    "tags": []
   },
   "outputs": [
    {
     "data": {
      "text/html": [
       "<div>\n",
       "<style scoped>\n",
       "    .dataframe tbody tr th:only-of-type {\n",
       "        vertical-align: middle;\n",
       "    }\n",
       "\n",
       "    .dataframe tbody tr th {\n",
       "        vertical-align: top;\n",
       "    }\n",
       "\n",
       "    .dataframe thead th {\n",
       "        text-align: right;\n",
       "    }\n",
       "</style>\n",
       "<table border=\"1\" class=\"dataframe\">\n",
       "  <thead>\n",
       "    <tr style=\"text-align: right;\">\n",
       "      <th></th>\n",
       "      <th>Influencer insta name</th>\n",
       "      <th>instagram name</th>\n",
       "      <th>Category</th>\n",
       "      <th>category_2</th>\n",
       "      <th>Followers</th>\n",
       "      <th>Audience Country</th>\n",
       "      <th>Authentic engagement\\r\\n</th>\n",
       "      <th>Engagement avg\\r\\n</th>\n",
       "    </tr>\n",
       "  </thead>\n",
       "  <tbody>\n",
       "    <tr>\n",
       "      <th>0</th>\n",
       "      <td>433</td>\n",
       "      <td>433</td>\n",
       "      <td>Sports with a ball</td>\n",
       "      <td>NaN</td>\n",
       "      <td>48.5M</td>\n",
       "      <td>Spain</td>\n",
       "      <td>383.1K</td>\n",
       "      <td>637K</td>\n",
       "    </tr>\n",
       "    <tr>\n",
       "      <th>1</th>\n",
       "      <td>__youngbae__</td>\n",
       "      <td>TAEYANG</td>\n",
       "      <td>Music</td>\n",
       "      <td>NaN</td>\n",
       "      <td>12.7M</td>\n",
       "      <td>Indonesia</td>\n",
       "      <td>478K</td>\n",
       "      <td>542.3K</td>\n",
       "    </tr>\n",
       "  </tbody>\n",
       "</table>\n",
       "</div>"
      ],
      "text/plain": [
       "  Influencer insta name instagram name            Category category_2  \\\n",
       "0                   433            433  Sports with a ball        NaN   \n",
       "1          __youngbae__        TAEYANG               Music        NaN   \n",
       "\n",
       "  Followers Audience Country Authentic engagement\\r\\n Engagement avg\\r\\n  \n",
       "0     48.5M            Spain                   383.1K               637K  \n",
       "1     12.7M        Indonesia                     478K             542.3K  "
      ]
     },
     "execution_count": 14,
     "metadata": {},
     "output_type": "execute_result"
    }
   ],
   "source": [
    "df_i.head(2)"
   ]
  },
  {
   "cell_type": "code",
   "execution_count": 15,
   "id": "a2b5f7c5",
   "metadata": {
    "execution": {
     "iopub.execute_input": "2022-04-23T06:31:04.869740Z",
     "iopub.status.busy": "2022-04-23T06:31:04.869208Z",
     "iopub.status.idle": "2022-04-23T06:31:04.880832Z",
     "shell.execute_reply": "2022-04-23T06:31:04.880067Z"
    },
    "papermill": {
     "duration": 0.085863,
     "end_time": "2022-04-23T06:31:04.883369",
     "exception": false,
     "start_time": "2022-04-23T06:31:04.797506",
     "status": "completed"
    },
    "tags": []
   },
   "outputs": [
    {
     "data": {
      "text/html": [
       "<div>\n",
       "<style scoped>\n",
       "    .dataframe tbody tr th:only-of-type {\n",
       "        vertical-align: middle;\n",
       "    }\n",
       "\n",
       "    .dataframe tbody tr th {\n",
       "        vertical-align: top;\n",
       "    }\n",
       "\n",
       "    .dataframe thead th {\n",
       "        text-align: right;\n",
       "    }\n",
       "</style>\n",
       "<table border=\"1\" class=\"dataframe\">\n",
       "  <thead>\n",
       "    <tr style=\"text-align: right;\">\n",
       "      <th></th>\n",
       "      <th>youtuber name</th>\n",
       "      <th>channel name</th>\n",
       "      <th>Category</th>\n",
       "      <th>Followers</th>\n",
       "      <th>Audience Country</th>\n",
       "      <th>avg views</th>\n",
       "      <th>avg likes</th>\n",
       "      <th>avg comments</th>\n",
       "    </tr>\n",
       "  </thead>\n",
       "  <tbody>\n",
       "    <tr>\n",
       "      <th>0</th>\n",
       "      <td>tseries</td>\n",
       "      <td>T-Series</td>\n",
       "      <td>Music &amp; Dance</td>\n",
       "      <td>212.1M</td>\n",
       "      <td>India</td>\n",
       "      <td>323.7K</td>\n",
       "      <td>9.8K</td>\n",
       "      <td>290</td>\n",
       "    </tr>\n",
       "    <tr>\n",
       "      <th>1</th>\n",
       "      <td>checkgate</td>\n",
       "      <td>Cocomelon - Nursery Rhymes</td>\n",
       "      <td>Education</td>\n",
       "      <td>132.1M</td>\n",
       "      <td>NaN</td>\n",
       "      <td>13.8M</td>\n",
       "      <td>80.9K</td>\n",
       "      <td>NaN</td>\n",
       "    </tr>\n",
       "  </tbody>\n",
       "</table>\n",
       "</div>"
      ],
      "text/plain": [
       "  youtuber name                channel name       Category Followers  \\\n",
       "0       tseries                    T-Series  Music & Dance    212.1M   \n",
       "1     checkgate  Cocomelon - Nursery Rhymes      Education    132.1M   \n",
       "\n",
       "  Audience Country avg views avg likes avg comments  \n",
       "0            India    323.7K      9.8K          290  \n",
       "1              NaN     13.8M     80.9K          NaN  "
      ]
     },
     "execution_count": 15,
     "metadata": {},
     "output_type": "execute_result"
    }
   ],
   "source": [
    "df_y.head(2)"
   ]
  },
  {
   "cell_type": "code",
   "execution_count": 16,
   "id": "2f2859cc",
   "metadata": {
    "execution": {
     "iopub.execute_input": "2022-04-23T06:31:05.054359Z",
     "iopub.status.busy": "2022-04-23T06:31:05.053644Z",
     "iopub.status.idle": "2022-04-23T06:31:05.063108Z",
     "shell.execute_reply": "2022-04-23T06:31:05.062355Z"
    },
    "papermill": {
     "duration": 0.093343,
     "end_time": "2022-04-23T06:31:05.065129",
     "exception": false,
     "start_time": "2022-04-23T06:31:04.971786",
     "status": "completed"
    },
    "tags": []
   },
   "outputs": [
    {
     "data": {
      "text/plain": [
       "Influencer insta name         0\n",
       "instagram name               21\n",
       "Category                    108\n",
       "category_2                  713\n",
       "Followers                     0\n",
       "Audience Country             14\n",
       "Authentic engagement\\r\\n      0\n",
       "Engagement avg\\r\\n            0\n",
       "dtype: int64"
      ]
     },
     "execution_count": 16,
     "metadata": {},
     "output_type": "execute_result"
    }
   ],
   "source": [
    "df_i.isnull().sum()"
   ]
  },
  {
   "cell_type": "code",
   "execution_count": 17,
   "id": "07e226fc",
   "metadata": {
    "execution": {
     "iopub.execute_input": "2022-04-23T06:31:05.232302Z",
     "iopub.status.busy": "2022-04-23T06:31:05.231702Z",
     "iopub.status.idle": "2022-04-23T06:31:05.242460Z",
     "shell.execute_reply": "2022-04-23T06:31:05.241746Z"
    },
    "papermill": {
     "duration": 0.107442,
     "end_time": "2022-04-23T06:31:05.244803",
     "exception": false,
     "start_time": "2022-04-23T06:31:05.137361",
     "status": "completed"
    },
    "tags": []
   },
   "outputs": [
    {
     "data": {
      "text/plain": [
       "youtuber name         0\n",
       "channel name          0\n",
       "Category            277\n",
       "Followers             0\n",
       "Audience Country    161\n",
       "avg views             0\n",
       "avg likes            38\n",
       "avg comments        209\n",
       "dtype: int64"
      ]
     },
     "execution_count": 17,
     "metadata": {},
     "output_type": "execute_result"
    }
   ],
   "source": [
    "df_y.isnull().sum()"
   ]
  },
  {
   "cell_type": "code",
   "execution_count": 18,
   "id": "b9d7cbbb",
   "metadata": {
    "execution": {
     "iopub.execute_input": "2022-04-23T06:31:05.401492Z",
     "iopub.status.busy": "2022-04-23T06:31:05.400948Z",
     "iopub.status.idle": "2022-04-23T06:31:05.408889Z",
     "shell.execute_reply": "2022-04-23T06:31:05.408277Z"
    },
    "papermill": {
     "duration": 0.08733,
     "end_time": "2022-04-23T06:31:05.411429",
     "exception": false,
     "start_time": "2022-04-23T06:31:05.324099",
     "status": "completed"
    },
    "tags": []
   },
   "outputs": [],
   "source": [
    "df_i.drop_duplicates(subset=['Influencer insta name'],inplace=True)"
   ]
  },
  {
   "cell_type": "code",
   "execution_count": 19,
   "id": "ddd0f387",
   "metadata": {
    "execution": {
     "iopub.execute_input": "2022-04-23T06:31:05.567258Z",
     "iopub.status.busy": "2022-04-23T06:31:05.566625Z",
     "iopub.status.idle": "2022-04-23T06:31:05.572435Z",
     "shell.execute_reply": "2022-04-23T06:31:05.571572Z"
    },
    "papermill": {
     "duration": 0.082045,
     "end_time": "2022-04-23T06:31:05.574267",
     "exception": false,
     "start_time": "2022-04-23T06:31:05.492222",
     "status": "completed"
    },
    "tags": []
   },
   "outputs": [
    {
     "data": {
      "text/plain": [
       "(997, 8)"
      ]
     },
     "execution_count": 19,
     "metadata": {},
     "output_type": "execute_result"
    }
   ],
   "source": [
    "df_i.shape"
   ]
  },
  {
   "cell_type": "code",
   "execution_count": 20,
   "id": "0fc55e79",
   "metadata": {
    "execution": {
     "iopub.execute_input": "2022-04-23T06:31:05.722737Z",
     "iopub.status.busy": "2022-04-23T06:31:05.722039Z",
     "iopub.status.idle": "2022-04-23T06:31:05.728879Z",
     "shell.execute_reply": "2022-04-23T06:31:05.728116Z"
    },
    "papermill": {
     "duration": 0.083666,
     "end_time": "2022-04-23T06:31:05.731045",
     "exception": false,
     "start_time": "2022-04-23T06:31:05.647379",
     "status": "completed"
    },
    "tags": []
   },
   "outputs": [],
   "source": [
    "df_i.drop(labels=['Influencer insta name','Authentic engagement\\r\\n'],axis=1,inplace=True)"
   ]
  },
  {
   "cell_type": "code",
   "execution_count": 21,
   "id": "9480058a",
   "metadata": {
    "execution": {
     "iopub.execute_input": "2022-04-23T06:31:05.882578Z",
     "iopub.status.busy": "2022-04-23T06:31:05.882014Z",
     "iopub.status.idle": "2022-04-23T06:31:05.892108Z",
     "shell.execute_reply": "2022-04-23T06:31:05.891357Z"
    },
    "papermill": {
     "duration": 0.085008,
     "end_time": "2022-04-23T06:31:05.893844",
     "exception": false,
     "start_time": "2022-04-23T06:31:05.808836",
     "status": "completed"
    },
    "tags": []
   },
   "outputs": [
    {
     "data": {
      "text/html": [
       "<div>\n",
       "<style scoped>\n",
       "    .dataframe tbody tr th:only-of-type {\n",
       "        vertical-align: middle;\n",
       "    }\n",
       "\n",
       "    .dataframe tbody tr th {\n",
       "        vertical-align: top;\n",
       "    }\n",
       "\n",
       "    .dataframe thead th {\n",
       "        text-align: right;\n",
       "    }\n",
       "</style>\n",
       "<table border=\"1\" class=\"dataframe\">\n",
       "  <thead>\n",
       "    <tr style=\"text-align: right;\">\n",
       "      <th></th>\n",
       "      <th>instagram name</th>\n",
       "      <th>Category</th>\n",
       "      <th>category_2</th>\n",
       "      <th>Followers</th>\n",
       "      <th>Audience Country</th>\n",
       "      <th>Engagement avg\\r\\n</th>\n",
       "    </tr>\n",
       "  </thead>\n",
       "  <tbody>\n",
       "    <tr>\n",
       "      <th>0</th>\n",
       "      <td>433</td>\n",
       "      <td>Sports with a ball</td>\n",
       "      <td>NaN</td>\n",
       "      <td>48.5M</td>\n",
       "      <td>Spain</td>\n",
       "      <td>637K</td>\n",
       "    </tr>\n",
       "    <tr>\n",
       "      <th>1</th>\n",
       "      <td>TAEYANG</td>\n",
       "      <td>Music</td>\n",
       "      <td>NaN</td>\n",
       "      <td>12.7M</td>\n",
       "      <td>Indonesia</td>\n",
       "      <td>542.3K</td>\n",
       "    </tr>\n",
       "  </tbody>\n",
       "</table>\n",
       "</div>"
      ],
      "text/plain": [
       "  instagram name            Category category_2 Followers Audience Country  \\\n",
       "0            433  Sports with a ball        NaN     48.5M            Spain   \n",
       "1        TAEYANG               Music        NaN     12.7M        Indonesia   \n",
       "\n",
       "  Engagement avg\\r\\n  \n",
       "0               637K  \n",
       "1             542.3K  "
      ]
     },
     "execution_count": 21,
     "metadata": {},
     "output_type": "execute_result"
    }
   ],
   "source": [
    "df_i.head(2)"
   ]
  },
  {
   "cell_type": "code",
   "execution_count": 22,
   "id": "99694736",
   "metadata": {
    "execution": {
     "iopub.execute_input": "2022-04-23T06:31:06.040353Z",
     "iopub.status.busy": "2022-04-23T06:31:06.039870Z",
     "iopub.status.idle": "2022-04-23T06:31:06.043526Z",
     "shell.execute_reply": "2022-04-23T06:31:06.042724Z"
    },
    "papermill": {
     "duration": 0.079484,
     "end_time": "2022-04-23T06:31:06.045302",
     "exception": false,
     "start_time": "2022-04-23T06:31:05.965818",
     "status": "completed"
    },
    "tags": []
   },
   "outputs": [],
   "source": [
    "li=['Followers','Engagement avg\\r\\n']\n"
   ]
  },
  {
   "cell_type": "code",
   "execution_count": 23,
   "id": "191bff0b",
   "metadata": {
    "execution": {
     "iopub.execute_input": "2022-04-23T06:31:06.192363Z",
     "iopub.status.busy": "2022-04-23T06:31:06.191663Z",
     "iopub.status.idle": "2022-04-23T06:31:06.215016Z",
     "shell.execute_reply": "2022-04-23T06:31:06.214396Z"
    },
    "papermill": {
     "duration": 0.099099,
     "end_time": "2022-04-23T06:31:06.216823",
     "exception": false,
     "start_time": "2022-04-23T06:31:06.117724",
     "status": "completed"
    },
    "tags": []
   },
   "outputs": [
    {
     "data": {
      "text/html": [
       "<div>\n",
       "<style scoped>\n",
       "    .dataframe tbody tr th:only-of-type {\n",
       "        vertical-align: middle;\n",
       "    }\n",
       "\n",
       "    .dataframe tbody tr th {\n",
       "        vertical-align: top;\n",
       "    }\n",
       "\n",
       "    .dataframe thead th {\n",
       "        text-align: right;\n",
       "    }\n",
       "</style>\n",
       "<table border=\"1\" class=\"dataframe\">\n",
       "  <thead>\n",
       "    <tr style=\"text-align: right;\">\n",
       "      <th></th>\n",
       "      <th>instagram name</th>\n",
       "      <th>Category</th>\n",
       "      <th>category_2</th>\n",
       "      <th>Followers</th>\n",
       "      <th>Audience Country</th>\n",
       "      <th>Engagement avg\\r\\n</th>\n",
       "      <th>newFollowers</th>\n",
       "      <th>newEngagement avg\\r\\n</th>\n",
       "    </tr>\n",
       "  </thead>\n",
       "  <tbody>\n",
       "    <tr>\n",
       "      <th>0</th>\n",
       "      <td>433</td>\n",
       "      <td>Sports with a ball</td>\n",
       "      <td>NaN</td>\n",
       "      <td>48.5M</td>\n",
       "      <td>Spain</td>\n",
       "      <td>637K</td>\n",
       "      <td>48500000.0</td>\n",
       "      <td>637000.0</td>\n",
       "    </tr>\n",
       "    <tr>\n",
       "      <th>1</th>\n",
       "      <td>TAEYANG</td>\n",
       "      <td>Music</td>\n",
       "      <td>NaN</td>\n",
       "      <td>12.7M</td>\n",
       "      <td>Indonesia</td>\n",
       "      <td>542.3K</td>\n",
       "      <td>12700000.0</td>\n",
       "      <td>542300.0</td>\n",
       "    </tr>\n",
       "    <tr>\n",
       "      <th>2</th>\n",
       "      <td>НАСТЯ ИВЛЕЕВА</td>\n",
       "      <td>Shows</td>\n",
       "      <td>NaN</td>\n",
       "      <td>18.8M</td>\n",
       "      <td>Russia</td>\n",
       "      <td>377.9K</td>\n",
       "      <td>18800000.0</td>\n",
       "      <td>377900.0</td>\n",
       "    </tr>\n",
       "    <tr>\n",
       "      <th>3</th>\n",
       "      <td>Joy</td>\n",
       "      <td>Lifestyle</td>\n",
       "      <td>NaN</td>\n",
       "      <td>13.5M</td>\n",
       "      <td>Indonesia</td>\n",
       "      <td>1.4M</td>\n",
       "      <td>13500000.0</td>\n",
       "      <td>1400000.0</td>\n",
       "    </tr>\n",
       "    <tr>\n",
       "      <th>4</th>\n",
       "      <td>Jaehyun</td>\n",
       "      <td>NaN</td>\n",
       "      <td>NaN</td>\n",
       "      <td>11.1M</td>\n",
       "      <td>Indonesia</td>\n",
       "      <td>3.1M</td>\n",
       "      <td>11100000.0</td>\n",
       "      <td>3100000.0</td>\n",
       "    </tr>\n",
       "    <tr>\n",
       "      <th>...</th>\n",
       "      <td>...</td>\n",
       "      <td>...</td>\n",
       "      <td>...</td>\n",
       "      <td>...</td>\n",
       "      <td>...</td>\n",
       "      <td>...</td>\n",
       "      <td>...</td>\n",
       "      <td>...</td>\n",
       "    </tr>\n",
       "    <tr>\n",
       "      <th>995</th>\n",
       "      <td>Zendaya</td>\n",
       "      <td>Cinema &amp; Actors/actresses</td>\n",
       "      <td>Fashion</td>\n",
       "      <td>136.1M</td>\n",
       "      <td>United States</td>\n",
       "      <td>8.6M</td>\n",
       "      <td>136100000.0</td>\n",
       "      <td>8600000.0</td>\n",
       "    </tr>\n",
       "    <tr>\n",
       "      <th>996</th>\n",
       "      <td>zidane</td>\n",
       "      <td>Sports with a ball</td>\n",
       "      <td>NaN</td>\n",
       "      <td>31.2M</td>\n",
       "      <td>Spain</td>\n",
       "      <td>744.1K</td>\n",
       "      <td>31200000.0</td>\n",
       "      <td>744100.0</td>\n",
       "    </tr>\n",
       "    <tr>\n",
       "      <th>997</th>\n",
       "      <td>KAI</td>\n",
       "      <td>Music</td>\n",
       "      <td>NaN</td>\n",
       "      <td>13.9M</td>\n",
       "      <td>Indonesia</td>\n",
       "      <td>1.6M</td>\n",
       "      <td>13900000.0</td>\n",
       "      <td>1600000.0</td>\n",
       "    </tr>\n",
       "    <tr>\n",
       "      <th>998</th>\n",
       "      <td>Zoë Kravitz</td>\n",
       "      <td>Cinema &amp; Actors/actresses</td>\n",
       "      <td>NaN</td>\n",
       "      <td>8.2M</td>\n",
       "      <td>United States</td>\n",
       "      <td>885.5K</td>\n",
       "      <td>8200000.0</td>\n",
       "      <td>885500.0</td>\n",
       "    </tr>\n",
       "    <tr>\n",
       "      <th>999</th>\n",
       "      <td>Zoë Sugg</td>\n",
       "      <td>Lifestyle</td>\n",
       "      <td>Business &amp; Careers</td>\n",
       "      <td>9.4M</td>\n",
       "      <td>United Kingdom</td>\n",
       "      <td>289.3K</td>\n",
       "      <td>9400000.0</td>\n",
       "      <td>289300.0</td>\n",
       "    </tr>\n",
       "  </tbody>\n",
       "</table>\n",
       "<p>997 rows × 8 columns</p>\n",
       "</div>"
      ],
      "text/plain": [
       "    instagram name                   Category          category_2 Followers  \\\n",
       "0              433         Sports with a ball                 NaN     48.5M   \n",
       "1          TAEYANG                      Music                 NaN     12.7M   \n",
       "2    НАСТЯ ИВЛЕЕВА                      Shows                 NaN     18.8M   \n",
       "3              Joy                  Lifestyle                 NaN     13.5M   \n",
       "4          Jaehyun                        NaN                 NaN     11.1M   \n",
       "..             ...                        ...                 ...       ...   \n",
       "995        Zendaya  Cinema & Actors/actresses             Fashion    136.1M   \n",
       "996         zidane         Sports with a ball                 NaN     31.2M   \n",
       "997            KAI                      Music                 NaN     13.9M   \n",
       "998   Zoë Kravitz  Cinema & Actors/actresses                 NaN      8.2M   \n",
       "999      Zoë Sugg                  Lifestyle  Business & Careers      9.4M   \n",
       "\n",
       "    Audience Country Engagement avg\\r\\n  newFollowers  newEngagement avg\\r\\n  \n",
       "0              Spain               637K    48500000.0               637000.0  \n",
       "1          Indonesia             542.3K    12700000.0               542300.0  \n",
       "2             Russia             377.9K    18800000.0               377900.0  \n",
       "3          Indonesia               1.4M    13500000.0              1400000.0  \n",
       "4          Indonesia               3.1M    11100000.0              3100000.0  \n",
       "..               ...                ...           ...                    ...  \n",
       "995    United States               8.6M   136100000.0              8600000.0  \n",
       "996            Spain             744.1K    31200000.0               744100.0  \n",
       "997        Indonesia               1.6M    13900000.0              1600000.0  \n",
       "998    United States             885.5K     8200000.0               885500.0  \n",
       "999   United Kingdom             289.3K     9400000.0               289300.0  \n",
       "\n",
       "[997 rows x 8 columns]"
      ]
     },
     "execution_count": 23,
     "metadata": {},
     "output_type": "execute_result"
    }
   ],
   "source": [
    "change(df_i,li)"
   ]
  },
  {
   "attachments": {},
   "cell_type": "markdown",
   "id": "570e546f",
   "metadata": {
    "papermill": {
     "duration": 0.073149,
     "end_time": "2022-04-23T06:31:06.364764",
     "exception": false,
     "start_time": "2022-04-23T06:31:06.291615",
     "status": "completed"
    },
    "tags": []
   },
   "source": [
    "## Engagement rate : the Percentage of Followers who truly engage with the content posted by Influencers \n",
    "## High ER means your content is making an impact on audience\n",
    "## 2- The higher the engagement ,the more likely it is that the content will be boosted newfeed, garnering more view/followers/subscribers."
   ]
  },
  {
   "cell_type": "markdown",
   "id": "9615fa2a",
   "metadata": {
    "papermill": {
     "duration": 0.071849,
     "end_time": "2022-04-23T06:31:06.510432",
     "exception": false,
     "start_time": "2022-04-23T06:31:06.438583",
     "status": "completed"
    },
    "tags": []
   },
   "source": [
    "##### Engagement Rate formula:\n",
    "    ER=(Engagement Average/total Followers)*100"
   ]
  },
  {
   "cell_type": "code",
   "execution_count": 24,
   "id": "2c9925b3",
   "metadata": {
    "execution": {
     "iopub.execute_input": "2022-04-23T06:31:06.659150Z",
     "iopub.status.busy": "2022-04-23T06:31:06.658633Z",
     "iopub.status.idle": "2022-04-23T06:31:06.663501Z",
     "shell.execute_reply": "2022-04-23T06:31:06.662788Z"
    },
    "papermill": {
     "duration": 0.079876,
     "end_time": "2022-04-23T06:31:06.665267",
     "exception": false,
     "start_time": "2022-04-23T06:31:06.585391",
     "status": "completed"
    },
    "tags": []
   },
   "outputs": [],
   "source": [
    "df_i['Engagement Rate']=np.round((df_i['newEngagement avg\\r\\n']/df_i['newFollowers'])*100,3)"
   ]
  },
  {
   "cell_type": "code",
   "execution_count": 25,
   "id": "47dcdd8d",
   "metadata": {
    "execution": {
     "iopub.execute_input": "2022-04-23T06:31:06.813601Z",
     "iopub.status.busy": "2022-04-23T06:31:06.813039Z",
     "iopub.status.idle": "2022-04-23T06:31:06.819360Z",
     "shell.execute_reply": "2022-04-23T06:31:06.818257Z"
    },
    "papermill": {
     "duration": 0.083365,
     "end_time": "2022-04-23T06:31:06.821147",
     "exception": false,
     "start_time": "2022-04-23T06:31:06.737782",
     "status": "completed"
    },
    "tags": []
   },
   "outputs": [
    {
     "name": "stdout",
     "output_type": "stream",
     "text": [
      "['M']\n"
     ]
    }
   ],
   "source": [
    "print(df_i['Followers'].str[-1].unique())"
   ]
  },
  {
   "cell_type": "code",
   "execution_count": 26,
   "id": "afb2edda",
   "metadata": {
    "execution": {
     "iopub.execute_input": "2022-04-23T06:31:06.971606Z",
     "iopub.status.busy": "2022-04-23T06:31:06.970790Z",
     "iopub.status.idle": "2022-04-23T06:31:06.975655Z",
     "shell.execute_reply": "2022-04-23T06:31:06.975057Z"
    },
    "papermill": {
     "duration": 0.082387,
     "end_time": "2022-04-23T06:31:06.977423",
     "exception": false,
     "start_time": "2022-04-23T06:31:06.895036",
     "status": "completed"
    },
    "tags": []
   },
   "outputs": [],
   "source": [
    "# for convenice \n",
    "df_i['newFollowers']=df_i['newFollowers']/1000000"
   ]
  },
  {
   "cell_type": "code",
   "execution_count": 27,
   "id": "78e97038",
   "metadata": {
    "execution": {
     "iopub.execute_input": "2022-04-23T06:31:07.126394Z",
     "iopub.status.busy": "2022-04-23T06:31:07.125520Z",
     "iopub.status.idle": "2022-04-23T06:31:07.131232Z",
     "shell.execute_reply": "2022-04-23T06:31:07.130666Z"
    },
    "papermill": {
     "duration": 0.081847,
     "end_time": "2022-04-23T06:31:07.132961",
     "exception": false,
     "start_time": "2022-04-23T06:31:07.051114",
     "status": "completed"
    },
    "tags": []
   },
   "outputs": [],
   "source": [
    "df_i.drop(labels=['Engagement avg\\r\\n','newEngagement avg\\r\\n'],axis=1,inplace=True)"
   ]
  },
  {
   "cell_type": "code",
   "execution_count": 28,
   "id": "2889b7a9",
   "metadata": {
    "execution": {
     "iopub.execute_input": "2022-04-23T06:31:07.279557Z",
     "iopub.status.busy": "2022-04-23T06:31:07.278669Z",
     "iopub.status.idle": "2022-04-23T06:31:07.291399Z",
     "shell.execute_reply": "2022-04-23T06:31:07.290517Z"
    },
    "papermill": {
     "duration": 0.087939,
     "end_time": "2022-04-23T06:31:07.293251",
     "exception": false,
     "start_time": "2022-04-23T06:31:07.205312",
     "status": "completed"
    },
    "tags": []
   },
   "outputs": [
    {
     "data": {
      "text/html": [
       "<div>\n",
       "<style scoped>\n",
       "    .dataframe tbody tr th:only-of-type {\n",
       "        vertical-align: middle;\n",
       "    }\n",
       "\n",
       "    .dataframe tbody tr th {\n",
       "        vertical-align: top;\n",
       "    }\n",
       "\n",
       "    .dataframe thead th {\n",
       "        text-align: right;\n",
       "    }\n",
       "</style>\n",
       "<table border=\"1\" class=\"dataframe\">\n",
       "  <thead>\n",
       "    <tr style=\"text-align: right;\">\n",
       "      <th></th>\n",
       "      <th>instagram name</th>\n",
       "      <th>Category</th>\n",
       "      <th>category_2</th>\n",
       "      <th>Followers</th>\n",
       "      <th>Audience Country</th>\n",
       "      <th>newFollowers</th>\n",
       "      <th>Engagement Rate</th>\n",
       "    </tr>\n",
       "  </thead>\n",
       "  <tbody>\n",
       "    <tr>\n",
       "      <th>0</th>\n",
       "      <td>433</td>\n",
       "      <td>Sports with a ball</td>\n",
       "      <td>NaN</td>\n",
       "      <td>48.5M</td>\n",
       "      <td>Spain</td>\n",
       "      <td>48.5</td>\n",
       "      <td>1.313</td>\n",
       "    </tr>\n",
       "    <tr>\n",
       "      <th>1</th>\n",
       "      <td>TAEYANG</td>\n",
       "      <td>Music</td>\n",
       "      <td>NaN</td>\n",
       "      <td>12.7M</td>\n",
       "      <td>Indonesia</td>\n",
       "      <td>12.7</td>\n",
       "      <td>4.270</td>\n",
       "    </tr>\n",
       "    <tr>\n",
       "      <th>2</th>\n",
       "      <td>НАСТЯ ИВЛЕЕВА</td>\n",
       "      <td>Shows</td>\n",
       "      <td>NaN</td>\n",
       "      <td>18.8M</td>\n",
       "      <td>Russia</td>\n",
       "      <td>18.8</td>\n",
       "      <td>2.010</td>\n",
       "    </tr>\n",
       "    <tr>\n",
       "      <th>3</th>\n",
       "      <td>Joy</td>\n",
       "      <td>Lifestyle</td>\n",
       "      <td>NaN</td>\n",
       "      <td>13.5M</td>\n",
       "      <td>Indonesia</td>\n",
       "      <td>13.5</td>\n",
       "      <td>10.370</td>\n",
       "    </tr>\n",
       "    <tr>\n",
       "      <th>4</th>\n",
       "      <td>Jaehyun</td>\n",
       "      <td>NaN</td>\n",
       "      <td>NaN</td>\n",
       "      <td>11.1M</td>\n",
       "      <td>Indonesia</td>\n",
       "      <td>11.1</td>\n",
       "      <td>27.928</td>\n",
       "    </tr>\n",
       "  </tbody>\n",
       "</table>\n",
       "</div>"
      ],
      "text/plain": [
       "  instagram name            Category category_2 Followers Audience Country  \\\n",
       "0            433  Sports with a ball        NaN     48.5M            Spain   \n",
       "1        TAEYANG               Music        NaN     12.7M        Indonesia   \n",
       "2  НАСТЯ ИВЛЕЕВА               Shows        NaN     18.8M           Russia   \n",
       "3            Joy           Lifestyle        NaN     13.5M        Indonesia   \n",
       "4        Jaehyun                 NaN        NaN     11.1M        Indonesia   \n",
       "\n",
       "   newFollowers  Engagement Rate  \n",
       "0          48.5            1.313  \n",
       "1          12.7            4.270  \n",
       "2          18.8            2.010  \n",
       "3          13.5           10.370  \n",
       "4          11.1           27.928  "
      ]
     },
     "execution_count": 28,
     "metadata": {},
     "output_type": "execute_result"
    }
   ],
   "source": [
    "df_i.head(5)"
   ]
  },
  {
   "cell_type": "code",
   "execution_count": 117,
   "id": "c47cdca3",
   "metadata": {},
   "outputs": [],
   "source": [
    "#df_i.groupby([\"instagram name\",'Engagement Rate']).apply(lambda d:pd.Series(stats.pearsonr(d.C, d.D), index=[\"corr\", \"pval\"]))"
   ]
  },
  {
   "attachments": {},
   "cell_type": "markdown",
   "id": "e9b59b81",
   "metadata": {
    "papermill": {
     "duration": 0.072955,
     "end_time": "2022-04-23T06:31:07.440132",
     "exception": false,
     "start_time": "2022-04-23T06:31:07.367177",
     "status": "completed"
    },
    "tags": []
   },
   "source": [
    "# 15 most followed celebrities on  instagram"
   ]
  },
  {
   "cell_type": "code",
   "execution_count": 29,
   "id": "c90bed84",
   "metadata": {
    "execution": {
     "iopub.execute_input": "2022-04-23T06:31:07.588945Z",
     "iopub.status.busy": "2022-04-23T06:31:07.588189Z",
     "iopub.status.idle": "2022-04-23T06:31:07.600441Z",
     "shell.execute_reply": "2022-04-23T06:31:07.599870Z"
    },
    "papermill": {
     "duration": 0.088204,
     "end_time": "2022-04-23T06:31:07.602210",
     "exception": false,
     "start_time": "2022-04-23T06:31:07.514006",
     "status": "completed"
    },
    "tags": []
   },
   "outputs": [
    {
     "data": {
      "text/html": [
       "<div>\n",
       "<style scoped>\n",
       "    .dataframe tbody tr th:only-of-type {\n",
       "        vertical-align: middle;\n",
       "    }\n",
       "\n",
       "    .dataframe tbody tr th {\n",
       "        vertical-align: top;\n",
       "    }\n",
       "\n",
       "    .dataframe thead th {\n",
       "        text-align: right;\n",
       "    }\n",
       "</style>\n",
       "<table border=\"1\" class=\"dataframe\">\n",
       "  <thead>\n",
       "    <tr style=\"text-align: right;\">\n",
       "      <th></th>\n",
       "      <th>instagram name</th>\n",
       "      <th>Category</th>\n",
       "      <th>Followers</th>\n",
       "      <th>Engagement Rate</th>\n",
       "    </tr>\n",
       "  </thead>\n",
       "  <tbody>\n",
       "    <tr>\n",
       "      <th>0</th>\n",
       "      <td>Instagram</td>\n",
       "      <td>Photography</td>\n",
       "      <td>487.2M</td>\n",
       "      <td>0.096</td>\n",
       "    </tr>\n",
       "    <tr>\n",
       "      <th>1</th>\n",
       "      <td>Cristiano Ronaldo</td>\n",
       "      <td>Sports with a ball</td>\n",
       "      <td>419.6M</td>\n",
       "      <td>1.668</td>\n",
       "    </tr>\n",
       "    <tr>\n",
       "      <th>2</th>\n",
       "      <td>Kylie 🤍</td>\n",
       "      <td>Fashion</td>\n",
       "      <td>323.3M</td>\n",
       "      <td>3.805</td>\n",
       "    </tr>\n",
       "    <tr>\n",
       "      <th>3</th>\n",
       "      <td>Leo Messi</td>\n",
       "      <td>Sports with a ball</td>\n",
       "      <td>315.4M</td>\n",
       "      <td>1.680</td>\n",
       "    </tr>\n",
       "    <tr>\n",
       "      <th>4</th>\n",
       "      <td>Selena Gomez</td>\n",
       "      <td>Music</td>\n",
       "      <td>308.2M</td>\n",
       "      <td>1.428</td>\n",
       "    </tr>\n",
       "    <tr>\n",
       "      <th>5</th>\n",
       "      <td>therock</td>\n",
       "      <td>Cinema &amp; Actors/actresses</td>\n",
       "      <td>307M</td>\n",
       "      <td>0.129</td>\n",
       "    </tr>\n",
       "    <tr>\n",
       "      <th>6</th>\n",
       "      <td>Ariana Grande</td>\n",
       "      <td>Music</td>\n",
       "      <td>302.3M</td>\n",
       "      <td>1.356</td>\n",
       "    </tr>\n",
       "    <tr>\n",
       "      <th>7</th>\n",
       "      <td>Kim Kardashian</td>\n",
       "      <td>Fashion</td>\n",
       "      <td>296.4M</td>\n",
       "      <td>0.978</td>\n",
       "    </tr>\n",
       "    <tr>\n",
       "      <th>8</th>\n",
       "      <td>Beyoncé</td>\n",
       "      <td>Music</td>\n",
       "      <td>246.9M</td>\n",
       "      <td>1.499</td>\n",
       "    </tr>\n",
       "    <tr>\n",
       "      <th>9</th>\n",
       "      <td>Khloé Kardashian</td>\n",
       "      <td>Clothing &amp; Outfits</td>\n",
       "      <td>230.2M</td>\n",
       "      <td>0.521</td>\n",
       "    </tr>\n",
       "    <tr>\n",
       "      <th>10</th>\n",
       "      <td>Kendall</td>\n",
       "      <td>Modeling</td>\n",
       "      <td>227.4M</td>\n",
       "      <td>2.419</td>\n",
       "    </tr>\n",
       "    <tr>\n",
       "      <th>11</th>\n",
       "      <td>Justin Bieber</td>\n",
       "      <td>Music</td>\n",
       "      <td>227M</td>\n",
       "      <td>0.281</td>\n",
       "    </tr>\n",
       "    <tr>\n",
       "      <th>12</th>\n",
       "      <td>National Geographic</td>\n",
       "      <td>Nature &amp; landscapes</td>\n",
       "      <td>214.6M</td>\n",
       "      <td>0.068</td>\n",
       "    </tr>\n",
       "    <tr>\n",
       "      <th>13</th>\n",
       "      <td>Nike</td>\n",
       "      <td>Fitness &amp; Gym</td>\n",
       "      <td>208.9M</td>\n",
       "      <td>0.084</td>\n",
       "    </tr>\n",
       "    <tr>\n",
       "      <th>14</th>\n",
       "      <td>Taylor Swift</td>\n",
       "      <td>Music</td>\n",
       "      <td>204.7M</td>\n",
       "      <td>1.514</td>\n",
       "    </tr>\n",
       "  </tbody>\n",
       "</table>\n",
       "</div>"
      ],
      "text/plain": [
       "         instagram name                   Category Followers  Engagement Rate\n",
       "0             Instagram                Photography    487.2M            0.096\n",
       "1     Cristiano Ronaldo         Sports with a ball    419.6M            1.668\n",
       "2               Kylie 🤍                    Fashion    323.3M            3.805\n",
       "3             Leo Messi         Sports with a ball    315.4M            1.680\n",
       "4          Selena Gomez                      Music    308.2M            1.428\n",
       "5               therock  Cinema & Actors/actresses      307M            0.129\n",
       "6         Ariana Grande                      Music    302.3M            1.356\n",
       "7        Kim Kardashian                    Fashion    296.4M            0.978\n",
       "8              Beyoncé                      Music    246.9M            1.499\n",
       "9     Khloé Kardashian         Clothing & Outfits    230.2M            0.521\n",
       "10              Kendall                   Modeling    227.4M            2.419\n",
       "11        Justin Bieber                      Music      227M            0.281\n",
       "12  National Geographic        Nature & landscapes    214.6M            0.068\n",
       "13                 Nike              Fitness & Gym    208.9M            0.084\n",
       "14         Taylor Swift                      Music    204.7M            1.514"
      ]
     },
     "execution_count": 29,
     "metadata": {},
     "output_type": "execute_result"
    }
   ],
   "source": [
    "df_i.sort_values(by='newFollowers',ascending=False,ignore_index=True).iloc[0:15,[0,1,3,-1]]"
   ]
  },
  {
   "cell_type": "code",
   "execution_count": 30,
   "id": "8db17158",
   "metadata": {
    "execution": {
     "iopub.execute_input": "2022-04-23T06:31:07.751444Z",
     "iopub.status.busy": "2022-04-23T06:31:07.751186Z",
     "iopub.status.idle": "2022-04-23T06:31:08.022230Z",
     "shell.execute_reply": "2022-04-23T06:31:08.021194Z"
    },
    "papermill": {
     "duration": 0.349097,
     "end_time": "2022-04-23T06:31:08.025302",
     "exception": false,
     "start_time": "2022-04-23T06:31:07.676205",
     "status": "completed"
    },
    "tags": []
   },
   "outputs": [
    {
     "data": {
      "text/plain": [
       "<matplotlib.axes._subplots.AxesSubplot at 0x24a94da1248>"
      ]
     },
     "execution_count": 30,
     "metadata": {},
     "output_type": "execute_result"
    },
    {
     "data": {
      "image/png": "[encoded data removed]",
      "text/plain": [
       "<Figure size 432x288 with 1 Axes>"
      ]
     },
     "metadata": {
      "needs_background": "light"
     },
     "output_type": "display_data"
    }
   ],
   "source": [
    "plt.title('Top 15 most followed celebrity on instagram')\n",
    "plt.xlabel('Followers in Million')\n",
    "sns.barplot(y='instagram name',x='newFollowers',data=df_i.sort_values(by='newFollowers',ascending=False).head(15))"
   ]
  },
  {
   "cell_type": "code",
   "execution_count": 31,
   "id": "1efcdb88",
   "metadata": {
    "execution": {
     "iopub.execute_input": "2022-04-23T06:31:08.180392Z",
     "iopub.status.busy": "2022-04-23T06:31:08.180011Z",
     "iopub.status.idle": "2022-04-23T06:31:08.183912Z",
     "shell.execute_reply": "2022-04-23T06:31:08.183303Z"
    },
    "papermill": {
     "duration": 0.082254,
     "end_time": "2022-04-23T06:31:08.185571",
     "exception": false,
     "start_time": "2022-04-23T06:31:08.103317",
     "status": "completed"
    },
    "tags": []
   },
   "outputs": [],
   "source": [
    "pallete=['red','green','yellow','salmon','cyan','blue','orange']"
   ]
  },
  {
   "cell_type": "code",
   "execution_count": 32,
   "id": "6d4b28a1",
   "metadata": {
    "execution": {
     "iopub.execute_input": "2022-04-23T06:31:08.338772Z",
     "iopub.status.busy": "2022-04-23T06:31:08.338483Z",
     "iopub.status.idle": "2022-04-23T06:31:08.343213Z",
     "shell.execute_reply": "2022-04-23T06:31:08.342361Z"
    },
    "papermill": {
     "duration": 0.083439,
     "end_time": "2022-04-23T06:31:08.344930",
     "exception": false,
     "start_time": "2022-04-23T06:31:08.261491",
     "status": "completed"
    },
    "tags": []
   },
   "outputs": [],
   "source": [
    "def plot(df):\n",
    "    plt.figure(figsize=(8,6))\n",
    "    plt.xlabel('number of times category occured')\n",
    "    plt.ylabel('Category')\n",
    "    df['Category'].value_counts().sort_values(ascending=True).plot.barh(color=pallete)"
   ]
  },
  {
   "cell_type": "code",
   "execution_count": null,
   "id": "45c58747",
   "metadata": {},
   "outputs": [],
   "source": []
  },
  {
   "attachments": {},
   "cell_type": "markdown",
   "id": "62d9ea06",
   "metadata": {
    "papermill": {
     "duration": 0.075411,
     "end_time": "2022-04-23T06:31:08.496579",
     "exception": false,
     "start_time": "2022-04-23T06:31:08.421168",
     "status": "completed"
    },
    "tags": []
   },
   "source": [
    "##  Categories most followed on instagram.  Music is # 1"
   ]
  },
  {
   "cell_type": "code",
   "execution_count": 33,
   "id": "4c147231",
   "metadata": {
    "execution": {
     "iopub.execute_input": "2022-04-23T06:31:08.649900Z",
     "iopub.status.busy": "2022-04-23T06:31:08.649473Z",
     "iopub.status.idle": "2022-04-23T06:31:08.977111Z",
     "shell.execute_reply": "2022-04-23T06:31:08.976091Z"
    },
    "papermill": {
     "duration": 0.406874,
     "end_time": "2022-04-23T06:31:08.979404",
     "exception": false,
     "start_time": "2022-04-23T06:31:08.572530",
     "status": "completed"
    },
    "tags": []
   },
   "outputs": [
    {
     "data": {
      "image/png": "[encoded data removed]",
      "text/plain": [
       "<Figure size 576x432 with 1 Axes>"
      ]
     },
     "metadata": {
      "needs_background": "light"
     },
     "output_type": "display_data"
    }
   ],
   "source": [
    "plot(df_i)\n",
    "    "
   ]
  },
  {
   "attachments": {},
   "cell_type": "markdown",
   "id": "eb4fdf3f",
   "metadata": {
    "papermill": {
     "duration": 0.079858,
     "end_time": "2022-04-23T06:31:09.138037",
     "exception": false,
     "start_time": "2022-04-23T06:31:09.058179",
     "status": "completed"
    },
    "tags": []
   },
   "source": [
    "## Categories most followed on Youtube.  Music is #1"
   ]
  },
  {
   "cell_type": "code",
   "execution_count": 34,
   "id": "bc6248e5",
   "metadata": {
    "execution": {
     "iopub.execute_input": "2022-04-23T06:31:09.297910Z",
     "iopub.status.busy": "2022-04-23T06:31:09.297507Z",
     "iopub.status.idle": "2022-04-23T06:31:09.303690Z",
     "shell.execute_reply": "2022-04-23T06:31:09.303047Z"
    },
    "papermill": {
     "duration": 0.089202,
     "end_time": "2022-04-23T06:31:09.305496",
     "exception": false,
     "start_time": "2022-04-23T06:31:09.216294",
     "status": "completed"
    },
    "tags": []
   },
   "outputs": [],
   "source": [
    "df_y.drop_duplicates(subset=['channel name'],inplace=True)"
   ]
  },
  {
   "cell_type": "code",
   "execution_count": 35,
   "id": "e8fe96bc",
   "metadata": {
    "execution": {
     "iopub.execute_input": "2022-04-23T06:31:09.467998Z",
     "iopub.status.busy": "2022-04-23T06:31:09.467608Z",
     "iopub.status.idle": "2022-04-23T06:31:09.767049Z",
     "shell.execute_reply": "2022-04-23T06:31:09.766371Z"
    },
    "papermill": {
     "duration": 0.381459,
     "end_time": "2022-04-23T06:31:09.769514",
     "exception": false,
     "start_time": "2022-04-23T06:31:09.388055",
     "status": "completed"
    },
    "tags": []
   },
   "outputs": [
    {
     "data": {
      "image/png": "[encoded data removed]",
      "text/plain": [
       "<Figure size 576x432 with 1 Axes>"
      ]
     },
     "metadata": {
      "needs_background": "light"
     },
     "output_type": "display_data"
    }
   ],
   "source": [
    "plot(df_y)"
   ]
  },
  {
   "attachments": {},
   "cell_type": "markdown",
   "id": "28140969",
   "metadata": {
    "papermill": {
     "duration": 0.077532,
     "end_time": "2022-04-23T06:31:09.928932",
     "exception": false,
     "start_time": "2022-04-23T06:31:09.851400",
     "status": "completed"
    },
    "tags": []
   },
   "source": [
    "# conclusion:\n",
    "###  Music dominates both.  These numbers correlate with top streams from spotify\n"
   ]
  },
  {
   "attachments": {},
   "cell_type": "markdown",
   "id": "faf364df",
   "metadata": {
    "papermill": {
     "duration": 0.080267,
     "end_time": "2022-04-23T06:31:10.244707",
     "exception": false,
     "start_time": "2022-04-23T06:31:10.164440",
     "status": "completed"
    },
    "tags": []
   },
   "source": [
    "# From a merketing perspective - artists (and co.) could use this info to decide where and how to target audiences with ads."
   ]
  },
  {
   "cell_type": "code",
   "execution_count": 36,
   "id": "93c6e864",
   "metadata": {
    "execution": {
     "iopub.execute_input": "2022-04-23T06:31:10.408669Z",
     "iopub.status.busy": "2022-04-23T06:31:10.408385Z",
     "iopub.status.idle": "2022-04-23T06:31:10.412708Z",
     "shell.execute_reply": "2022-04-23T06:31:10.412130Z"
    },
    "papermill": {
     "duration": 0.089742,
     "end_time": "2022-04-23T06:31:10.414321",
     "exception": false,
     "start_time": "2022-04-23T06:31:10.324579",
     "status": "completed"
    },
    "tags": []
   },
   "outputs": [],
   "source": [
    "def plot_c(df):\n",
    "    plt.figure(figsize=(10,8))\n",
    "    plt.xlabel('number of times category occured')\n",
    "    df['Audience Country'].value_counts().sort_values().plot.barh(color=pallete)"
   ]
  },
  {
   "cell_type": "markdown",
   "id": "875c16cf",
   "metadata": {
    "papermill": {
     "duration": 0.079751,
     "end_time": "2022-04-23T06:31:10.572485",
     "exception": false,
     "start_time": "2022-04-23T06:31:10.492734",
     "status": "completed"
    },
    "tags": []
   },
   "source": [
    "## TOP consumer countries of the influencers content on INSTAGRAM"
   ]
  },
  {
   "cell_type": "code",
   "execution_count": 37,
   "id": "806ab9ee",
   "metadata": {
    "execution": {
     "iopub.execute_input": "2022-04-23T06:31:10.730635Z",
     "iopub.status.busy": "2022-04-23T06:31:10.730112Z",
     "iopub.status.idle": "2022-04-23T06:31:10.733466Z",
     "shell.execute_reply": "2022-04-23T06:31:10.732583Z"
    },
    "papermill": {
     "duration": 0.084812,
     "end_time": "2022-04-23T06:31:10.735419",
     "exception": false,
     "start_time": "2022-04-23T06:31:10.650607",
     "status": "completed"
    },
    "tags": []
   },
   "outputs": [
    {
     "data": {
      "image/png": "[encoded data removed]",
      "text/plain": [
       "<Figure size 720x576 with 1 Axes>"
      ]
     },
     "metadata": {
      "needs_background": "light"
     },
     "output_type": "display_data"
    }
   ],
   "source": [
    "plot_c(df_i)"
   ]
  },
  {
   "cell_type": "markdown",
   "id": "51c779a7",
   "metadata": {
    "papermill": {
     "duration": 0.080447,
     "end_time": "2022-04-23T06:31:10.896565",
     "exception": false,
     "start_time": "2022-04-23T06:31:10.816118",
     "status": "completed"
    },
    "tags": []
   },
   "source": [
    "## TOP consumer countries of the influencers content on YOUTUBE"
   ]
  },
  {
   "cell_type": "code",
   "execution_count": 38,
   "id": "0c74ce68",
   "metadata": {
    "execution": {
     "iopub.execute_input": "2022-04-23T06:31:11.059009Z",
     "iopub.status.busy": "2022-04-23T06:31:11.057820Z",
     "iopub.status.idle": "2022-04-23T06:31:11.062043Z",
     "shell.execute_reply": "2022-04-23T06:31:11.061234Z"
    },
    "papermill": {
     "duration": 0.089695,
     "end_time": "2022-04-23T06:31:11.064586",
     "exception": false,
     "start_time": "2022-04-23T06:31:10.974891",
     "status": "completed"
    },
    "tags": []
   },
   "outputs": [
    {
     "data": {
      "image/png": "[encoded data removed]",
      "text/plain": [
       "<Figure size 720x576 with 1 Axes>"
      ]
     },
     "metadata": {
      "needs_background": "light"
     },
     "output_type": "display_data"
    }
   ],
   "source": [
    "plot_c(df_y)"
   ]
  },
  {
   "attachments": {},
   "cell_type": "markdown",
   "id": "9b827468",
   "metadata": {
    "papermill": {
     "duration": 0.078062,
     "end_time": "2022-04-23T06:31:11.226608",
     "exception": false,
     "start_time": "2022-04-23T06:31:11.148546",
     "status": "completed"
    },
    "tags": []
   },
   "source": [
    "## Checking the demand for categories by Country"
   ]
  },
  {
   "cell_type": "code",
   "execution_count": 39,
   "id": "824a41c4",
   "metadata": {
    "execution": {
     "iopub.execute_input": "2022-04-23T06:31:11.543639Z",
     "iopub.status.busy": "2022-04-23T06:31:11.543125Z",
     "iopub.status.idle": "2022-04-23T06:31:11.546834Z",
     "shell.execute_reply": "2022-04-23T06:31:11.546309Z"
    },
    "papermill": {
     "duration": 0.086188,
     "end_time": "2022-04-23T06:31:11.548495",
     "exception": false,
     "start_time": "2022-04-23T06:31:11.462307",
     "status": "completed"
    },
    "tags": []
   },
   "outputs": [],
   "source": [
    "def demand(data,category):\n",
    "    return data[data['Category']==category]['Audience Country'].value_counts().sort_values(ascending=True).plot.barh(color=pallete)\n"
   ]
  },
  {
   "cell_type": "code",
   "execution_count": 41,
   "id": "340a2554",
   "metadata": {
    "execution": {
     "iopub.execute_input": "2022-04-23T06:31:11.709985Z",
     "iopub.status.busy": "2022-04-23T06:31:11.709710Z",
     "iopub.status.idle": "2022-04-23T06:31:11.880354Z",
     "shell.execute_reply": "2022-04-23T06:31:11.879508Z"
    },
    "papermill": {
     "duration": 0.255861,
     "end_time": "2022-04-23T06:31:11.882486",
     "exception": false,
     "start_time": "2022-04-23T06:31:11.626625",
     "status": "completed"
    },
    "tags": []
   },
   "outputs": [
    {
     "data": {
      "text/plain": [
       "<matplotlib.axes._subplots.AxesSubplot at 0x24a95465e08>"
      ]
     },
     "execution_count": 41,
     "metadata": {},
     "output_type": "execute_result"
    },
    {
     "data": {
      "image/png": "[encoded data removed]",
      "text/plain": [
       "<Figure size 432x288 with 1 Axes>"
      ]
     },
     "metadata": {
      "needs_background": "light"
     },
     "output_type": "display_data"
    }
   ],
   "source": [
    "demand(df_y,'Music & Dance')"
   ]
  },
  {
   "cell_type": "code",
   "execution_count": 42,
   "id": "5617947d",
   "metadata": {
    "execution": {
     "iopub.execute_input": "2022-04-23T06:31:12.202777Z",
     "iopub.status.busy": "2022-04-23T06:31:12.202484Z",
     "iopub.status.idle": "2022-04-23T06:31:12.468469Z",
     "shell.execute_reply": "2022-04-23T06:31:12.467610Z"
    },
    "papermill": {
     "duration": 0.349166,
     "end_time": "2022-04-23T06:31:12.471285",
     "exception": false,
     "start_time": "2022-04-23T06:31:12.122119",
     "status": "completed"
    },
    "tags": []
   },
   "outputs": [
    {
     "data": {
      "text/plain": [
       "<matplotlib.axes._subplots.AxesSubplot at 0x24a9512f548>"
      ]
     },
     "execution_count": 42,
     "metadata": {},
     "output_type": "execute_result"
    },
    {
     "data": {
      "image/png": "[encoded data removed]",
      "text/plain": [
       "<Figure size 432x288 with 1 Axes>"
      ]
     },
     "metadata": {
      "needs_background": "light"
     },
     "output_type": "display_data"
    }
   ],
   "source": [
    "demand(df_i,'Music')"
   ]
  },
  {
   "attachments": {},
   "cell_type": "markdown",
   "id": "e84bb7a5",
   "metadata": {
    "papermill": {
     "duration": 0.079378,
     "end_time": "2022-04-23T06:31:12.635281",
     "exception": false,
     "start_time": "2022-04-23T06:31:12.555903",
     "status": "completed"
    },
    "tags": []
   },
   "source": [
    "## For a sepecific category we can choose the country where a there is a huge online presence\n"
   ]
  },
  {
   "cell_type": "code",
   "execution_count": null,
   "id": "19ca515e",
   "metadata": {
    "papermill": {
     "duration": 0.08159,
     "end_time": "2022-04-23T06:31:12.796414",
     "exception": false,
     "start_time": "2022-04-23T06:31:12.714824",
     "status": "completed"
    },
    "tags": []
   },
   "outputs": [],
   "source": []
  },
  {
   "cell_type": "markdown",
   "id": "55f6fc9d",
   "metadata": {
    "papermill": {
     "duration": 0.081261,
     "end_time": "2022-04-23T06:31:12.957460",
     "exception": false,
     "start_time": "2022-04-23T06:31:12.876199",
     "status": "completed"
    },
    "tags": []
   },
   "source": [
    "# TOP 15 most followed channels on  youtube"
   ]
  },
  {
   "cell_type": "code",
   "execution_count": 43,
   "id": "2c93e90c",
   "metadata": {
    "execution": {
     "iopub.execute_input": "2022-04-23T06:31:13.121283Z",
     "iopub.status.busy": "2022-04-23T06:31:13.120811Z",
     "iopub.status.idle": "2022-04-23T06:31:13.131465Z",
     "shell.execute_reply": "2022-04-23T06:31:13.130604Z"
    },
    "papermill": {
     "duration": 0.095529,
     "end_time": "2022-04-23T06:31:13.133831",
     "exception": false,
     "start_time": "2022-04-23T06:31:13.038302",
     "status": "completed"
    },
    "tags": []
   },
   "outputs": [
    {
     "data": {
      "text/html": [
       "<div>\n",
       "<style scoped>\n",
       "    .dataframe tbody tr th:only-of-type {\n",
       "        vertical-align: middle;\n",
       "    }\n",
       "\n",
       "    .dataframe tbody tr th {\n",
       "        vertical-align: top;\n",
       "    }\n",
       "\n",
       "    .dataframe thead th {\n",
       "        text-align: right;\n",
       "    }\n",
       "</style>\n",
       "<table border=\"1\" class=\"dataframe\">\n",
       "  <thead>\n",
       "    <tr style=\"text-align: right;\">\n",
       "      <th></th>\n",
       "      <th>channel name</th>\n",
       "      <th>Category</th>\n",
       "      <th>Followers</th>\n",
       "    </tr>\n",
       "  </thead>\n",
       "  <tbody>\n",
       "    <tr>\n",
       "      <th>0</th>\n",
       "      <td>T-Series</td>\n",
       "      <td>Music &amp; Dance</td>\n",
       "      <td>212.1M</td>\n",
       "    </tr>\n",
       "    <tr>\n",
       "      <th>1</th>\n",
       "      <td>Cocomelon - Nursery Rhymes</td>\n",
       "      <td>Education</td>\n",
       "      <td>132.1M</td>\n",
       "    </tr>\n",
       "    <tr>\n",
       "      <th>2</th>\n",
       "      <td>SET India</td>\n",
       "      <td>NaN</td>\n",
       "      <td>130.4M</td>\n",
       "    </tr>\n",
       "    <tr>\n",
       "      <th>3</th>\n",
       "      <td>PewDiePie</td>\n",
       "      <td>Animation</td>\n",
       "      <td>111.4M</td>\n",
       "    </tr>\n",
       "    <tr>\n",
       "      <th>4</th>\n",
       "      <td>MrBeast</td>\n",
       "      <td>Video games</td>\n",
       "      <td>92.5M</td>\n",
       "    </tr>\n",
       "    <tr>\n",
       "      <th>5</th>\n",
       "      <td>✿ Kids Diana Show</td>\n",
       "      <td>Animation</td>\n",
       "      <td>92.4M</td>\n",
       "    </tr>\n",
       "    <tr>\n",
       "      <th>6</th>\n",
       "      <td>Like Nastya</td>\n",
       "      <td>Animation</td>\n",
       "      <td>90.1M</td>\n",
       "    </tr>\n",
       "    <tr>\n",
       "      <th>7</th>\n",
       "      <td>WWE</td>\n",
       "      <td>Video games</td>\n",
       "      <td>86.9M</td>\n",
       "    </tr>\n",
       "    <tr>\n",
       "      <th>8</th>\n",
       "      <td>Zee Music Company</td>\n",
       "      <td>Music &amp; Dance</td>\n",
       "      <td>82.7M</td>\n",
       "    </tr>\n",
       "    <tr>\n",
       "      <th>9</th>\n",
       "      <td>Vlad and Niki</td>\n",
       "      <td>Toys</td>\n",
       "      <td>80.4M</td>\n",
       "    </tr>\n",
       "  </tbody>\n",
       "</table>\n",
       "</div>"
      ],
      "text/plain": [
       "                 channel name       Category Followers\n",
       "0                    T-Series  Music & Dance    212.1M\n",
       "1  Cocomelon - Nursery Rhymes      Education    132.1M\n",
       "2                   SET India            NaN    130.4M\n",
       "3                   PewDiePie      Animation    111.4M\n",
       "4                     MrBeast    Video games     92.5M\n",
       "5           ✿ Kids Diana Show      Animation     92.4M\n",
       "6                 Like Nastya      Animation     90.1M\n",
       "7                         WWE    Video games     86.9M\n",
       "8           Zee Music Company  Music & Dance     82.7M\n",
       "9               Vlad and Niki           Toys     80.4M"
      ]
     },
     "execution_count": 43,
     "metadata": {},
     "output_type": "execute_result"
    }
   ],
   "source": [
    "df_y.iloc[0:10,[1,2,3]]\n",
    "# youtube dataset is already sorted"
   ]
  },
  {
   "cell_type": "code",
   "execution_count": 44,
   "id": "977b7891",
   "metadata": {
    "execution": {
     "iopub.execute_input": "2022-04-23T06:31:13.303795Z",
     "iopub.status.busy": "2022-04-23T06:31:13.303496Z",
     "iopub.status.idle": "2022-04-23T06:31:13.307964Z",
     "shell.execute_reply": "2022-04-23T06:31:13.307038Z"
    },
    "papermill": {
     "duration": 0.092524,
     "end_time": "2022-04-23T06:31:13.310023",
     "exception": false,
     "start_time": "2022-04-23T06:31:13.217499",
     "status": "completed"
    },
    "tags": []
   },
   "outputs": [],
   "source": [
    "ly=['Followers','avg views', 'avg likes', 'avg comments']"
   ]
  },
  {
   "cell_type": "code",
   "execution_count": null,
   "id": "a2e53ffe",
   "metadata": {
    "papermill": {
     "duration": 0.081079,
     "end_time": "2022-04-23T06:31:13.474014",
     "exception": false,
     "start_time": "2022-04-23T06:31:13.392935",
     "status": "completed"
    },
    "tags": []
   },
   "outputs": [],
   "source": []
  },
  {
   "attachments": {},
   "cell_type": "markdown",
   "id": "39a2f41d",
   "metadata": {
    "papermill": {
     "duration": 0.080314,
     "end_time": "2022-04-23T06:31:13.634560",
     "exception": false,
     "start_time": "2022-04-23T06:31:13.554246",
     "status": "completed"
    },
    "tags": []
   },
   "source": [
    "### Mini followers for advertisement on instagram"
   ]
  },
  {
   "cell_type": "code",
   "execution_count": 45,
   "id": "fe550ca4",
   "metadata": {
    "execution": {
     "iopub.execute_input": "2022-04-23T06:31:13.797530Z",
     "iopub.status.busy": "2022-04-23T06:31:13.797245Z",
     "iopub.status.idle": "2022-04-23T06:31:13.807885Z",
     "shell.execute_reply": "2022-04-23T06:31:13.807229Z"
    },
    "papermill": {
     "duration": 0.094119,
     "end_time": "2022-04-23T06:31:13.809601",
     "exception": false,
     "start_time": "2022-04-23T06:31:13.715482",
     "status": "completed"
    },
    "tags": []
   },
   "outputs": [
    {
     "data": {
      "text/plain": [
       "count    997.000000\n",
       "mean      25.539619\n",
       "std       40.586338\n",
       "min        2.600000\n",
       "25%        9.000000\n",
       "50%       14.600000\n",
       "75%       26.500000\n",
       "max      487.200000\n",
       "Name: newFollowers, dtype: float64"
      ]
     },
     "execution_count": 45,
     "metadata": {},
     "output_type": "execute_result"
    }
   ],
   "source": [
    "df_i['newFollowers'].describe()"
   ]
  },
  {
   "cell_type": "code",
   "execution_count": 47,
   "id": "adc9b4a7",
   "metadata": {
    "execution": {
     "iopub.execute_input": "2022-04-23T06:31:13.977621Z",
     "iopub.status.busy": "2022-04-23T06:31:13.976628Z",
     "iopub.status.idle": "2022-04-23T06:31:13.983840Z",
     "shell.execute_reply": "2022-04-23T06:31:13.983180Z"
    },
    "papermill": {
     "duration": 0.095483,
     "end_time": "2022-04-23T06:31:13.985847",
     "exception": false,
     "start_time": "2022-04-23T06:31:13.890364",
     "status": "completed"
    },
    "tags": []
   },
   "outputs": [
    {
     "data": {
      "text/plain": [
       "61.623999999999995"
      ]
     },
     "execution_count": 47,
     "metadata": {},
     "output_type": "execute_result"
    }
   ],
   "source": [
    "df_i['newFollowers'].quantile(0.94)"
   ]
  },
  {
   "cell_type": "markdown",
   "id": "2b747965",
   "metadata": {
    "papermill": {
     "duration": 0.081526,
     "end_time": "2022-04-23T06:31:14.151017",
     "exception": false,
     "start_time": "2022-04-23T06:31:14.069491",
     "status": "completed"
    },
    "tags": []
   },
   "source": [
    "#### 80million as threshhold"
   ]
  },
  {
   "cell_type": "code",
   "execution_count": 48,
   "id": "1a72c526",
   "metadata": {
    "execution": {
     "iopub.execute_input": "2022-04-23T06:31:14.314027Z",
     "iopub.status.busy": "2022-04-23T06:31:14.313589Z",
     "iopub.status.idle": "2022-04-23T06:31:14.324559Z",
     "shell.execute_reply": "2022-04-23T06:31:14.324051Z"
    },
    "papermill": {
     "duration": 0.09494,
     "end_time": "2022-04-23T06:31:14.326492",
     "exception": false,
     "start_time": "2022-04-23T06:31:14.231552",
     "status": "completed"
    },
    "tags": []
   },
   "outputs": [
    {
     "data": {
      "text/html": [
       "<div>\n",
       "<style scoped>\n",
       "    .dataframe tbody tr th:only-of-type {\n",
       "        vertical-align: middle;\n",
       "    }\n",
       "\n",
       "    .dataframe tbody tr th {\n",
       "        vertical-align: top;\n",
       "    }\n",
       "\n",
       "    .dataframe thead th {\n",
       "        text-align: right;\n",
       "    }\n",
       "</style>\n",
       "<table border=\"1\" class=\"dataframe\">\n",
       "  <thead>\n",
       "    <tr style=\"text-align: right;\">\n",
       "      <th></th>\n",
       "      <th>instagram name</th>\n",
       "      <th>Category</th>\n",
       "      <th>category_2</th>\n",
       "      <th>Followers</th>\n",
       "      <th>Audience Country</th>\n",
       "      <th>newFollowers</th>\n",
       "      <th>Engagement Rate</th>\n",
       "    </tr>\n",
       "  </thead>\n",
       "  <tbody>\n",
       "    <tr>\n",
       "      <th>0</th>\n",
       "      <td>433</td>\n",
       "      <td>Sports with a ball</td>\n",
       "      <td>NaN</td>\n",
       "      <td>48.5M</td>\n",
       "      <td>Spain</td>\n",
       "      <td>48.5</td>\n",
       "      <td>1.313</td>\n",
       "    </tr>\n",
       "    <tr>\n",
       "      <th>1</th>\n",
       "      <td>TAEYANG</td>\n",
       "      <td>Music</td>\n",
       "      <td>NaN</td>\n",
       "      <td>12.7M</td>\n",
       "      <td>Indonesia</td>\n",
       "      <td>12.7</td>\n",
       "      <td>4.270</td>\n",
       "    </tr>\n",
       "  </tbody>\n",
       "</table>\n",
       "</div>"
      ],
      "text/plain": [
       "  instagram name            Category category_2 Followers Audience Country  \\\n",
       "0            433  Sports with a ball        NaN     48.5M            Spain   \n",
       "1        TAEYANG               Music        NaN     12.7M        Indonesia   \n",
       "\n",
       "   newFollowers  Engagement Rate  \n",
       "0          48.5            1.313  \n",
       "1          12.7            4.270  "
      ]
     },
     "execution_count": 48,
     "metadata": {},
     "output_type": "execute_result"
    }
   ],
   "source": [
    "df_i.head(2)"
   ]
  },
  {
   "attachments": {},
   "cell_type": "markdown",
   "id": "567dfd37",
   "metadata": {
    "papermill": {
     "duration": 0.081388,
     "end_time": "2022-04-23T06:31:14.489021",
     "exception": false,
     "start_time": "2022-04-23T06:31:14.407633",
     "status": "completed"
    },
    "tags": []
   },
   "source": [
    "## Mini influencers "
   ]
  },
  {
   "cell_type": "code",
   "execution_count": 75,
   "id": "1b585f4b",
   "metadata": {
    "execution": {
     "iopub.execute_input": "2022-04-23T06:31:14.653431Z",
     "iopub.status.busy": "2022-04-23T06:31:14.652919Z",
     "iopub.status.idle": "2022-04-23T06:31:14.657581Z",
     "shell.execute_reply": "2022-04-23T06:31:14.657037Z"
    },
    "papermill": {
     "duration": 0.089294,
     "end_time": "2022-04-23T06:31:14.659230",
     "exception": false,
     "start_time": "2022-04-23T06:31:14.569936",
     "status": "completed"
    },
    "tags": []
   },
   "outputs": [],
   "source": [
    "def for_mini_followers_instagram(coun,cat):\n",
    "    df1=df_i[df_i['Audience Country']==coun]\n",
    "    df1_mini=df1[df1['newFollowers']<80]\n",
    "    return df1_mini.sort_values(by='Engagement Rate',ascending=False).groupby('Category').get_group(cat).iloc[:,[0,3,-1]]\n",
    "    \n",
    "    "
   ]
  },
  {
   "cell_type": "code",
   "execution_count": 76,
   "id": "b7cd7d96",
   "metadata": {
    "execution": {
     "iopub.execute_input": "2022-04-23T06:31:14.825744Z",
     "iopub.status.busy": "2022-04-23T06:31:14.825243Z",
     "iopub.status.idle": "2022-04-23T06:31:14.837962Z",
     "shell.execute_reply": "2022-04-23T06:31:14.836946Z"
    },
    "papermill": {
     "duration": 0.099284,
     "end_time": "2022-04-23T06:31:14.840049",
     "exception": false,
     "start_time": "2022-04-23T06:31:14.740765",
     "status": "completed"
    },
    "tags": []
   },
   "outputs": [
    {
     "data": {
      "text/html": [
       "<div>\n",
       "<style scoped>\n",
       "    .dataframe tbody tr th:only-of-type {\n",
       "        vertical-align: middle;\n",
       "    }\n",
       "\n",
       "    .dataframe tbody tr th {\n",
       "        vertical-align: top;\n",
       "    }\n",
       "\n",
       "    .dataframe thead th {\n",
       "        text-align: right;\n",
       "    }\n",
       "</style>\n",
       "<table border=\"1\" class=\"dataframe\">\n",
       "  <thead>\n",
       "    <tr style=\"text-align: right;\">\n",
       "      <th></th>\n",
       "      <th>instagram name</th>\n",
       "      <th>Followers</th>\n",
       "      <th>Engagement Rate</th>\n",
       "    </tr>\n",
       "  </thead>\n",
       "  <tbody>\n",
       "    <tr>\n",
       "      <th>968</th>\n",
       "      <td>MAKE OUT HILL</td>\n",
       "      <td>20.2M</td>\n",
       "      <td>102.970</td>\n",
       "    </tr>\n",
       "    <tr>\n",
       "      <th>954</th>\n",
       "      <td>Wilbur Soot</td>\n",
       "      <td>3.2M</td>\n",
       "      <td>27.597</td>\n",
       "    </tr>\n",
       "    <tr>\n",
       "      <th>727</th>\n",
       "      <td>NaN</td>\n",
       "      <td>8M</td>\n",
       "      <td>26.250</td>\n",
       "    </tr>\n",
       "    <tr>\n",
       "      <th>466</th>\n",
       "      <td>NaN</td>\n",
       "      <td>3.7M</td>\n",
       "      <td>18.641</td>\n",
       "    </tr>\n",
       "    <tr>\n",
       "      <th>248</th>\n",
       "      <td>Doja Cat</td>\n",
       "      <td>22.4M</td>\n",
       "      <td>17.411</td>\n",
       "    </tr>\n",
       "    <tr>\n",
       "      <th>...</th>\n",
       "      <td>...</td>\n",
       "      <td>...</td>\n",
       "      <td>...</td>\n",
       "    </tr>\n",
       "    <tr>\n",
       "      <th>681</th>\n",
       "      <td>Nick Jonas</td>\n",
       "      <td>32.3M</td>\n",
       "      <td>0.721</td>\n",
       "    </tr>\n",
       "    <tr>\n",
       "      <th>460</th>\n",
       "      <td>Justin Timberlake</td>\n",
       "      <td>64.2M</td>\n",
       "      <td>0.674</td>\n",
       "    </tr>\n",
       "    <tr>\n",
       "      <th>149</th>\n",
       "      <td>Britney Spears</td>\n",
       "      <td>40.2M</td>\n",
       "      <td>0.626</td>\n",
       "    </tr>\n",
       "    <tr>\n",
       "      <th>306</th>\n",
       "      <td>French Montana</td>\n",
       "      <td>24.5M</td>\n",
       "      <td>0.619</td>\n",
       "    </tr>\n",
       "    <tr>\n",
       "      <th>882</th>\n",
       "      <td>Ed Sheeran</td>\n",
       "      <td>37.7M</td>\n",
       "      <td>0.583</td>\n",
       "    </tr>\n",
       "  </tbody>\n",
       "</table>\n",
       "<p>71 rows × 3 columns</p>\n",
       "</div>"
      ],
      "text/plain": [
       "        instagram name Followers  Engagement Rate\n",
       "968      MAKE OUT HILL     20.2M          102.970\n",
       "954        Wilbur Soot      3.2M           27.597\n",
       "727                NaN        8M           26.250\n",
       "466                NaN      3.7M           18.641\n",
       "248           Doja Cat     22.4M           17.411\n",
       "..                 ...       ...              ...\n",
       "681         Nick Jonas     32.3M            0.721\n",
       "460  Justin Timberlake     64.2M            0.674\n",
       "149     Britney Spears     40.2M            0.626\n",
       "306     French Montana     24.5M            0.619\n",
       "882         Ed Sheeran     37.7M            0.583\n",
       "\n",
       "[71 rows x 3 columns]"
      ]
     },
     "execution_count": 76,
     "metadata": {},
     "output_type": "execute_result"
    }
   ],
   "source": [
    "for_mini_followers_instagram('United States','Music')"
   ]
  },
  {
   "attachments": {},
   "cell_type": "markdown",
   "id": "c34f0dc0",
   "metadata": {
    "execution": {
     "iopub.execute_input": "2022-04-23T06:25:44.527034Z",
     "iopub.status.busy": "2022-04-23T06:25:44.526736Z",
     "iopub.status.idle": "2022-04-23T06:25:44.531262Z",
     "shell.execute_reply": "2022-04-23T06:25:44.530163Z",
     "shell.execute_reply.started": "2022-04-23T06:25:44.527004Z"
    },
    "papermill": {
     "duration": 0.081726,
     "end_time": "2022-04-23T06:31:15.007040",
     "exception": false,
     "start_time": "2022-04-23T06:31:14.925314",
     "status": "completed"
    },
    "tags": []
   },
   "source": [
    "## Mega influencers"
   ]
  },
  {
   "cell_type": "code",
   "execution_count": 68,
   "id": "363338da",
   "metadata": {
    "execution": {
     "iopub.execute_input": "2022-04-23T06:31:15.175411Z",
     "iopub.status.busy": "2022-04-23T06:31:15.174880Z",
     "iopub.status.idle": "2022-04-23T06:31:15.179663Z",
     "shell.execute_reply": "2022-04-23T06:31:15.179035Z"
    },
    "papermill": {
     "duration": 0.09129,
     "end_time": "2022-04-23T06:31:15.181450",
     "exception": false,
     "start_time": "2022-04-23T06:31:15.090160",
     "status": "completed"
    },
    "tags": []
   },
   "outputs": [],
   "source": [
    "def for_mega_followers_instagram(coun,cat):\n",
    "    df1=df_i[df_i['Audience Country']==coun]\n",
    "    df1_mini=df1[df1['newFollowers']>80]\n",
    "    return df1_mini.sort_values(by='Engagement Rate',ascending=False).groupby('Category').get_group(cat).iloc[:,[0,3,-1]]\n",
    "    \n",
    "    "
   ]
  },
  {
   "cell_type": "code",
   "execution_count": 69,
   "id": "216b447e",
   "metadata": {
    "execution": {
     "iopub.execute_input": "2022-04-23T06:31:15.349974Z",
     "iopub.status.busy": "2022-04-23T06:31:15.349464Z",
     "iopub.status.idle": "2022-04-23T06:31:15.360548Z",
     "shell.execute_reply": "2022-04-23T06:31:15.359959Z"
    },
    "papermill": {
     "duration": 0.096948,
     "end_time": "2022-04-23T06:31:15.362327",
     "exception": false,
     "start_time": "2022-04-23T06:31:15.265379",
     "status": "completed"
    },
    "tags": []
   },
   "outputs": [
    {
     "data": {
      "text/html": [
       "<div>\n",
       "<style scoped>\n",
       "    .dataframe tbody tr th:only-of-type {\n",
       "        vertical-align: middle;\n",
       "    }\n",
       "\n",
       "    .dataframe tbody tr th {\n",
       "        vertical-align: top;\n",
       "    }\n",
       "\n",
       "    .dataframe thead th {\n",
       "        text-align: right;\n",
       "    }\n",
       "</style>\n",
       "<table border=\"1\" class=\"dataframe\">\n",
       "  <thead>\n",
       "    <tr style=\"text-align: right;\">\n",
       "      <th></th>\n",
       "      <th>instagram name</th>\n",
       "      <th>Followers</th>\n",
       "      <th>Engagement Rate</th>\n",
       "    </tr>\n",
       "  </thead>\n",
       "  <tbody>\n",
       "    <tr>\n",
       "      <th>111</th>\n",
       "      <td>badgalriri</td>\n",
       "      <td>125.1M</td>\n",
       "      <td>3.677</td>\n",
       "    </tr>\n",
       "    <tr>\n",
       "      <th>133</th>\n",
       "      <td>BILLIE EILISH</td>\n",
       "      <td>101.7M</td>\n",
       "      <td>3.343</td>\n",
       "    </tr>\n",
       "    <tr>\n",
       "      <th>372</th>\n",
       "      <td>Cardi B</td>\n",
       "      <td>127.2M</td>\n",
       "      <td>2.594</td>\n",
       "    </tr>\n",
       "    <tr>\n",
       "      <th>126</th>\n",
       "      <td>Beyoncé</td>\n",
       "      <td>246.9M</td>\n",
       "      <td>1.499</td>\n",
       "    </tr>\n",
       "    <tr>\n",
       "      <th>814</th>\n",
       "      <td>Selena Gomez</td>\n",
       "      <td>308.2M</td>\n",
       "      <td>1.428</td>\n",
       "    </tr>\n",
       "    <tr>\n",
       "      <th>87</th>\n",
       "      <td>Ariana Grande</td>\n",
       "      <td>302.3M</td>\n",
       "      <td>1.356</td>\n",
       "    </tr>\n",
       "    <tr>\n",
       "      <th>630</th>\n",
       "      <td>Miley Cyrus</td>\n",
       "      <td>163.8M</td>\n",
       "      <td>0.363</td>\n",
       "    </tr>\n",
       "    <tr>\n",
       "      <th>680</th>\n",
       "      <td>Barbie</td>\n",
       "      <td>181.6M</td>\n",
       "      <td>0.339</td>\n",
       "    </tr>\n",
       "    <tr>\n",
       "      <th>225</th>\n",
       "      <td>Demi Lovato</td>\n",
       "      <td>128.7M</td>\n",
       "      <td>0.325</td>\n",
       "    </tr>\n",
       "    <tr>\n",
       "      <th>435</th>\n",
       "      <td>Jennifer Lopez</td>\n",
       "      <td>200.8M</td>\n",
       "      <td>0.274</td>\n",
       "    </tr>\n",
       "    <tr>\n",
       "      <th>187</th>\n",
       "      <td>BREEZY</td>\n",
       "      <td>106M</td>\n",
       "      <td>0.228</td>\n",
       "    </tr>\n",
       "  </tbody>\n",
       "</table>\n",
       "</div>"
      ],
      "text/plain": [
       "     instagram name Followers  Engagement Rate\n",
       "111      badgalriri    125.1M            3.677\n",
       "133   BILLIE EILISH    101.7M            3.343\n",
       "372         Cardi B    127.2M            2.594\n",
       "126        Beyoncé    246.9M            1.499\n",
       "814    Selena Gomez    308.2M            1.428\n",
       "87    Ariana Grande    302.3M            1.356\n",
       "630     Miley Cyrus    163.8M            0.363\n",
       "680          Barbie    181.6M            0.339\n",
       "225     Demi Lovato    128.7M            0.325\n",
       "435  Jennifer Lopez    200.8M            0.274\n",
       "187          BREEZY      106M            0.228"
      ]
     },
     "execution_count": 69,
     "metadata": {},
     "output_type": "execute_result"
    }
   ],
   "source": [
    "for_mega_followers_instagram('United States','Music')"
   ]
  },
  {
   "cell_type": "code",
   "execution_count": 53,
   "id": "c73a5cc6",
   "metadata": {
    "execution": {
     "iopub.execute_input": "2022-04-23T06:31:16.458412Z",
     "iopub.status.busy": "2022-04-23T06:31:16.457999Z",
     "iopub.status.idle": "2022-04-23T06:31:16.469687Z",
     "shell.execute_reply": "2022-04-23T06:31:16.468913Z"
    },
    "papermill": {
     "duration": 0.099128,
     "end_time": "2022-04-23T06:31:16.471506",
     "exception": false,
     "start_time": "2022-04-23T06:31:16.372378",
     "status": "completed"
    },
    "tags": []
   },
   "outputs": [
    {
     "data": {
      "text/html": [
       "<div>\n",
       "<style scoped>\n",
       "    .dataframe tbody tr th:only-of-type {\n",
       "        vertical-align: middle;\n",
       "    }\n",
       "\n",
       "    .dataframe tbody tr th {\n",
       "        vertical-align: top;\n",
       "    }\n",
       "\n",
       "    .dataframe thead th {\n",
       "        text-align: right;\n",
       "    }\n",
       "</style>\n",
       "<table border=\"1\" class=\"dataframe\">\n",
       "  <thead>\n",
       "    <tr style=\"text-align: right;\">\n",
       "      <th></th>\n",
       "      <th>youtuber name</th>\n",
       "      <th>channel name</th>\n",
       "      <th>Category</th>\n",
       "      <th>Followers</th>\n",
       "      <th>Audience Country</th>\n",
       "      <th>avg views</th>\n",
       "      <th>avg likes</th>\n",
       "      <th>avg comments</th>\n",
       "    </tr>\n",
       "  </thead>\n",
       "  <tbody>\n",
       "    <tr>\n",
       "      <th>0</th>\n",
       "      <td>tseries</td>\n",
       "      <td>T-Series</td>\n",
       "      <td>Music &amp; Dance</td>\n",
       "      <td>212.1M</td>\n",
       "      <td>India</td>\n",
       "      <td>323.7K</td>\n",
       "      <td>9.8K</td>\n",
       "      <td>290</td>\n",
       "    </tr>\n",
       "    <tr>\n",
       "      <th>1</th>\n",
       "      <td>checkgate</td>\n",
       "      <td>Cocomelon - Nursery Rhymes</td>\n",
       "      <td>Education</td>\n",
       "      <td>132.1M</td>\n",
       "      <td>NaN</td>\n",
       "      <td>13.8M</td>\n",
       "      <td>80.9K</td>\n",
       "      <td>NaN</td>\n",
       "    </tr>\n",
       "    <tr>\n",
       "      <th>2</th>\n",
       "      <td>setindia</td>\n",
       "      <td>SET India</td>\n",
       "      <td>NaN</td>\n",
       "      <td>130.4M</td>\n",
       "      <td>India</td>\n",
       "      <td>23.6K</td>\n",
       "      <td>314</td>\n",
       "      <td>21</td>\n",
       "    </tr>\n",
       "  </tbody>\n",
       "</table>\n",
       "</div>"
      ],
      "text/plain": [
       "  youtuber name                channel name       Category Followers  \\\n",
       "0       tseries                    T-Series  Music & Dance    212.1M   \n",
       "1     checkgate  Cocomelon - Nursery Rhymes      Education    132.1M   \n",
       "2      setindia                   SET India            NaN    130.4M   \n",
       "\n",
       "  Audience Country avg views avg likes avg comments  \n",
       "0            India    323.7K      9.8K          290  \n",
       "1              NaN     13.8M     80.9K          NaN  \n",
       "2            India     23.6K       314           21  "
      ]
     },
     "execution_count": 53,
     "metadata": {},
     "output_type": "execute_result"
    }
   ],
   "source": [
    "df_y.head(3)"
   ]
  },
  {
   "cell_type": "code",
   "execution_count": 54,
   "id": "bcb3e595",
   "metadata": {
    "execution": {
     "iopub.execute_input": "2022-04-23T06:31:16.642194Z",
     "iopub.status.busy": "2022-04-23T06:31:16.641793Z",
     "iopub.status.idle": "2022-04-23T06:31:16.649319Z",
     "shell.execute_reply": "2022-04-23T06:31:16.648507Z"
    },
    "papermill": {
     "duration": 0.095065,
     "end_time": "2022-04-23T06:31:16.650989",
     "exception": false,
     "start_time": "2022-04-23T06:31:16.555924",
     "status": "completed"
    },
    "tags": []
   },
   "outputs": [
    {
     "data": {
      "text/plain": [
       "youtuber name         0\n",
       "channel name          0\n",
       "Category            276\n",
       "Followers             0\n",
       "Audience Country    161\n",
       "avg views             0\n",
       "avg likes            38\n",
       "avg comments        209\n",
       "dtype: int64"
      ]
     },
     "execution_count": 54,
     "metadata": {},
     "output_type": "execute_result"
    }
   ],
   "source": [
    "df_y.isnull().sum()"
   ]
  },
  {
   "attachments": {},
   "cell_type": "markdown",
   "id": "22f50afc",
   "metadata": {
    "papermill": {
     "duration": 0.086108,
     "end_time": "2022-04-23T06:31:16.822846",
     "exception": false,
     "start_time": "2022-04-23T06:31:16.736738",
     "status": "completed"
    },
    "tags": []
   },
   "source": [
    "#### Remove NaN values"
   ]
  },
  {
   "cell_type": "code",
   "execution_count": 55,
   "id": "e84be971",
   "metadata": {
    "execution": {
     "iopub.execute_input": "2022-04-23T06:31:16.993931Z",
     "iopub.status.busy": "2022-04-23T06:31:16.993688Z",
     "iopub.status.idle": "2022-04-23T06:31:17.002847Z",
     "shell.execute_reply": "2022-04-23T06:31:17.002334Z"
    },
    "papermill": {
     "duration": 0.0967,
     "end_time": "2022-04-23T06:31:17.004424",
     "exception": false,
     "start_time": "2022-04-23T06:31:16.907724",
     "status": "completed"
    },
    "tags": []
   },
   "outputs": [
    {
     "data": {
      "text/plain": [
       "youtuber name         0\n",
       "channel name          0\n",
       "Category            215\n",
       "Followers             0\n",
       "Audience Country      0\n",
       "avg views             0\n",
       "avg likes             0\n",
       "avg comments          0\n",
       "dtype: int64"
      ]
     },
     "execution_count": 55,
     "metadata": {},
     "output_type": "execute_result"
    }
   ],
   "source": [
    "df_y.dropna(axis=0,how='any',subset=['avg likes','avg comments']).isnull().sum()"
   ]
  },
  {
   "cell_type": "code",
   "execution_count": 56,
   "id": "4322450a",
   "metadata": {
    "execution": {
     "iopub.execute_input": "2022-04-23T06:31:17.353449Z",
     "iopub.status.busy": "2022-04-23T06:31:17.352949Z",
     "iopub.status.idle": "2022-04-23T06:31:17.358626Z",
     "shell.execute_reply": "2022-04-23T06:31:17.358052Z"
    },
    "papermill": {
     "duration": 0.094193,
     "end_time": "2022-04-23T06:31:17.360446",
     "exception": false,
     "start_time": "2022-04-23T06:31:17.266253",
     "status": "completed"
    },
    "tags": []
   },
   "outputs": [],
   "source": [
    "df_y.dropna(axis=0,how='any',subset=['avg likes','avg comments'],inplace=True)"
   ]
  },
  {
   "cell_type": "code",
   "execution_count": 57,
   "id": "6107e5fe",
   "metadata": {
    "execution": {
     "iopub.execute_input": "2022-04-23T06:31:17.533124Z",
     "iopub.status.busy": "2022-04-23T06:31:17.532655Z",
     "iopub.status.idle": "2022-04-23T06:31:17.565955Z",
     "shell.execute_reply": "2022-04-23T06:31:17.565412Z"
    },
    "papermill": {
     "duration": 0.121844,
     "end_time": "2022-04-23T06:31:17.567853",
     "exception": false,
     "start_time": "2022-04-23T06:31:17.446009",
     "status": "completed"
    },
    "tags": []
   },
   "outputs": [
    {
     "data": {
      "text/html": [
       "<div>\n",
       "<style scoped>\n",
       "    .dataframe tbody tr th:only-of-type {\n",
       "        vertical-align: middle;\n",
       "    }\n",
       "\n",
       "    .dataframe tbody tr th {\n",
       "        vertical-align: top;\n",
       "    }\n",
       "\n",
       "    .dataframe thead th {\n",
       "        text-align: right;\n",
       "    }\n",
       "</style>\n",
       "<table border=\"1\" class=\"dataframe\">\n",
       "  <thead>\n",
       "    <tr style=\"text-align: right;\">\n",
       "      <th></th>\n",
       "      <th>youtuber name</th>\n",
       "      <th>channel name</th>\n",
       "      <th>Category</th>\n",
       "      <th>Followers</th>\n",
       "      <th>Audience Country</th>\n",
       "      <th>avg views</th>\n",
       "      <th>avg likes</th>\n",
       "      <th>avg comments</th>\n",
       "      <th>newFollowers</th>\n",
       "      <th>newavg views</th>\n",
       "      <th>newavg likes</th>\n",
       "      <th>newavg comments</th>\n",
       "    </tr>\n",
       "  </thead>\n",
       "  <tbody>\n",
       "    <tr>\n",
       "      <th>0</th>\n",
       "      <td>tseries</td>\n",
       "      <td>T-Series</td>\n",
       "      <td>Music &amp; Dance</td>\n",
       "      <td>212.1M</td>\n",
       "      <td>India</td>\n",
       "      <td>323.7K</td>\n",
       "      <td>9.8K</td>\n",
       "      <td>290</td>\n",
       "      <td>212100000.0</td>\n",
       "      <td>323700.0</td>\n",
       "      <td>9800.0</td>\n",
       "      <td>290.0</td>\n",
       "    </tr>\n",
       "    <tr>\n",
       "      <th>2</th>\n",
       "      <td>setindia</td>\n",
       "      <td>SET India</td>\n",
       "      <td>NaN</td>\n",
       "      <td>130.4M</td>\n",
       "      <td>India</td>\n",
       "      <td>23.6K</td>\n",
       "      <td>314</td>\n",
       "      <td>21</td>\n",
       "      <td>130400000.0</td>\n",
       "      <td>23600.0</td>\n",
       "      <td>314.0</td>\n",
       "      <td>21.0</td>\n",
       "    </tr>\n",
       "    <tr>\n",
       "      <th>3</th>\n",
       "      <td>PewDiePie</td>\n",
       "      <td>PewDiePie</td>\n",
       "      <td>Animation</td>\n",
       "      <td>111.4M</td>\n",
       "      <td>United States</td>\n",
       "      <td>1.4M</td>\n",
       "      <td>80.8K</td>\n",
       "      <td>4.6K</td>\n",
       "      <td>111400000.0</td>\n",
       "      <td>1400000.0</td>\n",
       "      <td>80800.0</td>\n",
       "      <td>4600.0</td>\n",
       "    </tr>\n",
       "    <tr>\n",
       "      <th>4</th>\n",
       "      <td>MrBeast6000</td>\n",
       "      <td>MrBeast</td>\n",
       "      <td>Video games</td>\n",
       "      <td>92.5M</td>\n",
       "      <td>United States</td>\n",
       "      <td>30.6M</td>\n",
       "      <td>1.7M</td>\n",
       "      <td>67.7K</td>\n",
       "      <td>92500000.0</td>\n",
       "      <td>30600000.0</td>\n",
       "      <td>1700000.0</td>\n",
       "      <td>67700.0</td>\n",
       "    </tr>\n",
       "    <tr>\n",
       "      <th>7</th>\n",
       "      <td>WWEFanNation</td>\n",
       "      <td>WWE</td>\n",
       "      <td>Video games</td>\n",
       "      <td>86.9M</td>\n",
       "      <td>United States</td>\n",
       "      <td>76.6K</td>\n",
       "      <td>2.8K</td>\n",
       "      <td>163</td>\n",
       "      <td>86900000.0</td>\n",
       "      <td>76600.0</td>\n",
       "      <td>2800.0</td>\n",
       "      <td>163.0</td>\n",
       "    </tr>\n",
       "    <tr>\n",
       "      <th>...</th>\n",
       "      <td>...</td>\n",
       "      <td>...</td>\n",
       "      <td>...</td>\n",
       "      <td>...</td>\n",
       "      <td>...</td>\n",
       "      <td>...</td>\n",
       "      <td>...</td>\n",
       "      <td>...</td>\n",
       "      <td>...</td>\n",
       "      <td>...</td>\n",
       "      <td>...</td>\n",
       "      <td>...</td>\n",
       "    </tr>\n",
       "    <tr>\n",
       "      <th>995</th>\n",
       "      <td>FutParódias</td>\n",
       "      <td>FutParódias</td>\n",
       "      <td>Music &amp; Dance</td>\n",
       "      <td>9.2M</td>\n",
       "      <td>Brazil</td>\n",
       "      <td>1.4M</td>\n",
       "      <td>110.1K</td>\n",
       "      <td>2.5K</td>\n",
       "      <td>9200000.0</td>\n",
       "      <td>1400000.0</td>\n",
       "      <td>110100.0</td>\n",
       "      <td>2500.0</td>\n",
       "    </tr>\n",
       "    <tr>\n",
       "      <th>996</th>\n",
       "      <td>EL GATO</td>\n",
       "      <td>EL GATO</td>\n",
       "      <td>Toys</td>\n",
       "      <td>9.2M</td>\n",
       "      <td>Brazil</td>\n",
       "      <td>243.8K</td>\n",
       "      <td>30.7K</td>\n",
       "      <td>636</td>\n",
       "      <td>9200000.0</td>\n",
       "      <td>243800.0</td>\n",
       "      <td>30700.0</td>\n",
       "      <td>636.0</td>\n",
       "    </tr>\n",
       "    <tr>\n",
       "      <th>997</th>\n",
       "      <td>CinemaSins</td>\n",
       "      <td>CinemaSins</td>\n",
       "      <td>Movies</td>\n",
       "      <td>9.2M</td>\n",
       "      <td>United States</td>\n",
       "      <td>296K</td>\n",
       "      <td>10.2K</td>\n",
       "      <td>874</td>\n",
       "      <td>9200000.0</td>\n",
       "      <td>296000.0</td>\n",
       "      <td>10200.0</td>\n",
       "      <td>874.0</td>\n",
       "    </tr>\n",
       "    <tr>\n",
       "      <th>998</th>\n",
       "      <td>CricketICC</td>\n",
       "      <td>ICC</td>\n",
       "      <td>Sports</td>\n",
       "      <td>9.2M</td>\n",
       "      <td>India</td>\n",
       "      <td>15.2K</td>\n",
       "      <td>854</td>\n",
       "      <td>58</td>\n",
       "      <td>9200000.0</td>\n",
       "      <td>15200.0</td>\n",
       "      <td>854.0</td>\n",
       "      <td>58.0</td>\n",
       "    </tr>\n",
       "    <tr>\n",
       "      <th>999</th>\n",
       "      <td>BRKsEDU</td>\n",
       "      <td>BRKsEDU</td>\n",
       "      <td>Animation</td>\n",
       "      <td>9.2M</td>\n",
       "      <td>Brazil</td>\n",
       "      <td>112.3K</td>\n",
       "      <td>9.8K</td>\n",
       "      <td>246</td>\n",
       "      <td>9200000.0</td>\n",
       "      <td>112300.0</td>\n",
       "      <td>9800.0</td>\n",
       "      <td>246.0</td>\n",
       "    </tr>\n",
       "  </tbody>\n",
       "</table>\n",
       "<p>786 rows × 12 columns</p>\n",
       "</div>"
      ],
      "text/plain": [
       "    youtuber name channel name       Category Followers Audience Country  \\\n",
       "0         tseries     T-Series  Music & Dance    212.1M            India   \n",
       "2        setindia    SET India            NaN    130.4M            India   \n",
       "3       PewDiePie    PewDiePie      Animation    111.4M    United States   \n",
       "4     MrBeast6000      MrBeast    Video games     92.5M    United States   \n",
       "7    WWEFanNation          WWE    Video games     86.9M    United States   \n",
       "..            ...          ...            ...       ...              ...   \n",
       "995   FutParódias  FutParódias  Music & Dance      9.2M           Brazil   \n",
       "996       EL GATO      EL GATO           Toys      9.2M           Brazil   \n",
       "997    CinemaSins   CinemaSins         Movies      9.2M    United States   \n",
       "998    CricketICC          ICC         Sports      9.2M            India   \n",
       "999       BRKsEDU      BRKsEDU      Animation      9.2M           Brazil   \n",
       "\n",
       "    avg views avg likes avg comments  newFollowers  newavg views  \\\n",
       "0      323.7K      9.8K          290   212100000.0      323700.0   \n",
       "2       23.6K       314           21   130400000.0       23600.0   \n",
       "3        1.4M     80.8K         4.6K   111400000.0     1400000.0   \n",
       "4       30.6M      1.7M        67.7K    92500000.0    30600000.0   \n",
       "7       76.6K      2.8K          163    86900000.0       76600.0   \n",
       "..        ...       ...          ...           ...           ...   \n",
       "995      1.4M    110.1K         2.5K     9200000.0     1400000.0   \n",
       "996    243.8K     30.7K          636     9200000.0      243800.0   \n",
       "997      296K     10.2K          874     9200000.0      296000.0   \n",
       "998     15.2K       854           58     9200000.0       15200.0   \n",
       "999    112.3K      9.8K          246     9200000.0      112300.0   \n",
       "\n",
       "     newavg likes  newavg comments  \n",
       "0          9800.0            290.0  \n",
       "2           314.0             21.0  \n",
       "3         80800.0           4600.0  \n",
       "4       1700000.0          67700.0  \n",
       "7          2800.0            163.0  \n",
       "..            ...              ...  \n",
       "995      110100.0           2500.0  \n",
       "996       30700.0            636.0  \n",
       "997       10200.0            874.0  \n",
       "998         854.0             58.0  \n",
       "999        9800.0            246.0  \n",
       "\n",
       "[786 rows x 12 columns]"
      ]
     },
     "execution_count": 57,
     "metadata": {},
     "output_type": "execute_result"
    }
   ],
   "source": [
    "change(df_y,ly)"
   ]
  },
  {
   "cell_type": "code",
   "execution_count": 59,
   "id": "44510272",
   "metadata": {
    "execution": {
     "iopub.execute_input": "2022-04-23T06:31:17.742745Z",
     "iopub.status.busy": "2022-04-23T06:31:17.741887Z",
     "iopub.status.idle": "2022-04-23T06:31:17.745828Z",
     "shell.execute_reply": "2022-04-23T06:31:17.745267Z"
    },
    "papermill": {
     "duration": 0.092681,
     "end_time": "2022-04-23T06:31:17.747588",
     "exception": false,
     "start_time": "2022-04-23T06:31:17.654907",
     "status": "completed"
    },
    "tags": []
   },
   "outputs": [
    {
     "data": {
      "text/plain": [
       "Music & Dance           65\n",
       "Video games             34\n",
       "Animation               26\n",
       "Humor                   18\n",
       "Movies                  17\n",
       "Science & Technology    10\n",
       "News & Politics          9\n",
       "Food & Drinks            8\n",
       "DIY & Life Hacks         7\n",
       "Sports                   7\n",
       "Daily vlogs              4\n",
       "Animals & Pets           4\n",
       "Fashion                  4\n",
       "Education                4\n",
       "Fitness                  3\n",
       "Design/art               2\n",
       "Beauty                   2\n",
       "Health & Self Help       2\n",
       "ASMR                     1\n",
       "Toys                     1\n",
       "Mystery                  1\n",
       "Name: Category, dtype: int64"
      ]
     },
     "execution_count": 59,
     "metadata": {},
     "output_type": "execute_result"
    }
   ],
   "source": [
    "df_y[df_y['Audience Country']=='United States']['Category'].value_counts()"
   ]
  },
  {
   "cell_type": "code",
   "execution_count": 60,
   "id": "15842a8c",
   "metadata": {
    "execution": {
     "iopub.execute_input": "2022-04-23T06:31:17.922315Z",
     "iopub.status.busy": "2022-04-23T06:31:17.921567Z",
     "iopub.status.idle": "2022-04-23T06:31:17.925804Z",
     "shell.execute_reply": "2022-04-23T06:31:17.925137Z"
    },
    "papermill": {
     "duration": 0.093659,
     "end_time": "2022-04-23T06:31:17.927821",
     "exception": false,
     "start_time": "2022-04-23T06:31:17.834162",
     "status": "completed"
    },
    "tags": []
   },
   "outputs": [
    {
     "data": {
      "text/html": [
       "<div>\n",
       "<style scoped>\n",
       "    .dataframe tbody tr th:only-of-type {\n",
       "        vertical-align: middle;\n",
       "    }\n",
       "\n",
       "    .dataframe tbody tr th {\n",
       "        vertical-align: top;\n",
       "    }\n",
       "\n",
       "    .dataframe thead th {\n",
       "        text-align: right;\n",
       "    }\n",
       "</style>\n",
       "<table border=\"1\" class=\"dataframe\">\n",
       "  <thead>\n",
       "    <tr style=\"text-align: right;\">\n",
       "      <th></th>\n",
       "      <th>youtuber name</th>\n",
       "      <th>channel name</th>\n",
       "      <th>Category</th>\n",
       "      <th>Followers</th>\n",
       "      <th>Audience Country</th>\n",
       "      <th>avg views</th>\n",
       "      <th>avg likes</th>\n",
       "      <th>avg comments</th>\n",
       "      <th>newFollowers</th>\n",
       "      <th>newavg views</th>\n",
       "      <th>newavg likes</th>\n",
       "      <th>newavg comments</th>\n",
       "    </tr>\n",
       "  </thead>\n",
       "  <tbody>\n",
       "    <tr>\n",
       "      <th>13</th>\n",
       "      <td>CanalKondZilla</td>\n",
       "      <td>Canal KondZilla</td>\n",
       "      <td>Music &amp; Dance</td>\n",
       "      <td>65.5M</td>\n",
       "      <td>Brazil</td>\n",
       "      <td>36.8K</td>\n",
       "      <td>2.3K</td>\n",
       "      <td>153</td>\n",
       "      <td>65500000.0</td>\n",
       "      <td>36800.0</td>\n",
       "      <td>2300.0</td>\n",
       "      <td>153.0</td>\n",
       "    </tr>\n",
       "    <tr>\n",
       "      <th>52</th>\n",
       "      <td>gr6explode</td>\n",
       "      <td>GR6 EXPLODE</td>\n",
       "      <td>Music &amp; Dance</td>\n",
       "      <td>37.2M</td>\n",
       "      <td>Brazil</td>\n",
       "      <td>179.6K</td>\n",
       "      <td>11.4K</td>\n",
       "      <td>190</td>\n",
       "      <td>37200000.0</td>\n",
       "      <td>179600.0</td>\n",
       "      <td>11400.0</td>\n",
       "      <td>190.0</td>\n",
       "    </tr>\n",
       "    <tr>\n",
       "      <th>149</th>\n",
       "      <td>davidguettavevo</td>\n",
       "      <td>David Guetta</td>\n",
       "      <td>Music &amp; Dance</td>\n",
       "      <td>24M</td>\n",
       "      <td>Brazil</td>\n",
       "      <td>267.4K</td>\n",
       "      <td>8.7K</td>\n",
       "      <td>358</td>\n",
       "      <td>24000000.0</td>\n",
       "      <td>267400.0</td>\n",
       "      <td>8700.0</td>\n",
       "      <td>358.0</td>\n",
       "    </tr>\n",
       "    <tr>\n",
       "      <th>267</th>\n",
       "      <td>DanielSaboya</td>\n",
       "      <td>Dan-Sa / Daniel Saboya</td>\n",
       "      <td>Music &amp; Dance</td>\n",
       "      <td>17.8M</td>\n",
       "      <td>Brazil</td>\n",
       "      <td>33.9K</td>\n",
       "      <td>1.6K</td>\n",
       "      <td>20</td>\n",
       "      <td>17800000.0</td>\n",
       "      <td>33900.0</td>\n",
       "      <td>1600.0</td>\n",
       "      <td>20.0</td>\n",
       "    </tr>\n",
       "    <tr>\n",
       "      <th>330</th>\n",
       "      <td>AnittaOficial</td>\n",
       "      <td>Anitta</td>\n",
       "      <td>Music &amp; Dance</td>\n",
       "      <td>16.1M</td>\n",
       "      <td>Brazil</td>\n",
       "      <td>316.4K</td>\n",
       "      <td>12.3K</td>\n",
       "      <td>488</td>\n",
       "      <td>16100000.0</td>\n",
       "      <td>316400.0</td>\n",
       "      <td>12300.0</td>\n",
       "      <td>488.0</td>\n",
       "    </tr>\n",
       "    <tr>\n",
       "      <th>342</th>\n",
       "      <td>boyceavenue</td>\n",
       "      <td>Boyce Avenue</td>\n",
       "      <td>Music &amp; Dance</td>\n",
       "      <td>15.7M</td>\n",
       "      <td>Brazil</td>\n",
       "      <td>338.5K</td>\n",
       "      <td>8K</td>\n",
       "      <td>355</td>\n",
       "      <td>15700000.0</td>\n",
       "      <td>338500.0</td>\n",
       "      <td>8000.0</td>\n",
       "      <td>355.0</td>\n",
       "    </tr>\n",
       "    <tr>\n",
       "      <th>375</th>\n",
       "      <td>portalfitdance</td>\n",
       "      <td>FitDance</td>\n",
       "      <td>Music &amp; Dance</td>\n",
       "      <td>15.1M</td>\n",
       "      <td>Brazil</td>\n",
       "      <td>46.3K</td>\n",
       "      <td>1.3K</td>\n",
       "      <td>23</td>\n",
       "      <td>15100000.0</td>\n",
       "      <td>46300.0</td>\n",
       "      <td>1300.0</td>\n",
       "      <td>23.0</td>\n",
       "    </tr>\n",
       "    <tr>\n",
       "      <th>396</th>\n",
       "      <td>CanalTaBombando</td>\n",
       "      <td>LEGENDA FUNK</td>\n",
       "      <td>Music &amp; Dance</td>\n",
       "      <td>14.7M</td>\n",
       "      <td>Brazil</td>\n",
       "      <td>9.3K</td>\n",
       "      <td>529</td>\n",
       "      <td>22</td>\n",
       "      <td>14700000.0</td>\n",
       "      <td>9300.0</td>\n",
       "      <td>529.0</td>\n",
       "      <td>22.0</td>\n",
       "    </tr>\n",
       "    <tr>\n",
       "      <th>409</th>\n",
       "      <td>zncoficial</td>\n",
       "      <td>Zé Neto e Cristiano</td>\n",
       "      <td>Music &amp; Dance</td>\n",
       "      <td>14.5M</td>\n",
       "      <td>Brazil</td>\n",
       "      <td>5.3M</td>\n",
       "      <td>44K</td>\n",
       "      <td>643</td>\n",
       "      <td>14500000.0</td>\n",
       "      <td>5300000.0</td>\n",
       "      <td>44000.0</td>\n",
       "      <td>643.0</td>\n",
       "    </tr>\n",
       "    <tr>\n",
       "      <th>413</th>\n",
       "      <td>hejproducao</td>\n",
       "      <td>Henrique e Juliano</td>\n",
       "      <td>Music &amp; Dance</td>\n",
       "      <td>14.5M</td>\n",
       "      <td>Brazil</td>\n",
       "      <td>96.8K</td>\n",
       "      <td>4.1K</td>\n",
       "      <td>75</td>\n",
       "      <td>14500000.0</td>\n",
       "      <td>96800.0</td>\n",
       "      <td>4100.0</td>\n",
       "      <td>75.0</td>\n",
       "    </tr>\n",
       "    <tr>\n",
       "      <th>433</th>\n",
       "      <td>mkmusicnews</td>\n",
       "      <td>MK MUSIC</td>\n",
       "      <td>Music &amp; Dance</td>\n",
       "      <td>14.2M</td>\n",
       "      <td>Brazil</td>\n",
       "      <td>53.3K</td>\n",
       "      <td>2.8K</td>\n",
       "      <td>122</td>\n",
       "      <td>14200000.0</td>\n",
       "      <td>53300.0</td>\n",
       "      <td>2800.0</td>\n",
       "      <td>122.0</td>\n",
       "    </tr>\n",
       "    <tr>\n",
       "      <th>626</th>\n",
       "      <td>Dani Russo Tv</td>\n",
       "      <td>Dani Russo Tv</td>\n",
       "      <td>Music &amp; Dance</td>\n",
       "      <td>11.7M</td>\n",
       "      <td>Brazil</td>\n",
       "      <td>10.9K</td>\n",
       "      <td>1.4K</td>\n",
       "      <td>121</td>\n",
       "      <td>11700000.0</td>\n",
       "      <td>10900.0</td>\n",
       "      <td>1400.0</td>\n",
       "      <td>121.0</td>\n",
       "    </tr>\n",
       "    <tr>\n",
       "      <th>654</th>\n",
       "      <td>luansantanaoficial</td>\n",
       "      <td>Luan Santana</td>\n",
       "      <td>Music &amp; Dance</td>\n",
       "      <td>11.5M</td>\n",
       "      <td>Brazil</td>\n",
       "      <td>3.4M</td>\n",
       "      <td>54.9K</td>\n",
       "      <td>4.7K</td>\n",
       "      <td>11500000.0</td>\n",
       "      <td>3400000.0</td>\n",
       "      <td>54900.0</td>\n",
       "      <td>4700.0</td>\n",
       "    </tr>\n",
       "    <tr>\n",
       "      <th>716</th>\n",
       "      <td>Simone e Simaria</td>\n",
       "      <td>Simone e Simaria</td>\n",
       "      <td>Music &amp; Dance</td>\n",
       "      <td>10.9M</td>\n",
       "      <td>Brazil</td>\n",
       "      <td>2.4M</td>\n",
       "      <td>57.2K</td>\n",
       "      <td>1.7K</td>\n",
       "      <td>10900000.0</td>\n",
       "      <td>2400000.0</td>\n",
       "      <td>57200.0</td>\n",
       "      <td>1700.0</td>\n",
       "    </tr>\n",
       "    <tr>\n",
       "      <th>798</th>\n",
       "      <td>MeKcanal</td>\n",
       "      <td>Matheus e Kauan</td>\n",
       "      <td>Music &amp; Dance</td>\n",
       "      <td>10.3M</td>\n",
       "      <td>Brazil</td>\n",
       "      <td>6.2K</td>\n",
       "      <td>663</td>\n",
       "      <td>11</td>\n",
       "      <td>10300000.0</td>\n",
       "      <td>6200.0</td>\n",
       "      <td>663.0</td>\n",
       "      <td>11.0</td>\n",
       "    </tr>\n",
       "    <tr>\n",
       "      <th>803</th>\n",
       "      <td>prantoniojunior</td>\n",
       "      <td>Pastor Antônio Júnior</td>\n",
       "      <td>Music &amp; Dance</td>\n",
       "      <td>10.3M</td>\n",
       "      <td>Brazil</td>\n",
       "      <td>341K</td>\n",
       "      <td>79.9K</td>\n",
       "      <td>8.8K</td>\n",
       "      <td>10300000.0</td>\n",
       "      <td>341000.0</td>\n",
       "      <td>79900.0</td>\n",
       "      <td>8800.0</td>\n",
       "    </tr>\n",
       "    <tr>\n",
       "      <th>842</th>\n",
       "      <td>TomorrowlandChannel</td>\n",
       "      <td>Tomorrowland</td>\n",
       "      <td>Music &amp; Dance</td>\n",
       "      <td>10.1M</td>\n",
       "      <td>Brazil</td>\n",
       "      <td>19.4K</td>\n",
       "      <td>914</td>\n",
       "      <td>50</td>\n",
       "      <td>10100000.0</td>\n",
       "      <td>19400.0</td>\n",
       "      <td>914.0</td>\n",
       "      <td>50.0</td>\n",
       "    </tr>\n",
       "    <tr>\n",
       "      <th>919</th>\n",
       "      <td>mamilosmolengas</td>\n",
       "      <td>Mussoumano</td>\n",
       "      <td>Music &amp; Dance</td>\n",
       "      <td>9.6M</td>\n",
       "      <td>Brazil</td>\n",
       "      <td>860.5K</td>\n",
       "      <td>88.2K</td>\n",
       "      <td>3.6K</td>\n",
       "      <td>9600000.0</td>\n",
       "      <td>860500.0</td>\n",
       "      <td>88200.0</td>\n",
       "      <td>3600.0</td>\n",
       "    </tr>\n",
       "    <tr>\n",
       "      <th>924</th>\n",
       "      <td>Bispo Bruno Leonardo</td>\n",
       "      <td>Bispo Bruno Leonardo</td>\n",
       "      <td>Music &amp; Dance</td>\n",
       "      <td>9.6M</td>\n",
       "      <td>Brazil</td>\n",
       "      <td>577.9K</td>\n",
       "      <td>208.7K</td>\n",
       "      <td>139.8K</td>\n",
       "      <td>9600000.0</td>\n",
       "      <td>577900.0</td>\n",
       "      <td>208700.0</td>\n",
       "      <td>139800.0</td>\n",
       "    </tr>\n",
       "    <tr>\n",
       "      <th>995</th>\n",
       "      <td>FutParódias</td>\n",
       "      <td>FutParódias</td>\n",
       "      <td>Music &amp; Dance</td>\n",
       "      <td>9.2M</td>\n",
       "      <td>Brazil</td>\n",
       "      <td>1.4M</td>\n",
       "      <td>110.1K</td>\n",
       "      <td>2.5K</td>\n",
       "      <td>9200000.0</td>\n",
       "      <td>1400000.0</td>\n",
       "      <td>110100.0</td>\n",
       "      <td>2500.0</td>\n",
       "    </tr>\n",
       "  </tbody>\n",
       "</table>\n",
       "</div>"
      ],
      "text/plain": [
       "            youtuber name            channel name       Category Followers  \\\n",
       "13         CanalKondZilla         Canal KondZilla  Music & Dance     65.5M   \n",
       "52             gr6explode             GR6 EXPLODE  Music & Dance     37.2M   \n",
       "149       davidguettavevo            David Guetta  Music & Dance       24M   \n",
       "267          DanielSaboya  Dan-Sa / Daniel Saboya  Music & Dance     17.8M   \n",
       "330         AnittaOficial                  Anitta  Music & Dance     16.1M   \n",
       "342           boyceavenue            Boyce Avenue  Music & Dance     15.7M   \n",
       "375        portalfitdance                FitDance  Music & Dance     15.1M   \n",
       "396       CanalTaBombando            LEGENDA FUNK  Music & Dance     14.7M   \n",
       "409            zncoficial     Zé Neto e Cristiano  Music & Dance     14.5M   \n",
       "413           hejproducao      Henrique e Juliano  Music & Dance     14.5M   \n",
       "433           mkmusicnews                MK MUSIC  Music & Dance     14.2M   \n",
       "626         Dani Russo Tv           Dani Russo Tv  Music & Dance     11.7M   \n",
       "654    luansantanaoficial            Luan Santana  Music & Dance     11.5M   \n",
       "716      Simone e Simaria        Simone e Simaria  Music & Dance     10.9M   \n",
       "798              MeKcanal         Matheus e Kauan  Music & Dance     10.3M   \n",
       "803       prantoniojunior   Pastor Antônio Júnior  Music & Dance     10.3M   \n",
       "842   TomorrowlandChannel            Tomorrowland  Music & Dance     10.1M   \n",
       "919       mamilosmolengas              Mussoumano  Music & Dance      9.6M   \n",
       "924  Bispo Bruno Leonardo    Bispo Bruno Leonardo  Music & Dance      9.6M   \n",
       "995           FutParódias             FutParódias  Music & Dance      9.2M   \n",
       "\n",
       "    Audience Country avg views avg likes avg comments  newFollowers  \\\n",
       "13            Brazil     36.8K      2.3K          153    65500000.0   \n",
       "52            Brazil    179.6K     11.4K          190    37200000.0   \n",
       "149           Brazil    267.4K      8.7K          358    24000000.0   \n",
       "267           Brazil     33.9K      1.6K           20    17800000.0   \n",
       "330           Brazil    316.4K     12.3K          488    16100000.0   \n",
       "342           Brazil    338.5K        8K          355    15700000.0   \n",
       "375           Brazil     46.3K      1.3K           23    15100000.0   \n",
       "396           Brazil      9.3K       529           22    14700000.0   \n",
       "409           Brazil      5.3M       44K          643    14500000.0   \n",
       "413           Brazil     96.8K      4.1K           75    14500000.0   \n",
       "433           Brazil     53.3K      2.8K          122    14200000.0   \n",
       "626           Brazil     10.9K      1.4K          121    11700000.0   \n",
       "654           Brazil      3.4M     54.9K         4.7K    11500000.0   \n",
       "716           Brazil      2.4M     57.2K         1.7K    10900000.0   \n",
       "798           Brazil      6.2K       663           11    10300000.0   \n",
       "803           Brazil      341K     79.9K         8.8K    10300000.0   \n",
       "842           Brazil     19.4K       914           50    10100000.0   \n",
       "919           Brazil    860.5K     88.2K         3.6K     9600000.0   \n",
       "924           Brazil    577.9K    208.7K       139.8K     9600000.0   \n",
       "995           Brazil      1.4M    110.1K         2.5K     9200000.0   \n",
       "\n",
       "     newavg views  newavg likes  newavg comments  \n",
       "13        36800.0        2300.0            153.0  \n",
       "52       179600.0       11400.0            190.0  \n",
       "149      267400.0        8700.0            358.0  \n",
       "267       33900.0        1600.0             20.0  \n",
       "330      316400.0       12300.0            488.0  \n",
       "342      338500.0        8000.0            355.0  \n",
       "375       46300.0        1300.0             23.0  \n",
       "396        9300.0         529.0             22.0  \n",
       "409     5300000.0       44000.0            643.0  \n",
       "413       96800.0        4100.0             75.0  \n",
       "433       53300.0        2800.0            122.0  \n",
       "626       10900.0        1400.0            121.0  \n",
       "654     3400000.0       54900.0           4700.0  \n",
       "716     2400000.0       57200.0           1700.0  \n",
       "798        6200.0         663.0             11.0  \n",
       "803      341000.0       79900.0           8800.0  \n",
       "842       19400.0         914.0             50.0  \n",
       "919      860500.0       88200.0           3600.0  \n",
       "924      577900.0      208700.0         139800.0  \n",
       "995     1400000.0      110100.0           2500.0  "
      ]
     },
     "execution_count": 60,
     "metadata": {},
     "output_type": "execute_result"
    }
   ],
   "source": [
    "df_y[df_y['Audience Country']=='Brazil'].groupby('Category').get_group('Music & Dance')"
   ]
  },
  {
   "cell_type": "code",
   "execution_count": 108,
   "id": "3af725cc",
   "metadata": {
    "execution": {
     "iopub.execute_input": "2022-04-23T06:31:18.103918Z",
     "iopub.status.busy": "2022-04-23T06:31:18.102936Z",
     "iopub.status.idle": "2022-04-23T06:31:18.109209Z",
     "shell.execute_reply": "2022-04-23T06:31:18.108541Z"
    },
    "papermill": {
     "duration": 0.095889,
     "end_time": "2022-04-23T06:31:18.111209",
     "exception": false,
     "start_time": "2022-04-23T06:31:18.015320",
     "status": "completed"
    },
    "tags": []
   },
   "outputs": [],
   "source": [
    "df_y['Engagement rate']=round(((df_y['newavg comments']+df_y['newavg likes']+df_y['newavg views'])/df_y['newFollowers'])*100,3)"
   ]
  },
  {
   "cell_type": "code",
   "execution_count": 62,
   "id": "fae6d465",
   "metadata": {
    "execution": {
     "iopub.execute_input": "2022-04-23T06:31:18.285006Z",
     "iopub.status.busy": "2022-04-23T06:31:18.284502Z",
     "iopub.status.idle": "2022-04-23T06:31:18.299642Z",
     "shell.execute_reply": "2022-04-23T06:31:18.298848Z"
    },
    "papermill": {
     "duration": 0.104935,
     "end_time": "2022-04-23T06:31:18.302095",
     "exception": false,
     "start_time": "2022-04-23T06:31:18.197160",
     "status": "completed"
    },
    "tags": []
   },
   "outputs": [
    {
     "data": {
      "text/html": [
       "<div>\n",
       "<style scoped>\n",
       "    .dataframe tbody tr th:only-of-type {\n",
       "        vertical-align: middle;\n",
       "    }\n",
       "\n",
       "    .dataframe tbody tr th {\n",
       "        vertical-align: top;\n",
       "    }\n",
       "\n",
       "    .dataframe thead th {\n",
       "        text-align: right;\n",
       "    }\n",
       "</style>\n",
       "<table border=\"1\" class=\"dataframe\">\n",
       "  <thead>\n",
       "    <tr style=\"text-align: right;\">\n",
       "      <th></th>\n",
       "      <th>youtuber name</th>\n",
       "      <th>channel name</th>\n",
       "      <th>Category</th>\n",
       "      <th>Followers</th>\n",
       "      <th>Audience Country</th>\n",
       "      <th>avg views</th>\n",
       "      <th>avg likes</th>\n",
       "      <th>avg comments</th>\n",
       "      <th>newFollowers</th>\n",
       "      <th>newavg views</th>\n",
       "      <th>newavg likes</th>\n",
       "      <th>newavg comments</th>\n",
       "      <th>Engagement rate</th>\n",
       "    </tr>\n",
       "  </thead>\n",
       "  <tbody>\n",
       "    <tr>\n",
       "      <th>0</th>\n",
       "      <td>tseries</td>\n",
       "      <td>T-Series</td>\n",
       "      <td>Music &amp; Dance</td>\n",
       "      <td>212.1M</td>\n",
       "      <td>India</td>\n",
       "      <td>323.7K</td>\n",
       "      <td>9.8K</td>\n",
       "      <td>290</td>\n",
       "      <td>212100000.0</td>\n",
       "      <td>323700.0</td>\n",
       "      <td>9800.0</td>\n",
       "      <td>290.0</td>\n",
       "      <td>0.157</td>\n",
       "    </tr>\n",
       "    <tr>\n",
       "      <th>2</th>\n",
       "      <td>setindia</td>\n",
       "      <td>SET India</td>\n",
       "      <td>NaN</td>\n",
       "      <td>130.4M</td>\n",
       "      <td>India</td>\n",
       "      <td>23.6K</td>\n",
       "      <td>314</td>\n",
       "      <td>21</td>\n",
       "      <td>130400000.0</td>\n",
       "      <td>23600.0</td>\n",
       "      <td>314.0</td>\n",
       "      <td>21.0</td>\n",
       "      <td>0.018</td>\n",
       "    </tr>\n",
       "  </tbody>\n",
       "</table>\n",
       "</div>"
      ],
      "text/plain": [
       "  youtuber name channel name       Category Followers Audience Country  \\\n",
       "0       tseries     T-Series  Music & Dance    212.1M            India   \n",
       "2      setindia    SET India            NaN    130.4M            India   \n",
       "\n",
       "  avg views avg likes avg comments  newFollowers  newavg views  newavg likes  \\\n",
       "0    323.7K      9.8K          290   212100000.0      323700.0        9800.0   \n",
       "2     23.6K       314           21   130400000.0       23600.0         314.0   \n",
       "\n",
       "   newavg comments  Engagement rate  \n",
       "0            290.0            0.157  \n",
       "2             21.0            0.018  "
      ]
     },
     "execution_count": 62,
     "metadata": {},
     "output_type": "execute_result"
    }
   ],
   "source": [
    "df_y.head(2)"
   ]
  },
  {
   "cell_type": "code",
   "execution_count": 63,
   "id": "942e9687",
   "metadata": {
    "execution": {
     "iopub.execute_input": "2022-04-23T06:31:18.481277Z",
     "iopub.status.busy": "2022-04-23T06:31:18.480769Z",
     "iopub.status.idle": "2022-04-23T06:31:18.486630Z",
     "shell.execute_reply": "2022-04-23T06:31:18.485966Z"
    },
    "papermill": {
     "duration": 0.097876,
     "end_time": "2022-04-23T06:31:18.488437",
     "exception": false,
     "start_time": "2022-04-23T06:31:18.390561",
     "status": "completed"
    },
    "tags": []
   },
   "outputs": [
    {
     "data": {
      "text/plain": [
       "Index(['youtuber name', 'channel name', 'Category', 'Followers',\n",
       "       'Audience Country', 'avg views', 'avg likes', 'avg comments',\n",
       "       'newFollowers', 'newavg views', 'newavg likes', 'newavg comments',\n",
       "       'Engagement rate'],\n",
       "      dtype='object')"
      ]
     },
     "execution_count": 63,
     "metadata": {},
     "output_type": "execute_result"
    }
   ],
   "source": [
    "df_y.columns"
   ]
  },
  {
   "cell_type": "code",
   "execution_count": 64,
   "id": "0ba39222",
   "metadata": {
    "execution": {
     "iopub.execute_input": "2022-04-23T06:31:18.662920Z",
     "iopub.status.busy": "2022-04-23T06:31:18.662383Z",
     "iopub.status.idle": "2022-04-23T06:31:18.667016Z",
     "shell.execute_reply": "2022-04-23T06:31:18.666385Z"
    },
    "papermill": {
     "duration": 0.094566,
     "end_time": "2022-04-23T06:31:18.669035",
     "exception": false,
     "start_time": "2022-04-23T06:31:18.574469",
     "status": "completed"
    },
    "tags": []
   },
   "outputs": [],
   "source": [
    "\n",
    "df_y['newFollowers']=df_y['newFollowers']/1000000"
   ]
  },
  {
   "cell_type": "code",
   "execution_count": 65,
   "id": "742260c0",
   "metadata": {
    "execution": {
     "iopub.execute_input": "2022-04-23T06:31:18.850536Z",
     "iopub.status.busy": "2022-04-23T06:31:18.850024Z",
     "iopub.status.idle": "2022-04-23T06:31:18.854703Z",
     "shell.execute_reply": "2022-04-23T06:31:18.854142Z"
    },
    "papermill": {
     "duration": 0.101091,
     "end_time": "2022-04-23T06:31:18.856489",
     "exception": false,
     "start_time": "2022-04-23T06:31:18.755398",
     "status": "completed"
    },
    "tags": []
   },
   "outputs": [],
   "source": [
    "df_y.drop(labels=['avg views', 'avg likes', 'avg comments','newavg views', 'newavg likes', 'newavg comments',\n",
    "       ],axis=1,inplace=True)"
   ]
  },
  {
   "cell_type": "code",
   "execution_count": 66,
   "id": "66029d68",
   "metadata": {
    "execution": {
     "iopub.execute_input": "2022-04-23T06:31:19.030264Z",
     "iopub.status.busy": "2022-04-23T06:31:19.029767Z",
     "iopub.status.idle": "2022-04-23T06:31:19.037944Z",
     "shell.execute_reply": "2022-04-23T06:31:19.037168Z"
    },
    "papermill": {
     "duration": 0.097327,
     "end_time": "2022-04-23T06:31:19.039867",
     "exception": false,
     "start_time": "2022-04-23T06:31:18.942540",
     "status": "completed"
    },
    "tags": []
   },
   "outputs": [
    {
     "data": {
      "text/plain": [
       "count    786.000000\n",
       "mean      17.016921\n",
       "std       13.593720\n",
       "min        9.200000\n",
       "25%       10.700000\n",
       "50%       13.000000\n",
       "75%       17.600000\n",
       "max      212.100000\n",
       "Name: newFollowers, dtype: float64"
      ]
     },
     "execution_count": 66,
     "metadata": {},
     "output_type": "execute_result"
    }
   ],
   "source": [
    "df_y['newFollowers'].describe()"
   ]
  },
  {
   "cell_type": "code",
   "execution_count": 67,
   "id": "8642ccc8",
   "metadata": {
    "execution": {
     "iopub.execute_input": "2022-04-23T06:31:19.215012Z",
     "iopub.status.busy": "2022-04-23T06:31:19.214507Z",
     "iopub.status.idle": "2022-04-23T06:31:19.220506Z",
     "shell.execute_reply": "2022-04-23T06:31:19.219891Z"
    },
    "papermill": {
     "duration": 0.095481,
     "end_time": "2022-04-23T06:31:19.222309",
     "exception": false,
     "start_time": "2022-04-23T06:31:19.126828",
     "status": "completed"
    },
    "tags": []
   },
   "outputs": [
    {
     "data": {
      "text/plain": [
       "28.25"
      ]
     },
     "execution_count": 67,
     "metadata": {},
     "output_type": "execute_result"
    }
   ],
   "source": [
    "df_y['newFollowers'].quantile(0.90)"
   ]
  },
  {
   "attachments": {},
   "cell_type": "markdown",
   "id": "a664bb66",
   "metadata": {
    "papermill": {
     "duration": 0.092639,
     "end_time": "2022-04-23T06:31:19.402203",
     "exception": false,
     "start_time": "2022-04-23T06:31:19.309564",
     "status": "completed"
    },
    "tags": []
   },
   "source": [
    "### Threshold is up to you\n",
    "#### I'm using >80M subscribers that is coming the category of mega influencer"
   ]
  },
  {
   "cell_type": "code",
   "execution_count": 70,
   "id": "1e51ec91",
   "metadata": {
    "execution": {
     "iopub.execute_input": "2022-04-23T06:31:19.576038Z",
     "iopub.status.busy": "2022-04-23T06:31:19.575561Z",
     "iopub.status.idle": "2022-04-23T06:31:19.585731Z",
     "shell.execute_reply": "2022-04-23T06:31:19.585158Z"
    },
    "papermill": {
     "duration": 0.098998,
     "end_time": "2022-04-23T06:31:19.587484",
     "exception": false,
     "start_time": "2022-04-23T06:31:19.488486",
     "status": "completed"
    },
    "tags": []
   },
   "outputs": [
    {
     "data": {
      "text/html": [
       "<div>\n",
       "<style scoped>\n",
       "    .dataframe tbody tr th:only-of-type {\n",
       "        vertical-align: middle;\n",
       "    }\n",
       "\n",
       "    .dataframe tbody tr th {\n",
       "        vertical-align: top;\n",
       "    }\n",
       "\n",
       "    .dataframe thead th {\n",
       "        text-align: right;\n",
       "    }\n",
       "</style>\n",
       "<table border=\"1\" class=\"dataframe\">\n",
       "  <thead>\n",
       "    <tr style=\"text-align: right;\">\n",
       "      <th></th>\n",
       "      <th>youtuber name</th>\n",
       "      <th>channel name</th>\n",
       "      <th>Category</th>\n",
       "      <th>Followers</th>\n",
       "      <th>Audience Country</th>\n",
       "      <th>newFollowers</th>\n",
       "      <th>Engagement rate</th>\n",
       "    </tr>\n",
       "  </thead>\n",
       "  <tbody>\n",
       "    <tr>\n",
       "      <th>0</th>\n",
       "      <td>tseries</td>\n",
       "      <td>T-Series</td>\n",
       "      <td>Music &amp; Dance</td>\n",
       "      <td>212.1M</td>\n",
       "      <td>India</td>\n",
       "      <td>212.1</td>\n",
       "      <td>0.157</td>\n",
       "    </tr>\n",
       "  </tbody>\n",
       "</table>\n",
       "</div>"
      ],
      "text/plain": [
       "  youtuber name channel name       Category Followers Audience Country  \\\n",
       "0       tseries     T-Series  Music & Dance    212.1M            India   \n",
       "\n",
       "   newFollowers  Engagement rate  \n",
       "0         212.1            0.157  "
      ]
     },
     "execution_count": 70,
     "metadata": {},
     "output_type": "execute_result"
    }
   ],
   "source": [
    "df_y.head(1)"
   ]
  },
  {
   "cell_type": "code",
   "execution_count": 71,
   "id": "effed653",
   "metadata": {
    "execution": {
     "iopub.execute_input": "2022-04-23T06:31:19.763811Z",
     "iopub.status.busy": "2022-04-23T06:31:19.763343Z",
     "iopub.status.idle": "2022-04-23T06:31:19.767503Z",
     "shell.execute_reply": "2022-04-23T06:31:19.766997Z"
    },
    "papermill": {
     "duration": 0.093844,
     "end_time": "2022-04-23T06:31:19.769188",
     "exception": false,
     "start_time": "2022-04-23T06:31:19.675344",
     "status": "completed"
    },
    "tags": []
   },
   "outputs": [],
   "source": [
    "def for_mini_followers_youtube(coun,cat):\n",
    "    df1=df_y[df_y['Audience Country']==coun]\n",
    "    df1_mini=df1[df1['newFollowers']<=80]\n",
    "    return df1_mini.sort_values(by='Engagement rate',ascending=False).groupby('Category').get_group(cat).iloc[:,[0,3,-1]]\n",
    "    \n",
    "    "
   ]
  },
  {
   "cell_type": "code",
   "execution_count": 72,
   "id": "37192d77",
   "metadata": {
    "execution": {
     "iopub.execute_input": "2022-04-23T06:31:19.951089Z",
     "iopub.status.busy": "2022-04-23T06:31:19.950582Z",
     "iopub.status.idle": "2022-04-23T06:31:19.953517Z",
     "shell.execute_reply": "2022-04-23T06:31:19.952990Z"
    },
    "papermill": {
     "duration": 0.096017,
     "end_time": "2022-04-23T06:31:19.955222",
     "exception": false,
     "start_time": "2022-04-23T06:31:19.859205",
     "status": "completed"
    },
    "tags": []
   },
   "outputs": [
    {
     "data": {
      "text/plain": [
       "Category\n",
       "ASMR                           Mexico\n",
       "Animals & Pets          United States\n",
       "Animation               United States\n",
       "Autos & Vehicles               Brazil\n",
       "Beauty                  United States\n",
       "DIY & Life Hacks               Russia\n",
       "Daily vlogs                    Mexico\n",
       "Design/art              United States\n",
       "Education                       India\n",
       "Fashion                 United States\n",
       "Fitness                 United States\n",
       "Food & Drinks           United States\n",
       "Health & Self Help      United States\n",
       "Humor                   United States\n",
       "Movies                          India\n",
       "Music & Dance                   India\n",
       "Mystery                 United States\n",
       "News & Politics                 India\n",
       "Science & Technology           Brazil\n",
       "Sports                         Brazil\n",
       "Toys                           Brazil\n",
       "Travel                   Saudi Arabia\n",
       "Video games             United States\n",
       "Name: Audience Country, dtype: object"
      ]
     },
     "execution_count": 72,
     "metadata": {},
     "output_type": "execute_result"
    }
   ],
   "source": [
    "df_y.groupby('Category')['Audience Country'].first()"
   ]
  },
  {
   "cell_type": "code",
   "execution_count": 73,
   "id": "d93b7193",
   "metadata": {
    "execution": {
     "iopub.execute_input": "2022-04-23T06:31:20.133810Z",
     "iopub.status.busy": "2022-04-23T06:31:20.133316Z",
     "iopub.status.idle": "2022-04-23T06:31:20.149648Z",
     "shell.execute_reply": "2022-04-23T06:31:20.149067Z"
    },
    "papermill": {
     "duration": 0.108001,
     "end_time": "2022-04-23T06:31:20.151316",
     "exception": false,
     "start_time": "2022-04-23T06:31:20.043315",
     "status": "completed"
    },
    "tags": []
   },
   "outputs": [
    {
     "data": {
      "text/html": [
       "<div>\n",
       "<style scoped>\n",
       "    .dataframe tbody tr th:only-of-type {\n",
       "        vertical-align: middle;\n",
       "    }\n",
       "\n",
       "    .dataframe tbody tr th {\n",
       "        vertical-align: top;\n",
       "    }\n",
       "\n",
       "    .dataframe thead th {\n",
       "        text-align: right;\n",
       "    }\n",
       "</style>\n",
       "<table border=\"1\" class=\"dataframe\">\n",
       "  <thead>\n",
       "    <tr style=\"text-align: right;\">\n",
       "      <th></th>\n",
       "      <th>youtuber name</th>\n",
       "      <th>Followers</th>\n",
       "      <th>Engagement rate</th>\n",
       "    </tr>\n",
       "  </thead>\n",
       "  <tbody>\n",
       "    <tr>\n",
       "      <th>860</th>\n",
       "      <td>Juice WRLD</td>\n",
       "      <td>10M</td>\n",
       "      <td>79.277</td>\n",
       "    </tr>\n",
       "    <tr>\n",
       "      <th>914</th>\n",
       "      <td>Prince Royce</td>\n",
       "      <td>9.6M</td>\n",
       "      <td>74.629</td>\n",
       "    </tr>\n",
       "    <tr>\n",
       "      <th>717</th>\n",
       "      <td>YoungBoy Never Broke Again</td>\n",
       "      <td>10.9M</td>\n",
       "      <td>72.458</td>\n",
       "    </tr>\n",
       "    <tr>\n",
       "      <th>861</th>\n",
       "      <td>jordanmatter</td>\n",
       "      <td>10M</td>\n",
       "      <td>50.495</td>\n",
       "    </tr>\n",
       "    <tr>\n",
       "      <th>607</th>\n",
       "      <td>Migosatl</td>\n",
       "      <td>11.9M</td>\n",
       "      <td>28.876</td>\n",
       "    </tr>\n",
       "    <tr>\n",
       "      <th>...</th>\n",
       "      <td>...</td>\n",
       "      <td>...</td>\n",
       "      <td>...</td>\n",
       "    </tr>\n",
       "    <tr>\n",
       "      <th>886</th>\n",
       "      <td>htv2channel</td>\n",
       "      <td>9.8M</td>\n",
       "      <td>0.088</td>\n",
       "    </tr>\n",
       "    <tr>\n",
       "      <th>790</th>\n",
       "      <td>CJENMMUSIC</td>\n",
       "      <td>10.5M</td>\n",
       "      <td>0.087</td>\n",
       "    </tr>\n",
       "    <tr>\n",
       "      <th>960</th>\n",
       "      <td>POPSVIETNAM</td>\n",
       "      <td>9.4M</td>\n",
       "      <td>0.084</td>\n",
       "    </tr>\n",
       "    <tr>\n",
       "      <th>505</th>\n",
       "      <td>AtlanticVideos</td>\n",
       "      <td>13.1M</td>\n",
       "      <td>0.076</td>\n",
       "    </tr>\n",
       "    <tr>\n",
       "      <th>848</th>\n",
       "      <td>MTV</td>\n",
       "      <td>10.1M</td>\n",
       "      <td>0.070</td>\n",
       "    </tr>\n",
       "  </tbody>\n",
       "</table>\n",
       "<p>65 rows × 3 columns</p>\n",
       "</div>"
      ],
      "text/plain": [
       "                  youtuber name Followers  Engagement rate\n",
       "860                  Juice WRLD       10M           79.277\n",
       "914                Prince Royce      9.6M           74.629\n",
       "717  YoungBoy Never Broke Again     10.9M           72.458\n",
       "861                jordanmatter       10M           50.495\n",
       "607                    Migosatl     11.9M           28.876\n",
       "..                          ...       ...              ...\n",
       "886                 htv2channel      9.8M            0.088\n",
       "790                  CJENMMUSIC     10.5M            0.087\n",
       "960                 POPSVIETNAM      9.4M            0.084\n",
       "505              AtlanticVideos     13.1M            0.076\n",
       "848                         MTV     10.1M            0.070\n",
       "\n",
       "[65 rows x 3 columns]"
      ]
     },
     "execution_count": 73,
     "metadata": {},
     "output_type": "execute_result"
    }
   ],
   "source": [
    "for_mini_followers_youtube('United States','Music & Dance')"
   ]
  },
  {
   "cell_type": "code",
   "execution_count": 74,
   "id": "39f59c4b",
   "metadata": {
    "execution": {
     "iopub.execute_input": "2022-04-23T06:31:20.329066Z",
     "iopub.status.busy": "2022-04-23T06:31:20.328541Z",
     "iopub.status.idle": "2022-04-23T06:31:20.333151Z",
     "shell.execute_reply": "2022-04-23T06:31:20.332541Z"
    },
    "papermill": {
     "duration": 0.095374,
     "end_time": "2022-04-23T06:31:20.334976",
     "exception": false,
     "start_time": "2022-04-23T06:31:20.239602",
     "status": "completed"
    },
    "tags": []
   },
   "outputs": [],
   "source": [
    "def for_mega_followers_youtube(coun,cat):\n",
    "    df1=df_y[df_y['Audience Country']==coun]\n",
    "    df1_mini=df1[df1['newFollowers']>80]\n",
    "    return df1_mini.sort_values(by='Engagement rate',ascending=False).groupby('Category').get_group(cat).iloc[:,[0,3,-1]]\n",
    "    \n",
    "    "
   ]
  },
  {
   "cell_type": "code",
   "execution_count": 77,
   "id": "67ead204",
   "metadata": {
    "execution": {
     "iopub.execute_input": "2022-04-23T06:31:20.715023Z",
     "iopub.status.busy": "2022-04-23T06:31:20.714535Z",
     "iopub.status.idle": "2022-04-23T06:31:20.718098Z",
     "shell.execute_reply": "2022-04-23T06:31:20.717306Z"
    },
    "papermill": {
     "duration": 0.098637,
     "end_time": "2022-04-23T06:31:20.720016",
     "exception": false,
     "start_time": "2022-04-23T06:31:20.621379",
     "status": "completed"
    },
    "tags": []
   },
   "outputs": [
    {
     "data": {
      "text/plain": [
       "Music & Dance           184\n",
       "Video games              79\n",
       "Animation                56\n",
       "News & Politics          45\n",
       "Movies                   33\n",
       "Humor                    29\n",
       "Daily vlogs              27\n",
       "Toys                     20\n",
       "Science & Technology     17\n",
       "Food & Drinks            15\n",
       "Education                14\n",
       "DIY & Life Hacks         14\n",
       "Sports                   11\n",
       "Fashion                   7\n",
       "Animals & Pets            4\n",
       "Design/art                3\n",
       "ASMR                      3\n",
       "Fitness                   3\n",
       "Health & Self Help        2\n",
       "Beauty                    2\n",
       "Travel                    1\n",
       "Autos & Vehicles          1\n",
       "Mystery                   1\n",
       "Name: Category, dtype: int64"
      ]
     },
     "execution_count": 77,
     "metadata": {},
     "output_type": "execute_result"
    }
   ],
   "source": [
    "df_y['Category'].value_counts()"
   ]
  },
  {
   "cell_type": "code",
   "execution_count": 78,
   "id": "dd827cc8",
   "metadata": {},
   "outputs": [
    {
     "data": {
      "text/plain": [
       "newFollowers      -0.022447\n",
       "Engagement Rate         NaN\n",
       "Engagement rate         NaN\n",
       "dtype: float64"
      ]
     },
     "execution_count": 78,
     "metadata": {},
     "output_type": "execute_result"
    }
   ],
   "source": [
    "df_y.corrwith(df_i)"
   ]
  },
  {
   "cell_type": "code",
   "execution_count": 82,
   "id": "1b71c87d",
   "metadata": {},
   "outputs": [
    {
     "data": {
      "image/png": "[encoded data removed]",
      "text/plain": [
       "<Figure size 288x288 with 1 Axes>"
      ]
     },
     "metadata": {
      "needs_background": "light"
     },
     "output_type": "display_data"
    }
   ],
   "source": [
    "plt.matshow(df_i.corr())\n",
    "plt.show()"
   ]
  },
  {
   "cell_type": "code",
   "execution_count": 84,
   "id": "efe0e2a2",
   "metadata": {},
   "outputs": [
    {
     "data": {
      "image/png": "[encoded data removed]",
      "text/plain": [
       "<Figure size 1368x1080 with 2 Axes>"
      ]
     },
     "metadata": {
      "needs_background": "light"
     },
     "output_type": "display_data"
    }
   ],
   "source": [
    "f = plt.figure(figsize=(19, 15))\n",
    "plt.matshow(df_i.corr(), fignum=f.number)\n",
    "plt.xticks(range(df_i.select_dtypes(['number']).shape[1]), df_i.select_dtypes(['number']).columns, fontsize=14, rotation=45)\n",
    "plt.yticks(range(df_i.select_dtypes(['number']).shape[1]), df_i.select_dtypes(['number']).columns, fontsize=14)\n",
    "cb = plt.colorbar()\n",
    "cb.ax.tick_params(labelsize=14)\n",
    "plt.title('Correlation Matrix', fontsize=16);"
   ]
  },
  {
   "cell_type": "code",
   "execution_count": 86,
   "id": "7e06c2fc",
   "metadata": {},
   "outputs": [
    {
     "data": {
      "image/png": "[encoded data removed]",
      "text/plain": [
       "<Figure size 1368x1080 with 2 Axes>"
      ]
     },
     "metadata": {
      "needs_background": "light"
     },
     "output_type": "display_data"
    }
   ],
   "source": [
    "f = plt.figure(figsize=(19, 15))\n",
    "plt.matshow(df_y.corr(), fignum=f.number)\n",
    "plt.xticks(range(df_y.select_dtypes(['number']).shape[1]), df_y.select_dtypes(['number']).columns, fontsize=14, rotation=45)\n",
    "plt.yticks(range(df_y.select_dtypes(['number']).shape[1]), df_y.select_dtypes(['number']).columns, fontsize=14)\n",
    "cb = plt.colorbar()\n",
    "cb.ax.tick_params(labelsize=14)\n",
    "plt.title('Correlation Matrix', fontsize=16);"
   ]
  },
  {
   "cell_type": "code",
   "execution_count": 87,
   "id": "7280b583",
   "metadata": {},
   "outputs": [
    {
     "data": {
      "text/html": [
       "<style  type=\"text/css\" >\n",
       "    #T_6458d362_b0c9_11ed_b5cb_b4b5b6c516berow0_col0 {\n",
       "            background-color:  #b40426;\n",
       "            color:  #f1f1f1;\n",
       "        }    #T_6458d362_b0c9_11ed_b5cb_b4b5b6c516berow0_col1 {\n",
       "            background-color:  #e2dad5;\n",
       "            color:  #000000;\n",
       "        }    #T_6458d362_b0c9_11ed_b5cb_b4b5b6c516berow0_col2 {\n",
       "            background-color:  #f2c9b4;\n",
       "            color:  #000000;\n",
       "        }    #T_6458d362_b0c9_11ed_b5cb_b4b5b6c516berow0_col3 {\n",
       "            background-color:  #f6bfa6;\n",
       "            color:  #000000;\n",
       "        }    #T_6458d362_b0c9_11ed_b5cb_b4b5b6c516berow0_col4 {\n",
       "            background-color:  #c9d7f0;\n",
       "            color:  #000000;\n",
       "        }    #T_6458d362_b0c9_11ed_b5cb_b4b5b6c516berow0_col5 {\n",
       "            background-color:  #3b4cc0;\n",
       "            color:  #f1f1f1;\n",
       "        }    #T_6458d362_b0c9_11ed_b5cb_b4b5b6c516berow0_col6 {\n",
       "            background-color:  #3b4cc0;\n",
       "            color:  #f1f1f1;\n",
       "        }    #T_6458d362_b0c9_11ed_b5cb_b4b5b6c516berow0_col7 {\n",
       "            background-color:  #f7ba9f;\n",
       "            color:  #000000;\n",
       "        }    #T_6458d362_b0c9_11ed_b5cb_b4b5b6c516berow0_col8 {\n",
       "            background-color:  #5b7ae5;\n",
       "            color:  #000000;\n",
       "        }    #T_6458d362_b0c9_11ed_b5cb_b4b5b6c516berow0_col9 {\n",
       "            background-color:  #9abbff;\n",
       "            color:  #000000;\n",
       "        }    #T_6458d362_b0c9_11ed_b5cb_b4b5b6c516berow1_col0 {\n",
       "            background-color:  #f4c5ad;\n",
       "            color:  #000000;\n",
       "        }    #T_6458d362_b0c9_11ed_b5cb_b4b5b6c516berow1_col1 {\n",
       "            background-color:  #b40426;\n",
       "            color:  #f1f1f1;\n",
       "        }    #T_6458d362_b0c9_11ed_b5cb_b4b5b6c516berow1_col2 {\n",
       "            background-color:  #6c8ff1;\n",
       "            color:  #000000;\n",
       "        }    #T_6458d362_b0c9_11ed_b5cb_b4b5b6c516berow1_col3 {\n",
       "            background-color:  #f7a688;\n",
       "            color:  #000000;\n",
       "        }    #T_6458d362_b0c9_11ed_b5cb_b4b5b6c516berow1_col4 {\n",
       "            background-color:  #7da0f9;\n",
       "            color:  #000000;\n",
       "        }    #T_6458d362_b0c9_11ed_b5cb_b4b5b6c516berow1_col5 {\n",
       "            background-color:  #dcdddd;\n",
       "            color:  #000000;\n",
       "        }    #T_6458d362_b0c9_11ed_b5cb_b4b5b6c516berow1_col6 {\n",
       "            background-color:  #80a3fa;\n",
       "            color:  #000000;\n",
       "        }    #T_6458d362_b0c9_11ed_b5cb_b4b5b6c516berow1_col7 {\n",
       "            background-color:  #f39475;\n",
       "            color:  #000000;\n",
       "        }    #T_6458d362_b0c9_11ed_b5cb_b4b5b6c516berow1_col8 {\n",
       "            background-color:  #e6d7cf;\n",
       "            color:  #000000;\n",
       "        }    #T_6458d362_b0c9_11ed_b5cb_b4b5b6c516berow1_col9 {\n",
       "            background-color:  #c5d6f2;\n",
       "            color:  #000000;\n",
       "        }    #T_6458d362_b0c9_11ed_b5cb_b4b5b6c516berow2_col0 {\n",
       "            background-color:  #f7bca1;\n",
       "            color:  #000000;\n",
       "        }    #T_6458d362_b0c9_11ed_b5cb_b4b5b6c516berow2_col1 {\n",
       "            background-color:  #4b64d5;\n",
       "            color:  #f1f1f1;\n",
       "        }    #T_6458d362_b0c9_11ed_b5cb_b4b5b6c516berow2_col2 {\n",
       "            background-color:  #b40426;\n",
       "            color:  #f1f1f1;\n",
       "        }    #T_6458d362_b0c9_11ed_b5cb_b4b5b6c516berow2_col3 {\n",
       "            background-color:  #3b4cc0;\n",
       "            color:  #f1f1f1;\n",
       "        }    #T_6458d362_b0c9_11ed_b5cb_b4b5b6c516berow2_col4 {\n",
       "            background-color:  #d6dce4;\n",
       "            color:  #000000;\n",
       "        }    #T_6458d362_b0c9_11ed_b5cb_b4b5b6c516berow2_col5 {\n",
       "            background-color:  #516ddb;\n",
       "            color:  #000000;\n",
       "        }    #T_6458d362_b0c9_11ed_b5cb_b4b5b6c516berow2_col6 {\n",
       "            background-color:  #b6cefa;\n",
       "            color:  #000000;\n",
       "        }    #T_6458d362_b0c9_11ed_b5cb_b4b5b6c516berow2_col7 {\n",
       "            background-color:  #b1cbfc;\n",
       "            color:  #000000;\n",
       "        }    #T_6458d362_b0c9_11ed_b5cb_b4b5b6c516berow2_col8 {\n",
       "            background-color:  #5d7ce6;\n",
       "            color:  #000000;\n",
       "        }    #T_6458d362_b0c9_11ed_b5cb_b4b5b6c516berow2_col9 {\n",
       "            background-color:  #3b4cc0;\n",
       "            color:  #f1f1f1;\n",
       "        }    #T_6458d362_b0c9_11ed_b5cb_b4b5b6c516berow3_col0 {\n",
       "            background-color:  #f7b194;\n",
       "            color:  #000000;\n",
       "        }    #T_6458d362_b0c9_11ed_b5cb_b4b5b6c516berow3_col1 {\n",
       "            background-color:  #f7b194;\n",
       "            color:  #000000;\n",
       "        }    #T_6458d362_b0c9_11ed_b5cb_b4b5b6c516berow3_col2 {\n",
       "            background-color:  #3b4cc0;\n",
       "            color:  #f1f1f1;\n",
       "        }    #T_6458d362_b0c9_11ed_b5cb_b4b5b6c516berow3_col3 {\n",
       "            background-color:  #b40426;\n",
       "            color:  #f1f1f1;\n",
       "        }    #T_6458d362_b0c9_11ed_b5cb_b4b5b6c516berow3_col4 {\n",
       "            background-color:  #89acfd;\n",
       "            color:  #000000;\n",
       "        }    #T_6458d362_b0c9_11ed_b5cb_b4b5b6c516berow3_col5 {\n",
       "            background-color:  #3c4ec2;\n",
       "            color:  #f1f1f1;\n",
       "        }    #T_6458d362_b0c9_11ed_b5cb_b4b5b6c516berow3_col6 {\n",
       "            background-color:  #6788ee;\n",
       "            color:  #000000;\n",
       "        }    #T_6458d362_b0c9_11ed_b5cb_b4b5b6c516berow3_col7 {\n",
       "            background-color:  #f7bca1;\n",
       "            color:  #000000;\n",
       "        }    #T_6458d362_b0c9_11ed_b5cb_b4b5b6c516berow3_col8 {\n",
       "            background-color:  #ead5c9;\n",
       "            color:  #000000;\n",
       "        }    #T_6458d362_b0c9_11ed_b5cb_b4b5b6c516berow3_col9 {\n",
       "            background-color:  #f2cbb7;\n",
       "            color:  #000000;\n",
       "        }    #T_6458d362_b0c9_11ed_b5cb_b4b5b6c516berow4_col0 {\n",
       "            background-color:  #d3dbe7;\n",
       "            color:  #000000;\n",
       "        }    #T_6458d362_b0c9_11ed_b5cb_b4b5b6c516berow4_col1 {\n",
       "            background-color:  #4b64d5;\n",
       "            color:  #f1f1f1;\n",
       "        }    #T_6458d362_b0c9_11ed_b5cb_b4b5b6c516berow4_col2 {\n",
       "            background-color:  #cdd9ec;\n",
       "            color:  #000000;\n",
       "        }    #T_6458d362_b0c9_11ed_b5cb_b4b5b6c516berow4_col3 {\n",
       "            background-color:  #7a9df8;\n",
       "            color:  #000000;\n",
       "        }    #T_6458d362_b0c9_11ed_b5cb_b4b5b6c516berow4_col4 {\n",
       "            background-color:  #b40426;\n",
       "            color:  #f1f1f1;\n",
       "        }    #T_6458d362_b0c9_11ed_b5cb_b4b5b6c516berow4_col5 {\n",
       "            background-color:  #5a78e4;\n",
       "            color:  #000000;\n",
       "        }    #T_6458d362_b0c9_11ed_b5cb_b4b5b6c516berow4_col6 {\n",
       "            background-color:  #abc8fd;\n",
       "            color:  #000000;\n",
       "        }    #T_6458d362_b0c9_11ed_b5cb_b4b5b6c516berow4_col7 {\n",
       "            background-color:  #3b4cc0;\n",
       "            color:  #f1f1f1;\n",
       "        }    #T_6458d362_b0c9_11ed_b5cb_b4b5b6c516berow4_col8 {\n",
       "            background-color:  #3b4cc0;\n",
       "            color:  #f1f1f1;\n",
       "        }    #T_6458d362_b0c9_11ed_b5cb_b4b5b6c516berow4_col9 {\n",
       "            background-color:  #6687ed;\n",
       "            color:  #000000;\n",
       "        }    #T_6458d362_b0c9_11ed_b5cb_b4b5b6c516berow5_col0 {\n",
       "            background-color:  #9abbff;\n",
       "            color:  #000000;\n",
       "        }    #T_6458d362_b0c9_11ed_b5cb_b4b5b6c516berow5_col1 {\n",
       "            background-color:  #e9d5cb;\n",
       "            color:  #000000;\n",
       "        }    #T_6458d362_b0c9_11ed_b5cb_b4b5b6c516berow5_col2 {\n",
       "            background-color:  #8db0fe;\n",
       "            color:  #000000;\n",
       "        }    #T_6458d362_b0c9_11ed_b5cb_b4b5b6c516berow5_col3 {\n",
       "            background-color:  #799cf8;\n",
       "            color:  #000000;\n",
       "        }    #T_6458d362_b0c9_11ed_b5cb_b4b5b6c516berow5_col4 {\n",
       "            background-color:  #a3c2fe;\n",
       "            color:  #000000;\n",
       "        }    #T_6458d362_b0c9_11ed_b5cb_b4b5b6c516berow5_col5 {\n",
       "            background-color:  #b40426;\n",
       "            color:  #f1f1f1;\n",
       "        }    #T_6458d362_b0c9_11ed_b5cb_b4b5b6c516berow5_col6 {\n",
       "            background-color:  #c1d4f4;\n",
       "            color:  #000000;\n",
       "        }    #T_6458d362_b0c9_11ed_b5cb_b4b5b6c516berow5_col7 {\n",
       "            background-color:  #f4c6af;\n",
       "            color:  #000000;\n",
       "        }    #T_6458d362_b0c9_11ed_b5cb_b4b5b6c516berow5_col8 {\n",
       "            background-color:  #dfdbd9;\n",
       "            color:  #000000;\n",
       "        }    #T_6458d362_b0c9_11ed_b5cb_b4b5b6c516berow5_col9 {\n",
       "            background-color:  #aec9fc;\n",
       "            color:  #000000;\n",
       "        }    #T_6458d362_b0c9_11ed_b5cb_b4b5b6c516berow6_col0 {\n",
       "            background-color:  #3b4cc0;\n",
       "            color:  #f1f1f1;\n",
       "        }    #T_6458d362_b0c9_11ed_b5cb_b4b5b6c516berow6_col1 {\n",
       "            background-color:  #3b4cc0;\n",
       "            color:  #f1f1f1;\n",
       "        }    #T_6458d362_b0c9_11ed_b5cb_b4b5b6c516berow6_col2 {\n",
       "            background-color:  #98b9ff;\n",
       "            color:  #000000;\n",
       "        }    #T_6458d362_b0c9_11ed_b5cb_b4b5b6c516berow6_col3 {\n",
       "            background-color:  #4358cb;\n",
       "            color:  #f1f1f1;\n",
       "        }    #T_6458d362_b0c9_11ed_b5cb_b4b5b6c516berow6_col4 {\n",
       "            background-color:  #9bbcff;\n",
       "            color:  #000000;\n",
       "        }    #T_6458d362_b0c9_11ed_b5cb_b4b5b6c516berow6_col5 {\n",
       "            background-color:  #6f92f3;\n",
       "            color:  #000000;\n",
       "        }    #T_6458d362_b0c9_11ed_b5cb_b4b5b6c516berow6_col6 {\n",
       "            background-color:  #b40426;\n",
       "            color:  #f1f1f1;\n",
       "        }    #T_6458d362_b0c9_11ed_b5cb_b4b5b6c516berow6_col7 {\n",
       "            background-color:  #3f53c6;\n",
       "            color:  #f1f1f1;\n",
       "        }    #T_6458d362_b0c9_11ed_b5cb_b4b5b6c516berow6_col8 {\n",
       "            background-color:  #f3c7b1;\n",
       "            color:  #000000;\n",
       "        }    #T_6458d362_b0c9_11ed_b5cb_b4b5b6c516berow6_col9 {\n",
       "            background-color:  #4055c8;\n",
       "            color:  #f1f1f1;\n",
       "        }    #T_6458d362_b0c9_11ed_b5cb_b4b5b6c516berow7_col0 {\n",
       "            background-color:  #f7ad90;\n",
       "            color:  #000000;\n",
       "        }    #T_6458d362_b0c9_11ed_b5cb_b4b5b6c516berow7_col1 {\n",
       "            background-color:  #f59f80;\n",
       "            color:  #000000;\n",
       "        }    #T_6458d362_b0c9_11ed_b5cb_b4b5b6c516berow7_col2 {\n",
       "            background-color:  #b1cbfc;\n",
       "            color:  #000000;\n",
       "        }    #T_6458d362_b0c9_11ed_b5cb_b4b5b6c516berow7_col3 {\n",
       "            background-color:  #f7bca1;\n",
       "            color:  #000000;\n",
       "        }    #T_6458d362_b0c9_11ed_b5cb_b4b5b6c516berow7_col4 {\n",
       "            background-color:  #4b64d5;\n",
       "            color:  #f1f1f1;\n",
       "        }    #T_6458d362_b0c9_11ed_b5cb_b4b5b6c516berow7_col5 {\n",
       "            background-color:  #e4d9d2;\n",
       "            color:  #000000;\n",
       "        }    #T_6458d362_b0c9_11ed_b5cb_b4b5b6c516berow7_col6 {\n",
       "            background-color:  #6687ed;\n",
       "            color:  #000000;\n",
       "        }    #T_6458d362_b0c9_11ed_b5cb_b4b5b6c516berow7_col7 {\n",
       "            background-color:  #b40426;\n",
       "            color:  #f1f1f1;\n",
       "        }    #T_6458d362_b0c9_11ed_b5cb_b4b5b6c516berow7_col8 {\n",
       "            background-color:  #f3c7b1;\n",
       "            color:  #000000;\n",
       "        }    #T_6458d362_b0c9_11ed_b5cb_b4b5b6c516berow7_col9 {\n",
       "            background-color:  #efcfbf;\n",
       "            color:  #000000;\n",
       "        }    #T_6458d362_b0c9_11ed_b5cb_b4b5b6c516berow8_col0 {\n",
       "            background-color:  #6f92f3;\n",
       "            color:  #000000;\n",
       "        }    #T_6458d362_b0c9_11ed_b5cb_b4b5b6c516berow8_col1 {\n",
       "            background-color:  #cfdaea;\n",
       "            color:  #000000;\n",
       "        }    #T_6458d362_b0c9_11ed_b5cb_b4b5b6c516berow8_col2 {\n",
       "            background-color:  #4c66d6;\n",
       "            color:  #000000;\n",
       "        }    #T_6458d362_b0c9_11ed_b5cb_b4b5b6c516berow8_col3 {\n",
       "            background-color:  #e3d9d3;\n",
       "            color:  #000000;\n",
       "        }    #T_6458d362_b0c9_11ed_b5cb_b4b5b6c516berow8_col4 {\n",
       "            background-color:  #3b4cc0;\n",
       "            color:  #f1f1f1;\n",
       "        }    #T_6458d362_b0c9_11ed_b5cb_b4b5b6c516berow8_col5 {\n",
       "            background-color:  #b2ccfb;\n",
       "            color:  #000000;\n",
       "        }    #T_6458d362_b0c9_11ed_b5cb_b4b5b6c516berow8_col6 {\n",
       "            background-color:  #f6bfa6;\n",
       "            color:  #000000;\n",
       "        }    #T_6458d362_b0c9_11ed_b5cb_b4b5b6c516berow8_col7 {\n",
       "            background-color:  #f1cdba;\n",
       "            color:  #000000;\n",
       "        }    #T_6458d362_b0c9_11ed_b5cb_b4b5b6c516berow8_col8 {\n",
       "            background-color:  #b40426;\n",
       "            color:  #f1f1f1;\n",
       "        }    #T_6458d362_b0c9_11ed_b5cb_b4b5b6c516berow8_col9 {\n",
       "            background-color:  #bbd1f8;\n",
       "            color:  #000000;\n",
       "        }    #T_6458d362_b0c9_11ed_b5cb_b4b5b6c516berow9_col0 {\n",
       "            background-color:  #cad8ef;\n",
       "            color:  #000000;\n",
       "        }    #T_6458d362_b0c9_11ed_b5cb_b4b5b6c516berow9_col1 {\n",
       "            background-color:  #c1d4f4;\n",
       "            color:  #000000;\n",
       "        }    #T_6458d362_b0c9_11ed_b5cb_b4b5b6c516berow9_col2 {\n",
       "            background-color:  #5673e0;\n",
       "            color:  #000000;\n",
       "        }    #T_6458d362_b0c9_11ed_b5cb_b4b5b6c516berow9_col3 {\n",
       "            background-color:  #f5c0a7;\n",
       "            color:  #000000;\n",
       "        }    #T_6458d362_b0c9_11ed_b5cb_b4b5b6c516berow9_col4 {\n",
       "            background-color:  #92b4fe;\n",
       "            color:  #000000;\n",
       "        }    #T_6458d362_b0c9_11ed_b5cb_b4b5b6c516berow9_col5 {\n",
       "            background-color:  #93b5fe;\n",
       "            color:  #000000;\n",
       "        }    #T_6458d362_b0c9_11ed_b5cb_b4b5b6c516berow9_col6 {\n",
       "            background-color:  #81a4fb;\n",
       "            color:  #000000;\n",
       "        }    #T_6458d362_b0c9_11ed_b5cb_b4b5b6c516berow9_col7 {\n",
       "            background-color:  #f4c6af;\n",
       "            color:  #000000;\n",
       "        }    #T_6458d362_b0c9_11ed_b5cb_b4b5b6c516berow9_col8 {\n",
       "            background-color:  #d6dce4;\n",
       "            color:  #000000;\n",
       "        }    #T_6458d362_b0c9_11ed_b5cb_b4b5b6c516berow9_col9 {\n",
       "            background-color:  #b40426;\n",
       "            color:  #f1f1f1;\n",
       "        }</style><table id=\"T_6458d362_b0c9_11ed_b5cb_b4b5b6c516be\" ><thead>    <tr>        <th class=\"blank level0\" ></th>        <th class=\"col_heading level0 col0\" >0</th>        <th class=\"col_heading level0 col1\" >1</th>        <th class=\"col_heading level0 col2\" >2</th>        <th class=\"col_heading level0 col3\" >3</th>        <th class=\"col_heading level0 col4\" >4</th>        <th class=\"col_heading level0 col5\" >5</th>        <th class=\"col_heading level0 col6\" >6</th>        <th class=\"col_heading level0 col7\" >7</th>        <th class=\"col_heading level0 col8\" >8</th>        <th class=\"col_heading level0 col9\" >9</th>    </tr></thead><tbody>\n",
       "                <tr>\n",
       "                        <th id=\"T_6458d362_b0c9_11ed_b5cb_b4b5b6c516belevel0_row0\" class=\"row_heading level0 row0\" >0</th>\n",
       "                        <td id=\"T_6458d362_b0c9_11ed_b5cb_b4b5b6c516berow0_col0\" class=\"data row0 col0\" >1.000000</td>\n",
       "                        <td id=\"T_6458d362_b0c9_11ed_b5cb_b4b5b6c516berow0_col1\" class=\"data row0 col1\" >0.347533</td>\n",
       "                        <td id=\"T_6458d362_b0c9_11ed_b5cb_b4b5b6c516berow0_col2\" class=\"data row0 col2\" >0.398948</td>\n",
       "                        <td id=\"T_6458d362_b0c9_11ed_b5cb_b4b5b6c516berow0_col3\" class=\"data row0 col3\" >0.455743</td>\n",
       "                        <td id=\"T_6458d362_b0c9_11ed_b5cb_b4b5b6c516berow0_col4\" class=\"data row0 col4\" >0.072914</td>\n",
       "                        <td id=\"T_6458d362_b0c9_11ed_b5cb_b4b5b6c516berow0_col5\" class=\"data row0 col5\" >-0.233402</td>\n",
       "                        <td id=\"T_6458d362_b0c9_11ed_b5cb_b4b5b6c516berow0_col6\" class=\"data row0 col6\" >-0.731222</td>\n",
       "                        <td id=\"T_6458d362_b0c9_11ed_b5cb_b4b5b6c516berow0_col7\" class=\"data row0 col7\" >0.477978</td>\n",
       "                        <td id=\"T_6458d362_b0c9_11ed_b5cb_b4b5b6c516berow0_col8\" class=\"data row0 col8\" >-0.442621</td>\n",
       "                        <td id=\"T_6458d362_b0c9_11ed_b5cb_b4b5b6c516berow0_col9\" class=\"data row0 col9\" >0.015185</td>\n",
       "            </tr>\n",
       "            <tr>\n",
       "                        <th id=\"T_6458d362_b0c9_11ed_b5cb_b4b5b6c516belevel0_row1\" class=\"row_heading level0 row1\" >1</th>\n",
       "                        <td id=\"T_6458d362_b0c9_11ed_b5cb_b4b5b6c516berow1_col0\" class=\"data row1 col0\" >0.347533</td>\n",
       "                        <td id=\"T_6458d362_b0c9_11ed_b5cb_b4b5b6c516berow1_col1\" class=\"data row1 col1\" >1.000000</td>\n",
       "                        <td id=\"T_6458d362_b0c9_11ed_b5cb_b4b5b6c516berow1_col2\" class=\"data row1 col2\" >-0.284056</td>\n",
       "                        <td id=\"T_6458d362_b0c9_11ed_b5cb_b4b5b6c516berow1_col3\" class=\"data row1 col3\" >0.571003</td>\n",
       "                        <td id=\"T_6458d362_b0c9_11ed_b5cb_b4b5b6c516berow1_col4\" class=\"data row1 col4\" >-0.285483</td>\n",
       "                        <td id=\"T_6458d362_b0c9_11ed_b5cb_b4b5b6c516berow1_col5\" class=\"data row1 col5\" >0.382480</td>\n",
       "                        <td id=\"T_6458d362_b0c9_11ed_b5cb_b4b5b6c516berow1_col6\" class=\"data row1 col6\" >-0.362842</td>\n",
       "                        <td id=\"T_6458d362_b0c9_11ed_b5cb_b4b5b6c516berow1_col7\" class=\"data row1 col7\" >0.642578</td>\n",
       "                        <td id=\"T_6458d362_b0c9_11ed_b5cb_b4b5b6c516berow1_col8\" class=\"data row1 col8\" >0.252556</td>\n",
       "                        <td id=\"T_6458d362_b0c9_11ed_b5cb_b4b5b6c516berow1_col9\" class=\"data row1 col9\" >0.190047</td>\n",
       "            </tr>\n",
       "            <tr>\n",
       "                        <th id=\"T_6458d362_b0c9_11ed_b5cb_b4b5b6c516belevel0_row2\" class=\"row_heading level0 row2\" >2</th>\n",
       "                        <td id=\"T_6458d362_b0c9_11ed_b5cb_b4b5b6c516berow2_col0\" class=\"data row2 col0\" >0.398948</td>\n",
       "                        <td id=\"T_6458d362_b0c9_11ed_b5cb_b4b5b6c516berow2_col1\" class=\"data row2 col1\" >-0.284056</td>\n",
       "                        <td id=\"T_6458d362_b0c9_11ed_b5cb_b4b5b6c516berow2_col2\" class=\"data row2 col2\" >1.000000</td>\n",
       "                        <td id=\"T_6458d362_b0c9_11ed_b5cb_b4b5b6c516berow2_col3\" class=\"data row2 col3\" >-0.523649</td>\n",
       "                        <td id=\"T_6458d362_b0c9_11ed_b5cb_b4b5b6c516berow2_col4\" class=\"data row2 col4\" >0.152937</td>\n",
       "                        <td id=\"T_6458d362_b0c9_11ed_b5cb_b4b5b6c516berow2_col5\" class=\"data row2 col5\" >-0.139176</td>\n",
       "                        <td id=\"T_6458d362_b0c9_11ed_b5cb_b4b5b6c516berow2_col6\" class=\"data row2 col6\" >-0.092895</td>\n",
       "                        <td id=\"T_6458d362_b0c9_11ed_b5cb_b4b5b6c516berow2_col7\" class=\"data row2 col7\" >0.016266</td>\n",
       "                        <td id=\"T_6458d362_b0c9_11ed_b5cb_b4b5b6c516berow2_col8\" class=\"data row2 col8\" >-0.434016</td>\n",
       "                        <td id=\"T_6458d362_b0c9_11ed_b5cb_b4b5b6c516berow2_col9\" class=\"data row2 col9\" >-0.383585</td>\n",
       "            </tr>\n",
       "            <tr>\n",
       "                        <th id=\"T_6458d362_b0c9_11ed_b5cb_b4b5b6c516belevel0_row3\" class=\"row_heading level0 row3\" >3</th>\n",
       "                        <td id=\"T_6458d362_b0c9_11ed_b5cb_b4b5b6c516berow3_col0\" class=\"data row3 col0\" >0.455743</td>\n",
       "                        <td id=\"T_6458d362_b0c9_11ed_b5cb_b4b5b6c516berow3_col1\" class=\"data row3 col1\" >0.571003</td>\n",
       "                        <td id=\"T_6458d362_b0c9_11ed_b5cb_b4b5b6c516berow3_col2\" class=\"data row3 col2\" >-0.523649</td>\n",
       "                        <td id=\"T_6458d362_b0c9_11ed_b5cb_b4b5b6c516berow3_col3\" class=\"data row3 col3\" >1.000000</td>\n",
       "                        <td id=\"T_6458d362_b0c9_11ed_b5cb_b4b5b6c516berow3_col4\" class=\"data row3 col4\" >-0.225343</td>\n",
       "                        <td id=\"T_6458d362_b0c9_11ed_b5cb_b4b5b6c516berow3_col5\" class=\"data row3 col5\" >-0.227577</td>\n",
       "                        <td id=\"T_6458d362_b0c9_11ed_b5cb_b4b5b6c516berow3_col6\" class=\"data row3 col6\" >-0.481548</td>\n",
       "                        <td id=\"T_6458d362_b0c9_11ed_b5cb_b4b5b6c516berow3_col7\" class=\"data row3 col7\" >0.473286</td>\n",
       "                        <td id=\"T_6458d362_b0c9_11ed_b5cb_b4b5b6c516berow3_col8\" class=\"data row3 col8\" >0.279258</td>\n",
       "                        <td id=\"T_6458d362_b0c9_11ed_b5cb_b4b5b6c516berow3_col9\" class=\"data row3 col9\" >0.446650</td>\n",
       "            </tr>\n",
       "            <tr>\n",
       "                        <th id=\"T_6458d362_b0c9_11ed_b5cb_b4b5b6c516belevel0_row4\" class=\"row_heading level0 row4\" >4</th>\n",
       "                        <td id=\"T_6458d362_b0c9_11ed_b5cb_b4b5b6c516berow4_col0\" class=\"data row4 col0\" >0.072914</td>\n",
       "                        <td id=\"T_6458d362_b0c9_11ed_b5cb_b4b5b6c516berow4_col1\" class=\"data row4 col1\" >-0.285483</td>\n",
       "                        <td id=\"T_6458d362_b0c9_11ed_b5cb_b4b5b6c516berow4_col2\" class=\"data row4 col2\" >0.152937</td>\n",
       "                        <td id=\"T_6458d362_b0c9_11ed_b5cb_b4b5b6c516berow4_col3\" class=\"data row4 col3\" >-0.225343</td>\n",
       "                        <td id=\"T_6458d362_b0c9_11ed_b5cb_b4b5b6c516berow4_col4\" class=\"data row4 col4\" >1.000000</td>\n",
       "                        <td id=\"T_6458d362_b0c9_11ed_b5cb_b4b5b6c516berow4_col5\" class=\"data row4 col5\" >-0.104438</td>\n",
       "                        <td id=\"T_6458d362_b0c9_11ed_b5cb_b4b5b6c516berow4_col6\" class=\"data row4 col6\" >-0.147477</td>\n",
       "                        <td id=\"T_6458d362_b0c9_11ed_b5cb_b4b5b6c516berow4_col7\" class=\"data row4 col7\" >-0.523283</td>\n",
       "                        <td id=\"T_6458d362_b0c9_11ed_b5cb_b4b5b6c516berow4_col8\" class=\"data row4 col8\" >-0.614603</td>\n",
       "                        <td id=\"T_6458d362_b0c9_11ed_b5cb_b4b5b6c516berow4_col9\" class=\"data row4 col9\" >-0.189916</td>\n",
       "            </tr>\n",
       "            <tr>\n",
       "                        <th id=\"T_6458d362_b0c9_11ed_b5cb_b4b5b6c516belevel0_row5\" class=\"row_heading level0 row5\" >5</th>\n",
       "                        <td id=\"T_6458d362_b0c9_11ed_b5cb_b4b5b6c516berow5_col0\" class=\"data row5 col0\" >-0.233402</td>\n",
       "                        <td id=\"T_6458d362_b0c9_11ed_b5cb_b4b5b6c516berow5_col1\" class=\"data row5 col1\" >0.382480</td>\n",
       "                        <td id=\"T_6458d362_b0c9_11ed_b5cb_b4b5b6c516berow5_col2\" class=\"data row5 col2\" >-0.139176</td>\n",
       "                        <td id=\"T_6458d362_b0c9_11ed_b5cb_b4b5b6c516berow5_col3\" class=\"data row5 col3\" >-0.227577</td>\n",
       "                        <td id=\"T_6458d362_b0c9_11ed_b5cb_b4b5b6c516berow5_col4\" class=\"data row5 col4\" >-0.104438</td>\n",
       "                        <td id=\"T_6458d362_b0c9_11ed_b5cb_b4b5b6c516berow5_col5\" class=\"data row5 col5\" >1.000000</td>\n",
       "                        <td id=\"T_6458d362_b0c9_11ed_b5cb_b4b5b6c516berow5_col6\" class=\"data row5 col6\" >-0.030252</td>\n",
       "                        <td id=\"T_6458d362_b0c9_11ed_b5cb_b4b5b6c516berow5_col7\" class=\"data row5 col7\" >0.417640</td>\n",
       "                        <td id=\"T_6458d362_b0c9_11ed_b5cb_b4b5b6c516berow5_col8\" class=\"data row5 col8\" >0.205851</td>\n",
       "                        <td id=\"T_6458d362_b0c9_11ed_b5cb_b4b5b6c516berow5_col9\" class=\"data row5 col9\" >0.095084</td>\n",
       "            </tr>\n",
       "            <tr>\n",
       "                        <th id=\"T_6458d362_b0c9_11ed_b5cb_b4b5b6c516belevel0_row6\" class=\"row_heading level0 row6\" >6</th>\n",
       "                        <td id=\"T_6458d362_b0c9_11ed_b5cb_b4b5b6c516berow6_col0\" class=\"data row6 col0\" >-0.731222</td>\n",
       "                        <td id=\"T_6458d362_b0c9_11ed_b5cb_b4b5b6c516berow6_col1\" class=\"data row6 col1\" >-0.362842</td>\n",
       "                        <td id=\"T_6458d362_b0c9_11ed_b5cb_b4b5b6c516berow6_col2\" class=\"data row6 col2\" >-0.092895</td>\n",
       "                        <td id=\"T_6458d362_b0c9_11ed_b5cb_b4b5b6c516berow6_col3\" class=\"data row6 col3\" >-0.481548</td>\n",
       "                        <td id=\"T_6458d362_b0c9_11ed_b5cb_b4b5b6c516berow6_col4\" class=\"data row6 col4\" >-0.147477</td>\n",
       "                        <td id=\"T_6458d362_b0c9_11ed_b5cb_b4b5b6c516berow6_col5\" class=\"data row6 col5\" >-0.030252</td>\n",
       "                        <td id=\"T_6458d362_b0c9_11ed_b5cb_b4b5b6c516berow6_col6\" class=\"data row6 col6\" >1.000000</td>\n",
       "                        <td id=\"T_6458d362_b0c9_11ed_b5cb_b4b5b6c516berow6_col7\" class=\"data row6 col7\" >-0.494440</td>\n",
       "                        <td id=\"T_6458d362_b0c9_11ed_b5cb_b4b5b6c516berow6_col8\" class=\"data row6 col8\" >0.381407</td>\n",
       "                        <td id=\"T_6458d362_b0c9_11ed_b5cb_b4b5b6c516berow6_col9\" class=\"data row6 col9\" >-0.353652</td>\n",
       "            </tr>\n",
       "            <tr>\n",
       "                        <th id=\"T_6458d362_b0c9_11ed_b5cb_b4b5b6c516belevel0_row7\" class=\"row_heading level0 row7\" >7</th>\n",
       "                        <td id=\"T_6458d362_b0c9_11ed_b5cb_b4b5b6c516berow7_col0\" class=\"data row7 col0\" >0.477978</td>\n",
       "                        <td id=\"T_6458d362_b0c9_11ed_b5cb_b4b5b6c516berow7_col1\" class=\"data row7 col1\" >0.642578</td>\n",
       "                        <td id=\"T_6458d362_b0c9_11ed_b5cb_b4b5b6c516berow7_col2\" class=\"data row7 col2\" >0.016266</td>\n",
       "                        <td id=\"T_6458d362_b0c9_11ed_b5cb_b4b5b6c516berow7_col3\" class=\"data row7 col3\" >0.473286</td>\n",
       "                        <td id=\"T_6458d362_b0c9_11ed_b5cb_b4b5b6c516berow7_col4\" class=\"data row7 col4\" >-0.523283</td>\n",
       "                        <td id=\"T_6458d362_b0c9_11ed_b5cb_b4b5b6c516berow7_col5\" class=\"data row7 col5\" >0.417640</td>\n",
       "                        <td id=\"T_6458d362_b0c9_11ed_b5cb_b4b5b6c516berow7_col6\" class=\"data row7 col6\" >-0.494440</td>\n",
       "                        <td id=\"T_6458d362_b0c9_11ed_b5cb_b4b5b6c516berow7_col7\" class=\"data row7 col7\" >1.000000</td>\n",
       "                        <td id=\"T_6458d362_b0c9_11ed_b5cb_b4b5b6c516berow7_col8\" class=\"data row7 col8\" >0.375873</td>\n",
       "                        <td id=\"T_6458d362_b0c9_11ed_b5cb_b4b5b6c516berow7_col9\" class=\"data row7 col9\" >0.417863</td>\n",
       "            </tr>\n",
       "            <tr>\n",
       "                        <th id=\"T_6458d362_b0c9_11ed_b5cb_b4b5b6c516belevel0_row8\" class=\"row_heading level0 row8\" >8</th>\n",
       "                        <td id=\"T_6458d362_b0c9_11ed_b5cb_b4b5b6c516berow8_col0\" class=\"data row8 col0\" >-0.442621</td>\n",
       "                        <td id=\"T_6458d362_b0c9_11ed_b5cb_b4b5b6c516berow8_col1\" class=\"data row8 col1\" >0.252556</td>\n",
       "                        <td id=\"T_6458d362_b0c9_11ed_b5cb_b4b5b6c516berow8_col2\" class=\"data row8 col2\" >-0.434016</td>\n",
       "                        <td id=\"T_6458d362_b0c9_11ed_b5cb_b4b5b6c516berow8_col3\" class=\"data row8 col3\" >0.279258</td>\n",
       "                        <td id=\"T_6458d362_b0c9_11ed_b5cb_b4b5b6c516berow8_col4\" class=\"data row8 col4\" >-0.614603</td>\n",
       "                        <td id=\"T_6458d362_b0c9_11ed_b5cb_b4b5b6c516berow8_col5\" class=\"data row8 col5\" >0.205851</td>\n",
       "                        <td id=\"T_6458d362_b0c9_11ed_b5cb_b4b5b6c516berow8_col6\" class=\"data row8 col6\" >0.381407</td>\n",
       "                        <td id=\"T_6458d362_b0c9_11ed_b5cb_b4b5b6c516berow8_col7\" class=\"data row8 col7\" >0.375873</td>\n",
       "                        <td id=\"T_6458d362_b0c9_11ed_b5cb_b4b5b6c516berow8_col8\" class=\"data row8 col8\" >1.000000</td>\n",
       "                        <td id=\"T_6458d362_b0c9_11ed_b5cb_b4b5b6c516berow8_col9\" class=\"data row8 col9\" >0.150421</td>\n",
       "            </tr>\n",
       "            <tr>\n",
       "                        <th id=\"T_6458d362_b0c9_11ed_b5cb_b4b5b6c516belevel0_row9\" class=\"row_heading level0 row9\" >9</th>\n",
       "                        <td id=\"T_6458d362_b0c9_11ed_b5cb_b4b5b6c516berow9_col0\" class=\"data row9 col0\" >0.015185</td>\n",
       "                        <td id=\"T_6458d362_b0c9_11ed_b5cb_b4b5b6c516berow9_col1\" class=\"data row9 col1\" >0.190047</td>\n",
       "                        <td id=\"T_6458d362_b0c9_11ed_b5cb_b4b5b6c516berow9_col2\" class=\"data row9 col2\" >-0.383585</td>\n",
       "                        <td id=\"T_6458d362_b0c9_11ed_b5cb_b4b5b6c516berow9_col3\" class=\"data row9 col3\" >0.446650</td>\n",
       "                        <td id=\"T_6458d362_b0c9_11ed_b5cb_b4b5b6c516berow9_col4\" class=\"data row9 col4\" >-0.189916</td>\n",
       "                        <td id=\"T_6458d362_b0c9_11ed_b5cb_b4b5b6c516berow9_col5\" class=\"data row9 col5\" >0.095084</td>\n",
       "                        <td id=\"T_6458d362_b0c9_11ed_b5cb_b4b5b6c516berow9_col6\" class=\"data row9 col6\" >-0.353652</td>\n",
       "                        <td id=\"T_6458d362_b0c9_11ed_b5cb_b4b5b6c516berow9_col7\" class=\"data row9 col7\" >0.417863</td>\n",
       "                        <td id=\"T_6458d362_b0c9_11ed_b5cb_b4b5b6c516berow9_col8\" class=\"data row9 col8\" >0.150421</td>\n",
       "                        <td id=\"T_6458d362_b0c9_11ed_b5cb_b4b5b6c516berow9_col9\" class=\"data row9 col9\" >1.000000</td>\n",
       "            </tr>\n",
       "    </tbody></table>"
      ],
      "text/plain": [
       "<pandas.io.formats.style.Styler at 0x24a9530e088>"
      ]
     },
     "execution_count": 87,
     "metadata": {},
     "output_type": "execute_result"
    }
   ],
   "source": [
    "rs=np.random.RandomState(0)\n",
    "df_i=pd.DataFrame(rs.rand(10,10))\n",
    "corr=df_i.corr()\n",
    "corr.style.background_gradient(cmap='coolwarm')"
   ]
  },
  {
   "cell_type": "code",
   "execution_count": 100,
   "id": "4727388d",
   "metadata": {},
   "outputs": [
    {
     "data": {
      "image/png": "[encoded data removed]",
      "text/plain": [
       "<Figure size 792x576 with 2 Axes>"
      ]
     },
     "metadata": {
      "needs_background": "light"
     },
     "output_type": "display_data"
    }
   ],
   "source": [
    "rs = np.random.RandomState(0)\n",
    "df_i = pd.DataFrame(rs.rand(18, 18))\n",
    "df_i= df_i.iloc[: , [3,4,5,6,7,8,9,10,11,12,13,14,17]].copy()\n",
    "corr = df_i.corr()\n",
    "plt.figure(figsize=(11,8))\n",
    "sns.heatmap(corr, cmap=\"Greens\",annot=True)\n",
    "plt.show()"
   ]
  },
  {
   "cell_type": "code",
   "execution_count": 93,
   "id": "28f5e91d",
   "metadata": {},
   "outputs": [
    {
     "data": {
      "text/html": [
       "<style  type=\"text/css\" >\n",
       "    #T_c0b65998_b0c9_11ed_80e0_b4b5b6c516berow0_col0 {\n",
       "            background-color:  #b40426;\n",
       "            color:  #f1f1f1;\n",
       "        }    #T_c0b65998_b0c9_11ed_80e0_b4b5b6c516berow0_col1 {\n",
       "            background-color:  #3c4ec2;\n",
       "            color:  #f1f1f1;\n",
       "        }    #T_c0b65998_b0c9_11ed_80e0_b4b5b6c516berow0_col2 {\n",
       "            background-color:  #dedcdb;\n",
       "            color:  #000000;\n",
       "        }    #T_c0b65998_b0c9_11ed_80e0_b4b5b6c516berow0_col3 {\n",
       "            background-color:  #5673e0;\n",
       "            color:  #000000;\n",
       "        }    #T_c0b65998_b0c9_11ed_80e0_b4b5b6c516berow0_col4 {\n",
       "            background-color:  #465ecf;\n",
       "            color:  #f1f1f1;\n",
       "        }    #T_c0b65998_b0c9_11ed_80e0_b4b5b6c516berow0_col5 {\n",
       "            background-color:  #d6dce4;\n",
       "            color:  #000000;\n",
       "        }    #T_c0b65998_b0c9_11ed_80e0_b4b5b6c516berow0_col6 {\n",
       "            background-color:  #a9c6fd;\n",
       "            color:  #000000;\n",
       "        }    #T_c0b65998_b0c9_11ed_80e0_b4b5b6c516berow0_col7 {\n",
       "            background-color:  #4b64d5;\n",
       "            color:  #f1f1f1;\n",
       "        }    #T_c0b65998_b0c9_11ed_80e0_b4b5b6c516berow1_col0 {\n",
       "            background-color:  #3c4ec2;\n",
       "            color:  #f1f1f1;\n",
       "        }    #T_c0b65998_b0c9_11ed_80e0_b4b5b6c516berow1_col1 {\n",
       "            background-color:  #b40426;\n",
       "            color:  #f1f1f1;\n",
       "        }    #T_c0b65998_b0c9_11ed_80e0_b4b5b6c516berow1_col2 {\n",
       "            background-color:  #afcafc;\n",
       "            color:  #000000;\n",
       "        }    #T_c0b65998_b0c9_11ed_80e0_b4b5b6c516berow1_col3 {\n",
       "            background-color:  #e9785d;\n",
       "            color:  #000000;\n",
       "        }    #T_c0b65998_b0c9_11ed_80e0_b4b5b6c516berow1_col4 {\n",
       "            background-color:  #f1cdba;\n",
       "            color:  #000000;\n",
       "        }    #T_c0b65998_b0c9_11ed_80e0_b4b5b6c516berow1_col5 {\n",
       "            background-color:  #f7b093;\n",
       "            color:  #000000;\n",
       "        }    #T_c0b65998_b0c9_11ed_80e0_b4b5b6c516berow1_col6 {\n",
       "            background-color:  #d5dbe5;\n",
       "            color:  #000000;\n",
       "        }    #T_c0b65998_b0c9_11ed_80e0_b4b5b6c516berow1_col7 {\n",
       "            background-color:  #c83836;\n",
       "            color:  #f1f1f1;\n",
       "        }    #T_c0b65998_b0c9_11ed_80e0_b4b5b6c516berow2_col0 {\n",
       "            background-color:  #dedcdb;\n",
       "            color:  #000000;\n",
       "        }    #T_c0b65998_b0c9_11ed_80e0_b4b5b6c516berow2_col1 {\n",
       "            background-color:  #afcafc;\n",
       "            color:  #000000;\n",
       "        }    #T_c0b65998_b0c9_11ed_80e0_b4b5b6c516berow2_col2 {\n",
       "            background-color:  #b40426;\n",
       "            color:  #f1f1f1;\n",
       "        }    #T_c0b65998_b0c9_11ed_80e0_b4b5b6c516berow2_col3 {\n",
       "            background-color:  #7699f6;\n",
       "            color:  #000000;\n",
       "        }    #T_c0b65998_b0c9_11ed_80e0_b4b5b6c516berow2_col4 {\n",
       "            background-color:  #ead5c9;\n",
       "            color:  #000000;\n",
       "        }    #T_c0b65998_b0c9_11ed_80e0_b4b5b6c516berow2_col5 {\n",
       "            background-color:  #f1ccb8;\n",
       "            color:  #000000;\n",
       "        }    #T_c0b65998_b0c9_11ed_80e0_b4b5b6c516berow2_col6 {\n",
       "            background-color:  #3b4cc0;\n",
       "            color:  #f1f1f1;\n",
       "        }    #T_c0b65998_b0c9_11ed_80e0_b4b5b6c516berow2_col7 {\n",
       "            background-color:  #6788ee;\n",
       "            color:  #000000;\n",
       "        }    #T_c0b65998_b0c9_11ed_80e0_b4b5b6c516berow3_col0 {\n",
       "            background-color:  #5673e0;\n",
       "            color:  #000000;\n",
       "        }    #T_c0b65998_b0c9_11ed_80e0_b4b5b6c516berow3_col1 {\n",
       "            background-color:  #e9785d;\n",
       "            color:  #000000;\n",
       "        }    #T_c0b65998_b0c9_11ed_80e0_b4b5b6c516berow3_col2 {\n",
       "            background-color:  #7699f6;\n",
       "            color:  #000000;\n",
       "        }    #T_c0b65998_b0c9_11ed_80e0_b4b5b6c516berow3_col3 {\n",
       "            background-color:  #b40426;\n",
       "            color:  #f1f1f1;\n",
       "        }    #T_c0b65998_b0c9_11ed_80e0_b4b5b6c516berow3_col4 {\n",
       "            background-color:  #e9d5cb;\n",
       "            color:  #000000;\n",
       "        }    #T_c0b65998_b0c9_11ed_80e0_b4b5b6c516berow3_col5 {\n",
       "            background-color:  #e3d9d3;\n",
       "            color:  #000000;\n",
       "        }    #T_c0b65998_b0c9_11ed_80e0_b4b5b6c516berow3_col6 {\n",
       "            background-color:  #c9d7f0;\n",
       "            color:  #000000;\n",
       "        }    #T_c0b65998_b0c9_11ed_80e0_b4b5b6c516berow3_col7 {\n",
       "            background-color:  #e67259;\n",
       "            color:  #000000;\n",
       "        }    #T_c0b65998_b0c9_11ed_80e0_b4b5b6c516berow4_col0 {\n",
       "            background-color:  #465ecf;\n",
       "            color:  #f1f1f1;\n",
       "        }    #T_c0b65998_b0c9_11ed_80e0_b4b5b6c516berow4_col1 {\n",
       "            background-color:  #f1cdba;\n",
       "            color:  #000000;\n",
       "        }    #T_c0b65998_b0c9_11ed_80e0_b4b5b6c516berow4_col2 {\n",
       "            background-color:  #ead5c9;\n",
       "            color:  #000000;\n",
       "        }    #T_c0b65998_b0c9_11ed_80e0_b4b5b6c516berow4_col3 {\n",
       "            background-color:  #e9d5cb;\n",
       "            color:  #000000;\n",
       "        }    #T_c0b65998_b0c9_11ed_80e0_b4b5b6c516berow4_col4 {\n",
       "            background-color:  #b40426;\n",
       "            color:  #f1f1f1;\n",
       "        }    #T_c0b65998_b0c9_11ed_80e0_b4b5b6c516berow4_col5 {\n",
       "            background-color:  #dbdcde;\n",
       "            color:  #000000;\n",
       "        }    #T_c0b65998_b0c9_11ed_80e0_b4b5b6c516berow4_col6 {\n",
       "            background-color:  #7b9ff9;\n",
       "            color:  #000000;\n",
       "        }    #T_c0b65998_b0c9_11ed_80e0_b4b5b6c516berow4_col7 {\n",
       "            background-color:  #c5d6f2;\n",
       "            color:  #000000;\n",
       "        }    #T_c0b65998_b0c9_11ed_80e0_b4b5b6c516berow5_col0 {\n",
       "            background-color:  #d6dce4;\n",
       "            color:  #000000;\n",
       "        }    #T_c0b65998_b0c9_11ed_80e0_b4b5b6c516berow5_col1 {\n",
       "            background-color:  #f7b093;\n",
       "            color:  #000000;\n",
       "        }    #T_c0b65998_b0c9_11ed_80e0_b4b5b6c516berow5_col2 {\n",
       "            background-color:  #f1ccb8;\n",
       "            color:  #000000;\n",
       "        }    #T_c0b65998_b0c9_11ed_80e0_b4b5b6c516berow5_col3 {\n",
       "            background-color:  #e3d9d3;\n",
       "            color:  #000000;\n",
       "        }    #T_c0b65998_b0c9_11ed_80e0_b4b5b6c516berow5_col4 {\n",
       "            background-color:  #dbdcde;\n",
       "            color:  #000000;\n",
       "        }    #T_c0b65998_b0c9_11ed_80e0_b4b5b6c516berow5_col5 {\n",
       "            background-color:  #b40426;\n",
       "            color:  #f1f1f1;\n",
       "        }    #T_c0b65998_b0c9_11ed_80e0_b4b5b6c516berow5_col6 {\n",
       "            background-color:  #96b7ff;\n",
       "            color:  #000000;\n",
       "        }    #T_c0b65998_b0c9_11ed_80e0_b4b5b6c516berow5_col7 {\n",
       "            background-color:  #e5d8d1;\n",
       "            color:  #000000;\n",
       "        }    #T_c0b65998_b0c9_11ed_80e0_b4b5b6c516berow6_col0 {\n",
       "            background-color:  #a9c6fd;\n",
       "            color:  #000000;\n",
       "        }    #T_c0b65998_b0c9_11ed_80e0_b4b5b6c516berow6_col1 {\n",
       "            background-color:  #d5dbe5;\n",
       "            color:  #000000;\n",
       "        }    #T_c0b65998_b0c9_11ed_80e0_b4b5b6c516berow6_col2 {\n",
       "            background-color:  #3b4cc0;\n",
       "            color:  #f1f1f1;\n",
       "        }    #T_c0b65998_b0c9_11ed_80e0_b4b5b6c516berow6_col3 {\n",
       "            background-color:  #c9d7f0;\n",
       "            color:  #000000;\n",
       "        }    #T_c0b65998_b0c9_11ed_80e0_b4b5b6c516berow6_col4 {\n",
       "            background-color:  #7b9ff9;\n",
       "            color:  #000000;\n",
       "        }    #T_c0b65998_b0c9_11ed_80e0_b4b5b6c516berow6_col5 {\n",
       "            background-color:  #96b7ff;\n",
       "            color:  #000000;\n",
       "        }    #T_c0b65998_b0c9_11ed_80e0_b4b5b6c516berow6_col6 {\n",
       "            background-color:  #b40426;\n",
       "            color:  #f1f1f1;\n",
       "        }    #T_c0b65998_b0c9_11ed_80e0_b4b5b6c516berow6_col7 {\n",
       "            background-color:  #f4c6af;\n",
       "            color:  #000000;\n",
       "        }    #T_c0b65998_b0c9_11ed_80e0_b4b5b6c516berow7_col0 {\n",
       "            background-color:  #4b64d5;\n",
       "            color:  #f1f1f1;\n",
       "        }    #T_c0b65998_b0c9_11ed_80e0_b4b5b6c516berow7_col1 {\n",
       "            background-color:  #c83836;\n",
       "            color:  #f1f1f1;\n",
       "        }    #T_c0b65998_b0c9_11ed_80e0_b4b5b6c516berow7_col2 {\n",
       "            background-color:  #6788ee;\n",
       "            color:  #000000;\n",
       "        }    #T_c0b65998_b0c9_11ed_80e0_b4b5b6c516berow7_col3 {\n",
       "            background-color:  #e67259;\n",
       "            color:  #000000;\n",
       "        }    #T_c0b65998_b0c9_11ed_80e0_b4b5b6c516berow7_col4 {\n",
       "            background-color:  #c5d6f2;\n",
       "            color:  #000000;\n",
       "        }    #T_c0b65998_b0c9_11ed_80e0_b4b5b6c516berow7_col5 {\n",
       "            background-color:  #e5d8d1;\n",
       "            color:  #000000;\n",
       "        }    #T_c0b65998_b0c9_11ed_80e0_b4b5b6c516berow7_col6 {\n",
       "            background-color:  #f4c6af;\n",
       "            color:  #000000;\n",
       "        }    #T_c0b65998_b0c9_11ed_80e0_b4b5b6c516berow7_col7 {\n",
       "            background-color:  #b40426;\n",
       "            color:  #f1f1f1;\n",
       "        }</style><table id=\"T_c0b65998_b0c9_11ed_80e0_b4b5b6c516be\" ><thead>    <tr>        <th class=\"blank level0\" ></th>        <th class=\"col_heading level0 col0\" >0</th>        <th class=\"col_heading level0 col1\" >1</th>        <th class=\"col_heading level0 col2\" >2</th>        <th class=\"col_heading level0 col3\" >3</th>        <th class=\"col_heading level0 col4\" >4</th>        <th class=\"col_heading level0 col5\" >5</th>        <th class=\"col_heading level0 col6\" >6</th>        <th class=\"col_heading level0 col7\" >7</th>    </tr></thead><tbody>\n",
       "                <tr>\n",
       "                        <th id=\"T_c0b65998_b0c9_11ed_80e0_b4b5b6c516belevel0_row0\" class=\"row_heading level0 row0\" >0</th>\n",
       "                        <td id=\"T_c0b65998_b0c9_11ed_80e0_b4b5b6c516berow0_col0\" class=\"data row0 col0\" >1.000000</td>\n",
       "                        <td id=\"T_c0b65998_b0c9_11ed_80e0_b4b5b6c516berow0_col1\" class=\"data row0 col1\" >-0.600168</td>\n",
       "                        <td id=\"T_c0b65998_b0c9_11ed_80e0_b4b5b6c516berow0_col2\" class=\"data row0 col2\" >0.203801</td>\n",
       "                        <td id=\"T_c0b65998_b0c9_11ed_80e0_b4b5b6c516berow0_col3\" class=\"data row0 col3\" >-0.460696</td>\n",
       "                        <td id=\"T_c0b65998_b0c9_11ed_80e0_b4b5b6c516berow0_col4\" class=\"data row0 col4\" >-0.545885</td>\n",
       "                        <td id=\"T_c0b65998_b0c9_11ed_80e0_b4b5b6c516berow0_col5\" class=\"data row0 col5\" >0.154316</td>\n",
       "                        <td id=\"T_c0b65998_b0c9_11ed_80e0_b4b5b6c516berow0_col6\" class=\"data row0 col6\" >-0.079198</td>\n",
       "                        <td id=\"T_c0b65998_b0c9_11ed_80e0_b4b5b6c516berow0_col7\" class=\"data row0 col7\" >-0.517103</td>\n",
       "            </tr>\n",
       "            <tr>\n",
       "                        <th id=\"T_c0b65998_b0c9_11ed_80e0_b4b5b6c516belevel0_row1\" class=\"row_heading level0 row1\" >1</th>\n",
       "                        <td id=\"T_c0b65998_b0c9_11ed_80e0_b4b5b6c516berow1_col0\" class=\"data row1 col0\" >-0.600168</td>\n",
       "                        <td id=\"T_c0b65998_b0c9_11ed_80e0_b4b5b6c516berow1_col1\" class=\"data row1 col1\" >1.000000</td>\n",
       "                        <td id=\"T_c0b65998_b0c9_11ed_80e0_b4b5b6c516berow1_col2\" class=\"data row1 col2\" >-0.044257</td>\n",
       "                        <td id=\"T_c0b65998_b0c9_11ed_80e0_b4b5b6c516berow1_col3\" class=\"data row1 col3\" >0.718952</td>\n",
       "                        <td id=\"T_c0b65998_b0c9_11ed_80e0_b4b5b6c516berow1_col4\" class=\"data row1 col4\" >0.342598</td>\n",
       "                        <td id=\"T_c0b65998_b0c9_11ed_80e0_b4b5b6c516berow1_col5\" class=\"data row1 col5\" >0.501312</td>\n",
       "                        <td id=\"T_c0b65998_b0c9_11ed_80e0_b4b5b6c516berow1_col6\" class=\"data row1 col6\" >0.148994</td>\n",
       "                        <td id=\"T_c0b65998_b0c9_11ed_80e0_b4b5b6c516berow1_col7\" class=\"data row1 col7\" >0.905774</td>\n",
       "            </tr>\n",
       "            <tr>\n",
       "                        <th id=\"T_c0b65998_b0c9_11ed_80e0_b4b5b6c516belevel0_row2\" class=\"row_heading level0 row2\" >2</th>\n",
       "                        <td id=\"T_c0b65998_b0c9_11ed_80e0_b4b5b6c516berow2_col0\" class=\"data row2 col0\" >0.203801</td>\n",
       "                        <td id=\"T_c0b65998_b0c9_11ed_80e0_b4b5b6c516berow2_col1\" class=\"data row2 col1\" >-0.044257</td>\n",
       "                        <td id=\"T_c0b65998_b0c9_11ed_80e0_b4b5b6c516berow2_col2\" class=\"data row2 col2\" >1.000000</td>\n",
       "                        <td id=\"T_c0b65998_b0c9_11ed_80e0_b4b5b6c516berow2_col3\" class=\"data row2 col3\" >-0.311331</td>\n",
       "                        <td id=\"T_c0b65998_b0c9_11ed_80e0_b4b5b6c516berow2_col4\" class=\"data row2 col4\" >0.279100</td>\n",
       "                        <td id=\"T_c0b65998_b0c9_11ed_80e0_b4b5b6c516berow2_col5\" class=\"data row2 col5\" >0.350149</td>\n",
       "                        <td id=\"T_c0b65998_b0c9_11ed_80e0_b4b5b6c516berow2_col6\" class=\"data row2 col6\" >-0.610326</td>\n",
       "                        <td id=\"T_c0b65998_b0c9_11ed_80e0_b4b5b6c516berow2_col7\" class=\"data row2 col7\" >-0.378506</td>\n",
       "            </tr>\n",
       "            <tr>\n",
       "                        <th id=\"T_c0b65998_b0c9_11ed_80e0_b4b5b6c516belevel0_row3\" class=\"row_heading level0 row3\" >3</th>\n",
       "                        <td id=\"T_c0b65998_b0c9_11ed_80e0_b4b5b6c516berow3_col0\" class=\"data row3 col0\" >-0.460696</td>\n",
       "                        <td id=\"T_c0b65998_b0c9_11ed_80e0_b4b5b6c516berow3_col1\" class=\"data row3 col1\" >0.718952</td>\n",
       "                        <td id=\"T_c0b65998_b0c9_11ed_80e0_b4b5b6c516berow3_col2\" class=\"data row3 col2\" >-0.311331</td>\n",
       "                        <td id=\"T_c0b65998_b0c9_11ed_80e0_b4b5b6c516berow3_col3\" class=\"data row3 col3\" >1.000000</td>\n",
       "                        <td id=\"T_c0b65998_b0c9_11ed_80e0_b4b5b6c516berow3_col4\" class=\"data row3 col4\" >0.271334</td>\n",
       "                        <td id=\"T_c0b65998_b0c9_11ed_80e0_b4b5b6c516berow3_col5\" class=\"data row3 col5\" >0.233142</td>\n",
       "                        <td id=\"T_c0b65998_b0c9_11ed_80e0_b4b5b6c516berow3_col6\" class=\"data row3 col6\" >0.079611</td>\n",
       "                        <td id=\"T_c0b65998_b0c9_11ed_80e0_b4b5b6c516berow3_col7\" class=\"data row3 col7\" >0.740583</td>\n",
       "            </tr>\n",
       "            <tr>\n",
       "                        <th id=\"T_c0b65998_b0c9_11ed_80e0_b4b5b6c516belevel0_row4\" class=\"row_heading level0 row4\" >4</th>\n",
       "                        <td id=\"T_c0b65998_b0c9_11ed_80e0_b4b5b6c516berow4_col0\" class=\"data row4 col0\" >-0.545885</td>\n",
       "                        <td id=\"T_c0b65998_b0c9_11ed_80e0_b4b5b6c516berow4_col1\" class=\"data row4 col1\" >0.342598</td>\n",
       "                        <td id=\"T_c0b65998_b0c9_11ed_80e0_b4b5b6c516berow4_col2\" class=\"data row4 col2\" >0.279100</td>\n",
       "                        <td id=\"T_c0b65998_b0c9_11ed_80e0_b4b5b6c516berow4_col3\" class=\"data row4 col3\" >0.271334</td>\n",
       "                        <td id=\"T_c0b65998_b0c9_11ed_80e0_b4b5b6c516berow4_col4\" class=\"data row4 col4\" >1.000000</td>\n",
       "                        <td id=\"T_c0b65998_b0c9_11ed_80e0_b4b5b6c516berow4_col5\" class=\"data row4 col5\" >0.182575</td>\n",
       "                        <td id=\"T_c0b65998_b0c9_11ed_80e0_b4b5b6c516berow4_col6\" class=\"data row4 col6\" >-0.285831</td>\n",
       "                        <td id=\"T_c0b65998_b0c9_11ed_80e0_b4b5b6c516berow4_col7\" class=\"data row4 col7\" >0.058072</td>\n",
       "            </tr>\n",
       "            <tr>\n",
       "                        <th id=\"T_c0b65998_b0c9_11ed_80e0_b4b5b6c516belevel0_row5\" class=\"row_heading level0 row5\" >5</th>\n",
       "                        <td id=\"T_c0b65998_b0c9_11ed_80e0_b4b5b6c516berow5_col0\" class=\"data row5 col0\" >0.154316</td>\n",
       "                        <td id=\"T_c0b65998_b0c9_11ed_80e0_b4b5b6c516berow5_col1\" class=\"data row5 col1\" >0.501312</td>\n",
       "                        <td id=\"T_c0b65998_b0c9_11ed_80e0_b4b5b6c516berow5_col2\" class=\"data row5 col2\" >0.350149</td>\n",
       "                        <td id=\"T_c0b65998_b0c9_11ed_80e0_b4b5b6c516berow5_col3\" class=\"data row5 col3\" >0.233142</td>\n",
       "                        <td id=\"T_c0b65998_b0c9_11ed_80e0_b4b5b6c516berow5_col4\" class=\"data row5 col4\" >0.182575</td>\n",
       "                        <td id=\"T_c0b65998_b0c9_11ed_80e0_b4b5b6c516berow5_col5\" class=\"data row5 col5\" >1.000000</td>\n",
       "                        <td id=\"T_c0b65998_b0c9_11ed_80e0_b4b5b6c516berow5_col6\" class=\"data row5 col6\" >-0.164485</td>\n",
       "                        <td id=\"T_c0b65998_b0c9_11ed_80e0_b4b5b6c516berow5_col7\" class=\"data row5 col7\" >0.250832</td>\n",
       "            </tr>\n",
       "            <tr>\n",
       "                        <th id=\"T_c0b65998_b0c9_11ed_80e0_b4b5b6c516belevel0_row6\" class=\"row_heading level0 row6\" >6</th>\n",
       "                        <td id=\"T_c0b65998_b0c9_11ed_80e0_b4b5b6c516berow6_col0\" class=\"data row6 col0\" >-0.079198</td>\n",
       "                        <td id=\"T_c0b65998_b0c9_11ed_80e0_b4b5b6c516berow6_col1\" class=\"data row6 col1\" >0.148994</td>\n",
       "                        <td id=\"T_c0b65998_b0c9_11ed_80e0_b4b5b6c516berow6_col2\" class=\"data row6 col2\" >-0.610326</td>\n",
       "                        <td id=\"T_c0b65998_b0c9_11ed_80e0_b4b5b6c516berow6_col3\" class=\"data row6 col3\" >0.079611</td>\n",
       "                        <td id=\"T_c0b65998_b0c9_11ed_80e0_b4b5b6c516berow6_col4\" class=\"data row6 col4\" >-0.285831</td>\n",
       "                        <td id=\"T_c0b65998_b0c9_11ed_80e0_b4b5b6c516berow6_col5\" class=\"data row6 col5\" >-0.164485</td>\n",
       "                        <td id=\"T_c0b65998_b0c9_11ed_80e0_b4b5b6c516berow6_col6\" class=\"data row6 col6\" >1.000000</td>\n",
       "                        <td id=\"T_c0b65998_b0c9_11ed_80e0_b4b5b6c516berow6_col7\" class=\"data row6 col7\" >0.389238</td>\n",
       "            </tr>\n",
       "            <tr>\n",
       "                        <th id=\"T_c0b65998_b0c9_11ed_80e0_b4b5b6c516belevel0_row7\" class=\"row_heading level0 row7\" >7</th>\n",
       "                        <td id=\"T_c0b65998_b0c9_11ed_80e0_b4b5b6c516berow7_col0\" class=\"data row7 col0\" >-0.517103</td>\n",
       "                        <td id=\"T_c0b65998_b0c9_11ed_80e0_b4b5b6c516berow7_col1\" class=\"data row7 col1\" >0.905774</td>\n",
       "                        <td id=\"T_c0b65998_b0c9_11ed_80e0_b4b5b6c516berow7_col2\" class=\"data row7 col2\" >-0.378506</td>\n",
       "                        <td id=\"T_c0b65998_b0c9_11ed_80e0_b4b5b6c516berow7_col3\" class=\"data row7 col3\" >0.740583</td>\n",
       "                        <td id=\"T_c0b65998_b0c9_11ed_80e0_b4b5b6c516berow7_col4\" class=\"data row7 col4\" >0.058072</td>\n",
       "                        <td id=\"T_c0b65998_b0c9_11ed_80e0_b4b5b6c516berow7_col5\" class=\"data row7 col5\" >0.250832</td>\n",
       "                        <td id=\"T_c0b65998_b0c9_11ed_80e0_b4b5b6c516berow7_col6\" class=\"data row7 col6\" >0.389238</td>\n",
       "                        <td id=\"T_c0b65998_b0c9_11ed_80e0_b4b5b6c516berow7_col7\" class=\"data row7 col7\" >1.000000</td>\n",
       "            </tr>\n",
       "    </tbody></table>"
      ],
      "text/plain": [
       "<pandas.io.formats.style.Styler at 0x24a956948c8>"
      ]
     },
     "execution_count": 93,
     "metadata": {},
     "output_type": "execute_result"
    }
   ],
   "source": [
    "rs=np.random.RandomState(0)\n",
    "df_y=pd.DataFrame(rs.rand(8,8))\n",
    "corr=df_y.corr()\n",
    "corr.style.background_gradient(cmap='coolwarm', axis=None)"
   ]
  },
  {
   "cell_type": "code",
   "execution_count": 94,
   "id": "361d972c",
   "metadata": {},
   "outputs": [
    {
     "data": {
      "text/html": [
       "<style  type=\"text/css\" >\n",
       "    #T_df60a12e_b0c9_11ed_9ada_b4b5b6c516berow0_col0 {\n",
       "            background-color:  #000000;\n",
       "            color:  #f1f1f1;\n",
       "            background-color:  #f1f1f1;\n",
       "        }    #T_df60a12e_b0c9_11ed_9ada_b4b5b6c516berow0_col1 {\n",
       "            background-color:  #000000;\n",
       "            color:  #f1f1f1;\n",
       "            background-color:  #f1f1f1;\n",
       "        }    #T_df60a12e_b0c9_11ed_9ada_b4b5b6c516berow0_col2 {\n",
       "            background-color:  #000000;\n",
       "            color:  #f1f1f1;\n",
       "            background-color:  #f1f1f1;\n",
       "        }    #T_df60a12e_b0c9_11ed_9ada_b4b5b6c516berow0_col3 {\n",
       "            background-color:  #000000;\n",
       "            color:  #f1f1f1;\n",
       "            background-color:  #f1f1f1;\n",
       "        }    #T_df60a12e_b0c9_11ed_9ada_b4b5b6c516berow0_col4 {\n",
       "            background-color:  #000000;\n",
       "            color:  #f1f1f1;\n",
       "            background-color:  #f1f1f1;\n",
       "        }    #T_df60a12e_b0c9_11ed_9ada_b4b5b6c516berow0_col5 {\n",
       "            background-color:  #000000;\n",
       "            color:  #f1f1f1;\n",
       "            background-color:  #f1f1f1;\n",
       "        }    #T_df60a12e_b0c9_11ed_9ada_b4b5b6c516berow0_col6 {\n",
       "            background-color:  #000000;\n",
       "            color:  #f1f1f1;\n",
       "            background-color:  #f1f1f1;\n",
       "        }    #T_df60a12e_b0c9_11ed_9ada_b4b5b6c516berow0_col7 {\n",
       "            background-color:  #000000;\n",
       "            color:  #f1f1f1;\n",
       "            background-color:  #f1f1f1;\n",
       "        }    #T_df60a12e_b0c9_11ed_9ada_b4b5b6c516berow1_col0 {\n",
       "            background-color:  #7b9ff9;\n",
       "            color:  #000000;\n",
       "            : ;\n",
       "        }    #T_df60a12e_b0c9_11ed_9ada_b4b5b6c516berow1_col1 {\n",
       "            background-color:  #000000;\n",
       "            color:  #f1f1f1;\n",
       "            background-color:  #f1f1f1;\n",
       "        }    #T_df60a12e_b0c9_11ed_9ada_b4b5b6c516berow1_col2 {\n",
       "            background-color:  #000000;\n",
       "            color:  #f1f1f1;\n",
       "            background-color:  #f1f1f1;\n",
       "        }    #T_df60a12e_b0c9_11ed_9ada_b4b5b6c516berow1_col3 {\n",
       "            background-color:  #000000;\n",
       "            color:  #f1f1f1;\n",
       "            background-color:  #f1f1f1;\n",
       "        }    #T_df60a12e_b0c9_11ed_9ada_b4b5b6c516berow1_col4 {\n",
       "            background-color:  #000000;\n",
       "            color:  #f1f1f1;\n",
       "            background-color:  #f1f1f1;\n",
       "        }    #T_df60a12e_b0c9_11ed_9ada_b4b5b6c516berow1_col5 {\n",
       "            background-color:  #000000;\n",
       "            color:  #f1f1f1;\n",
       "            background-color:  #f1f1f1;\n",
       "        }    #T_df60a12e_b0c9_11ed_9ada_b4b5b6c516berow1_col6 {\n",
       "            background-color:  #000000;\n",
       "            color:  #f1f1f1;\n",
       "            background-color:  #f1f1f1;\n",
       "        }    #T_df60a12e_b0c9_11ed_9ada_b4b5b6c516berow1_col7 {\n",
       "            background-color:  #000000;\n",
       "            color:  #f1f1f1;\n",
       "            background-color:  #f1f1f1;\n",
       "        }    #T_df60a12e_b0c9_11ed_9ada_b4b5b6c516berow2_col0 {\n",
       "            background-color:  #f2cab5;\n",
       "            color:  #000000;\n",
       "            : ;\n",
       "        }    #T_df60a12e_b0c9_11ed_9ada_b4b5b6c516berow2_col1 {\n",
       "            background-color:  #d7dce3;\n",
       "            color:  #000000;\n",
       "            : ;\n",
       "        }    #T_df60a12e_b0c9_11ed_9ada_b4b5b6c516berow2_col2 {\n",
       "            background-color:  #000000;\n",
       "            color:  #f1f1f1;\n",
       "            background-color:  #f1f1f1;\n",
       "        }    #T_df60a12e_b0c9_11ed_9ada_b4b5b6c516berow2_col3 {\n",
       "            background-color:  #000000;\n",
       "            color:  #f1f1f1;\n",
       "            background-color:  #f1f1f1;\n",
       "        }    #T_df60a12e_b0c9_11ed_9ada_b4b5b6c516berow2_col4 {\n",
       "            background-color:  #000000;\n",
       "            color:  #f1f1f1;\n",
       "            background-color:  #f1f1f1;\n",
       "        }    #T_df60a12e_b0c9_11ed_9ada_b4b5b6c516berow2_col5 {\n",
       "            background-color:  #000000;\n",
       "            color:  #f1f1f1;\n",
       "            background-color:  #f1f1f1;\n",
       "        }    #T_df60a12e_b0c9_11ed_9ada_b4b5b6c516berow2_col6 {\n",
       "            background-color:  #000000;\n",
       "            color:  #f1f1f1;\n",
       "            background-color:  #f1f1f1;\n",
       "        }    #T_df60a12e_b0c9_11ed_9ada_b4b5b6c516berow2_col7 {\n",
       "            background-color:  #000000;\n",
       "            color:  #f1f1f1;\n",
       "            background-color:  #f1f1f1;\n",
       "        }    #T_df60a12e_b0c9_11ed_9ada_b4b5b6c516berow3_col0 {\n",
       "            background-color:  #94b6ff;\n",
       "            color:  #000000;\n",
       "            : ;\n",
       "        }    #T_df60a12e_b0c9_11ed_9ada_b4b5b6c516berow3_col1 {\n",
       "            background-color:  #e16751;\n",
       "            color:  #000000;\n",
       "            : ;\n",
       "        }    #T_df60a12e_b0c9_11ed_9ada_b4b5b6c516berow3_col2 {\n",
       "            background-color:  #aec9fc;\n",
       "            color:  #000000;\n",
       "            : ;\n",
       "        }    #T_df60a12e_b0c9_11ed_9ada_b4b5b6c516berow3_col3 {\n",
       "            background-color:  #000000;\n",
       "            color:  #f1f1f1;\n",
       "            background-color:  #f1f1f1;\n",
       "        }    #T_df60a12e_b0c9_11ed_9ada_b4b5b6c516berow3_col4 {\n",
       "            background-color:  #000000;\n",
       "            color:  #f1f1f1;\n",
       "            background-color:  #f1f1f1;\n",
       "        }    #T_df60a12e_b0c9_11ed_9ada_b4b5b6c516berow3_col5 {\n",
       "            background-color:  #000000;\n",
       "            color:  #f1f1f1;\n",
       "            background-color:  #f1f1f1;\n",
       "        }    #T_df60a12e_b0c9_11ed_9ada_b4b5b6c516berow3_col6 {\n",
       "            background-color:  #000000;\n",
       "            color:  #f1f1f1;\n",
       "            background-color:  #f1f1f1;\n",
       "        }    #T_df60a12e_b0c9_11ed_9ada_b4b5b6c516berow3_col7 {\n",
       "            background-color:  #000000;\n",
       "            color:  #f1f1f1;\n",
       "            background-color:  #f1f1f1;\n",
       "        }    #T_df60a12e_b0c9_11ed_9ada_b4b5b6c516berow4_col0 {\n",
       "            background-color:  #85a8fc;\n",
       "            color:  #000000;\n",
       "            : ;\n",
       "        }    #T_df60a12e_b0c9_11ed_9ada_b4b5b6c516berow4_col1 {\n",
       "            background-color:  #f7b79b;\n",
       "            color:  #000000;\n",
       "            : ;\n",
       "        }    #T_df60a12e_b0c9_11ed_9ada_b4b5b6c516berow4_col2 {\n",
       "            background-color:  #f5c0a7;\n",
       "            color:  #000000;\n",
       "            : ;\n",
       "        }    #T_df60a12e_b0c9_11ed_9ada_b4b5b6c516berow4_col3 {\n",
       "            background-color:  #f5c1a9;\n",
       "            color:  #000000;\n",
       "            : ;\n",
       "        }    #T_df60a12e_b0c9_11ed_9ada_b4b5b6c516berow4_col4 {\n",
       "            background-color:  #000000;\n",
       "            color:  #f1f1f1;\n",
       "            background-color:  #f1f1f1;\n",
       "        }    #T_df60a12e_b0c9_11ed_9ada_b4b5b6c516berow4_col5 {\n",
       "            background-color:  #000000;\n",
       "            color:  #f1f1f1;\n",
       "            background-color:  #f1f1f1;\n",
       "        }    #T_df60a12e_b0c9_11ed_9ada_b4b5b6c516berow4_col6 {\n",
       "            background-color:  #000000;\n",
       "            color:  #f1f1f1;\n",
       "            background-color:  #f1f1f1;\n",
       "        }    #T_df60a12e_b0c9_11ed_9ada_b4b5b6c516berow4_col7 {\n",
       "            background-color:  #000000;\n",
       "            color:  #f1f1f1;\n",
       "            background-color:  #f1f1f1;\n",
       "        }    #T_df60a12e_b0c9_11ed_9ada_b4b5b6c516berow5_col0 {\n",
       "            background-color:  #eed0c0;\n",
       "            color:  #000000;\n",
       "            : ;\n",
       "        }    #T_df60a12e_b0c9_11ed_9ada_b4b5b6c516berow5_col1 {\n",
       "            background-color:  #f4987a;\n",
       "            color:  #000000;\n",
       "            : ;\n",
       "        }    #T_df60a12e_b0c9_11ed_9ada_b4b5b6c516berow5_col2 {\n",
       "            background-color:  #f7b599;\n",
       "            color:  #000000;\n",
       "            : ;\n",
       "        }    #T_df60a12e_b0c9_11ed_9ada_b4b5b6c516berow5_col3 {\n",
       "            background-color:  #f3c7b1;\n",
       "            color:  #000000;\n",
       "            : ;\n",
       "        }    #T_df60a12e_b0c9_11ed_9ada_b4b5b6c516berow5_col4 {\n",
       "            background-color:  #f1cdba;\n",
       "            color:  #000000;\n",
       "            : ;\n",
       "        }    #T_df60a12e_b0c9_11ed_9ada_b4b5b6c516berow5_col5 {\n",
       "            background-color:  #000000;\n",
       "            color:  #f1f1f1;\n",
       "            background-color:  #f1f1f1;\n",
       "        }    #T_df60a12e_b0c9_11ed_9ada_b4b5b6c516berow5_col6 {\n",
       "            background-color:  #000000;\n",
       "            color:  #f1f1f1;\n",
       "            background-color:  #f1f1f1;\n",
       "        }    #T_df60a12e_b0c9_11ed_9ada_b4b5b6c516berow5_col7 {\n",
       "            background-color:  #000000;\n",
       "            color:  #f1f1f1;\n",
       "            background-color:  #f1f1f1;\n",
       "        }    #T_df60a12e_b0c9_11ed_9ada_b4b5b6c516berow6_col0 {\n",
       "            background-color:  #d2dbe8;\n",
       "            color:  #000000;\n",
       "            : ;\n",
       "        }    #T_df60a12e_b0c9_11ed_9ada_b4b5b6c516berow6_col1 {\n",
       "            background-color:  #eed0c0;\n",
       "            color:  #000000;\n",
       "            : ;\n",
       "        }    #T_df60a12e_b0c9_11ed_9ada_b4b5b6c516berow6_col2 {\n",
       "            background-color:  #799cf8;\n",
       "            color:  #000000;\n",
       "            : ;\n",
       "        }    #T_df60a12e_b0c9_11ed_9ada_b4b5b6c516berow6_col3 {\n",
       "            background-color:  #e7d7ce;\n",
       "            color:  #000000;\n",
       "            : ;\n",
       "        }    #T_df60a12e_b0c9_11ed_9ada_b4b5b6c516berow6_col4 {\n",
       "            background-color:  #b2ccfb;\n",
       "            color:  #000000;\n",
       "            : ;\n",
       "        }    #T_df60a12e_b0c9_11ed_9ada_b4b5b6c516berow6_col5 {\n",
       "            background-color:  #c5d6f2;\n",
       "            color:  #000000;\n",
       "            : ;\n",
       "        }    #T_df60a12e_b0c9_11ed_9ada_b4b5b6c516berow6_col6 {\n",
       "            background-color:  #000000;\n",
       "            color:  #f1f1f1;\n",
       "            background-color:  #f1f1f1;\n",
       "        }    #T_df60a12e_b0c9_11ed_9ada_b4b5b6c516berow6_col7 {\n",
       "            background-color:  #000000;\n",
       "            color:  #f1f1f1;\n",
       "            background-color:  #f1f1f1;\n",
       "        }    #T_df60a12e_b0c9_11ed_9ada_b4b5b6c516berow7_col0 {\n",
       "            background-color:  #89acfd;\n",
       "            color:  #000000;\n",
       "            : ;\n",
       "        }    #T_df60a12e_b0c9_11ed_9ada_b4b5b6c516berow7_col1 {\n",
       "            background-color:  #c53334;\n",
       "            color:  #f1f1f1;\n",
       "            : ;\n",
       "        }    #T_df60a12e_b0c9_11ed_9ada_b4b5b6c516berow7_col2 {\n",
       "            background-color:  #a2c1ff;\n",
       "            color:  #000000;\n",
       "            : ;\n",
       "        }    #T_df60a12e_b0c9_11ed_9ada_b4b5b6c516berow7_col3 {\n",
       "            background-color:  #df634e;\n",
       "            color:  #000000;\n",
       "            : ;\n",
       "        }    #T_df60a12e_b0c9_11ed_9ada_b4b5b6c516berow7_col4 {\n",
       "            background-color:  #e4d9d2;\n",
       "            color:  #000000;\n",
       "            : ;\n",
       "        }    #T_df60a12e_b0c9_11ed_9ada_b4b5b6c516berow7_col5 {\n",
       "            background-color:  #f5c4ac;\n",
       "            color:  #000000;\n",
       "            : ;\n",
       "        }    #T_df60a12e_b0c9_11ed_9ada_b4b5b6c516berow7_col6 {\n",
       "            background-color:  #f7af91;\n",
       "            color:  #000000;\n",
       "            : ;\n",
       "        }    #T_df60a12e_b0c9_11ed_9ada_b4b5b6c516berow7_col7 {\n",
       "            background-color:  #000000;\n",
       "            color:  #f1f1f1;\n",
       "            background-color:  #f1f1f1;\n",
       "        }</style><table id=\"T_df60a12e_b0c9_11ed_9ada_b4b5b6c516be\" ><thead>    <tr>        <th class=\"blank level0\" ></th>        <th class=\"col_heading level0 col0\" >0</th>        <th class=\"col_heading level0 col1\" >1</th>        <th class=\"col_heading level0 col2\" >2</th>        <th class=\"col_heading level0 col3\" >3</th>        <th class=\"col_heading level0 col4\" >4</th>        <th class=\"col_heading level0 col5\" >5</th>        <th class=\"col_heading level0 col6\" >6</th>        <th class=\"col_heading level0 col7\" >7</th>    </tr></thead><tbody>\n",
       "                <tr>\n",
       "                        <th id=\"T_df60a12e_b0c9_11ed_9ada_b4b5b6c516belevel0_row0\" class=\"row_heading level0 row0\" >0</th>\n",
       "                        <td id=\"T_df60a12e_b0c9_11ed_9ada_b4b5b6c516berow0_col0\" class=\"data row0 col0\" >nan</td>\n",
       "                        <td id=\"T_df60a12e_b0c9_11ed_9ada_b4b5b6c516berow0_col1\" class=\"data row0 col1\" >nan</td>\n",
       "                        <td id=\"T_df60a12e_b0c9_11ed_9ada_b4b5b6c516berow0_col2\" class=\"data row0 col2\" >nan</td>\n",
       "                        <td id=\"T_df60a12e_b0c9_11ed_9ada_b4b5b6c516berow0_col3\" class=\"data row0 col3\" >nan</td>\n",
       "                        <td id=\"T_df60a12e_b0c9_11ed_9ada_b4b5b6c516berow0_col4\" class=\"data row0 col4\" >nan</td>\n",
       "                        <td id=\"T_df60a12e_b0c9_11ed_9ada_b4b5b6c516berow0_col5\" class=\"data row0 col5\" >nan</td>\n",
       "                        <td id=\"T_df60a12e_b0c9_11ed_9ada_b4b5b6c516berow0_col6\" class=\"data row0 col6\" >nan</td>\n",
       "                        <td id=\"T_df60a12e_b0c9_11ed_9ada_b4b5b6c516berow0_col7\" class=\"data row0 col7\" >nan</td>\n",
       "            </tr>\n",
       "            <tr>\n",
       "                        <th id=\"T_df60a12e_b0c9_11ed_9ada_b4b5b6c516belevel0_row1\" class=\"row_heading level0 row1\" >1</th>\n",
       "                        <td id=\"T_df60a12e_b0c9_11ed_9ada_b4b5b6c516berow1_col0\" class=\"data row1 col0\" >-0.60</td>\n",
       "                        <td id=\"T_df60a12e_b0c9_11ed_9ada_b4b5b6c516berow1_col1\" class=\"data row1 col1\" >nan</td>\n",
       "                        <td id=\"T_df60a12e_b0c9_11ed_9ada_b4b5b6c516berow1_col2\" class=\"data row1 col2\" >nan</td>\n",
       "                        <td id=\"T_df60a12e_b0c9_11ed_9ada_b4b5b6c516berow1_col3\" class=\"data row1 col3\" >nan</td>\n",
       "                        <td id=\"T_df60a12e_b0c9_11ed_9ada_b4b5b6c516berow1_col4\" class=\"data row1 col4\" >nan</td>\n",
       "                        <td id=\"T_df60a12e_b0c9_11ed_9ada_b4b5b6c516berow1_col5\" class=\"data row1 col5\" >nan</td>\n",
       "                        <td id=\"T_df60a12e_b0c9_11ed_9ada_b4b5b6c516berow1_col6\" class=\"data row1 col6\" >nan</td>\n",
       "                        <td id=\"T_df60a12e_b0c9_11ed_9ada_b4b5b6c516berow1_col7\" class=\"data row1 col7\" >nan</td>\n",
       "            </tr>\n",
       "            <tr>\n",
       "                        <th id=\"T_df60a12e_b0c9_11ed_9ada_b4b5b6c516belevel0_row2\" class=\"row_heading level0 row2\" >2</th>\n",
       "                        <td id=\"T_df60a12e_b0c9_11ed_9ada_b4b5b6c516berow2_col0\" class=\"data row2 col0\" >0.20</td>\n",
       "                        <td id=\"T_df60a12e_b0c9_11ed_9ada_b4b5b6c516berow2_col1\" class=\"data row2 col1\" >-0.04</td>\n",
       "                        <td id=\"T_df60a12e_b0c9_11ed_9ada_b4b5b6c516berow2_col2\" class=\"data row2 col2\" >nan</td>\n",
       "                        <td id=\"T_df60a12e_b0c9_11ed_9ada_b4b5b6c516berow2_col3\" class=\"data row2 col3\" >nan</td>\n",
       "                        <td id=\"T_df60a12e_b0c9_11ed_9ada_b4b5b6c516berow2_col4\" class=\"data row2 col4\" >nan</td>\n",
       "                        <td id=\"T_df60a12e_b0c9_11ed_9ada_b4b5b6c516berow2_col5\" class=\"data row2 col5\" >nan</td>\n",
       "                        <td id=\"T_df60a12e_b0c9_11ed_9ada_b4b5b6c516berow2_col6\" class=\"data row2 col6\" >nan</td>\n",
       "                        <td id=\"T_df60a12e_b0c9_11ed_9ada_b4b5b6c516berow2_col7\" class=\"data row2 col7\" >nan</td>\n",
       "            </tr>\n",
       "            <tr>\n",
       "                        <th id=\"T_df60a12e_b0c9_11ed_9ada_b4b5b6c516belevel0_row3\" class=\"row_heading level0 row3\" >3</th>\n",
       "                        <td id=\"T_df60a12e_b0c9_11ed_9ada_b4b5b6c516berow3_col0\" class=\"data row3 col0\" >-0.46</td>\n",
       "                        <td id=\"T_df60a12e_b0c9_11ed_9ada_b4b5b6c516berow3_col1\" class=\"data row3 col1\" >0.72</td>\n",
       "                        <td id=\"T_df60a12e_b0c9_11ed_9ada_b4b5b6c516berow3_col2\" class=\"data row3 col2\" >-0.31</td>\n",
       "                        <td id=\"T_df60a12e_b0c9_11ed_9ada_b4b5b6c516berow3_col3\" class=\"data row3 col3\" >nan</td>\n",
       "                        <td id=\"T_df60a12e_b0c9_11ed_9ada_b4b5b6c516berow3_col4\" class=\"data row3 col4\" >nan</td>\n",
       "                        <td id=\"T_df60a12e_b0c9_11ed_9ada_b4b5b6c516berow3_col5\" class=\"data row3 col5\" >nan</td>\n",
       "                        <td id=\"T_df60a12e_b0c9_11ed_9ada_b4b5b6c516berow3_col6\" class=\"data row3 col6\" >nan</td>\n",
       "                        <td id=\"T_df60a12e_b0c9_11ed_9ada_b4b5b6c516berow3_col7\" class=\"data row3 col7\" >nan</td>\n",
       "            </tr>\n",
       "            <tr>\n",
       "                        <th id=\"T_df60a12e_b0c9_11ed_9ada_b4b5b6c516belevel0_row4\" class=\"row_heading level0 row4\" >4</th>\n",
       "                        <td id=\"T_df60a12e_b0c9_11ed_9ada_b4b5b6c516berow4_col0\" class=\"data row4 col0\" >-0.55</td>\n",
       "                        <td id=\"T_df60a12e_b0c9_11ed_9ada_b4b5b6c516berow4_col1\" class=\"data row4 col1\" >0.34</td>\n",
       "                        <td id=\"T_df60a12e_b0c9_11ed_9ada_b4b5b6c516berow4_col2\" class=\"data row4 col2\" >0.28</td>\n",
       "                        <td id=\"T_df60a12e_b0c9_11ed_9ada_b4b5b6c516berow4_col3\" class=\"data row4 col3\" >0.27</td>\n",
       "                        <td id=\"T_df60a12e_b0c9_11ed_9ada_b4b5b6c516berow4_col4\" class=\"data row4 col4\" >nan</td>\n",
       "                        <td id=\"T_df60a12e_b0c9_11ed_9ada_b4b5b6c516berow4_col5\" class=\"data row4 col5\" >nan</td>\n",
       "                        <td id=\"T_df60a12e_b0c9_11ed_9ada_b4b5b6c516berow4_col6\" class=\"data row4 col6\" >nan</td>\n",
       "                        <td id=\"T_df60a12e_b0c9_11ed_9ada_b4b5b6c516berow4_col7\" class=\"data row4 col7\" >nan</td>\n",
       "            </tr>\n",
       "            <tr>\n",
       "                        <th id=\"T_df60a12e_b0c9_11ed_9ada_b4b5b6c516belevel0_row5\" class=\"row_heading level0 row5\" >5</th>\n",
       "                        <td id=\"T_df60a12e_b0c9_11ed_9ada_b4b5b6c516berow5_col0\" class=\"data row5 col0\" >0.15</td>\n",
       "                        <td id=\"T_df60a12e_b0c9_11ed_9ada_b4b5b6c516berow5_col1\" class=\"data row5 col1\" >0.50</td>\n",
       "                        <td id=\"T_df60a12e_b0c9_11ed_9ada_b4b5b6c516berow5_col2\" class=\"data row5 col2\" >0.35</td>\n",
       "                        <td id=\"T_df60a12e_b0c9_11ed_9ada_b4b5b6c516berow5_col3\" class=\"data row5 col3\" >0.23</td>\n",
       "                        <td id=\"T_df60a12e_b0c9_11ed_9ada_b4b5b6c516berow5_col4\" class=\"data row5 col4\" >0.18</td>\n",
       "                        <td id=\"T_df60a12e_b0c9_11ed_9ada_b4b5b6c516berow5_col5\" class=\"data row5 col5\" >nan</td>\n",
       "                        <td id=\"T_df60a12e_b0c9_11ed_9ada_b4b5b6c516berow5_col6\" class=\"data row5 col6\" >nan</td>\n",
       "                        <td id=\"T_df60a12e_b0c9_11ed_9ada_b4b5b6c516berow5_col7\" class=\"data row5 col7\" >nan</td>\n",
       "            </tr>\n",
       "            <tr>\n",
       "                        <th id=\"T_df60a12e_b0c9_11ed_9ada_b4b5b6c516belevel0_row6\" class=\"row_heading level0 row6\" >6</th>\n",
       "                        <td id=\"T_df60a12e_b0c9_11ed_9ada_b4b5b6c516berow6_col0\" class=\"data row6 col0\" >-0.08</td>\n",
       "                        <td id=\"T_df60a12e_b0c9_11ed_9ada_b4b5b6c516berow6_col1\" class=\"data row6 col1\" >0.15</td>\n",
       "                        <td id=\"T_df60a12e_b0c9_11ed_9ada_b4b5b6c516berow6_col2\" class=\"data row6 col2\" >-0.61</td>\n",
       "                        <td id=\"T_df60a12e_b0c9_11ed_9ada_b4b5b6c516berow6_col3\" class=\"data row6 col3\" >0.08</td>\n",
       "                        <td id=\"T_df60a12e_b0c9_11ed_9ada_b4b5b6c516berow6_col4\" class=\"data row6 col4\" >-0.29</td>\n",
       "                        <td id=\"T_df60a12e_b0c9_11ed_9ada_b4b5b6c516berow6_col5\" class=\"data row6 col5\" >-0.16</td>\n",
       "                        <td id=\"T_df60a12e_b0c9_11ed_9ada_b4b5b6c516berow6_col6\" class=\"data row6 col6\" >nan</td>\n",
       "                        <td id=\"T_df60a12e_b0c9_11ed_9ada_b4b5b6c516berow6_col7\" class=\"data row6 col7\" >nan</td>\n",
       "            </tr>\n",
       "            <tr>\n",
       "                        <th id=\"T_df60a12e_b0c9_11ed_9ada_b4b5b6c516belevel0_row7\" class=\"row_heading level0 row7\" >7</th>\n",
       "                        <td id=\"T_df60a12e_b0c9_11ed_9ada_b4b5b6c516berow7_col0\" class=\"data row7 col0\" >-0.52</td>\n",
       "                        <td id=\"T_df60a12e_b0c9_11ed_9ada_b4b5b6c516berow7_col1\" class=\"data row7 col1\" >0.91</td>\n",
       "                        <td id=\"T_df60a12e_b0c9_11ed_9ada_b4b5b6c516berow7_col2\" class=\"data row7 col2\" >-0.38</td>\n",
       "                        <td id=\"T_df60a12e_b0c9_11ed_9ada_b4b5b6c516berow7_col3\" class=\"data row7 col3\" >0.74</td>\n",
       "                        <td id=\"T_df60a12e_b0c9_11ed_9ada_b4b5b6c516berow7_col4\" class=\"data row7 col4\" >0.06</td>\n",
       "                        <td id=\"T_df60a12e_b0c9_11ed_9ada_b4b5b6c516berow7_col5\" class=\"data row7 col5\" >0.25</td>\n",
       "                        <td id=\"T_df60a12e_b0c9_11ed_9ada_b4b5b6c516berow7_col6\" class=\"data row7 col6\" >0.39</td>\n",
       "                        <td id=\"T_df60a12e_b0c9_11ed_9ada_b4b5b6c516berow7_col7\" class=\"data row7 col7\" >nan</td>\n",
       "            </tr>\n",
       "    </tbody></table>"
      ],
      "text/plain": [
       "<pandas.io.formats.style.Styler at 0x24a956a0708>"
      ]
     },
     "execution_count": 94,
     "metadata": {},
     "output_type": "execute_result"
    }
   ],
   "source": [
    "# Fill diagonal and upper half with NaNs\n",
    "mask = np.zeros_like(corr, dtype=bool)\n",
    "mask[np.triu_indices_from(mask)] = True\n",
    "corr[mask] = np.nan\n",
    "(corr\n",
    " .style\n",
    " .background_gradient(cmap='coolwarm', axis=None, vmin=-1, vmax=1)\n",
    " .highlight_null(null_color='#f1f1f1')  # Color NaNs grey\n",
    " .set_precision(2))"
   ]
  },
  {
   "cell_type": "code",
   "execution_count": 101,
   "id": "3b11da74",
   "metadata": {},
   "outputs": [],
   "source": [
    "corrMatrix =df_i.corr()\n",
    "corrMatrix.to_csv('sm_zscaled_correlation_matrix.csv');\n",
    "html = corrMatrix.style.background_gradient(cmap='RdBu').set_precision(2).render()\n",
    "\n",
    "# Writing the output to a html file.\n",
    "with open('test.html', 'w') as f:\n",
    "   print('<!DOCTYPE html><html lang=\"en\"><head><meta charset=\"UTF-8\"><meta name=\"viewport\" content=\"width=device-widthinitial-scale=1.0\"><title>Document</title></head><style>table{word-break: break-all;}</style><body>' + html+'</body></html>', file=f)"
   ]
  },
  {
   "cell_type": "code",
   "execution_count": 102,
   "id": "7c16da9d",
   "metadata": {},
   "outputs": [
    {
     "data": {
      "image/png": "[encoded data removed]",
      "text/plain": [
       "<Figure size 720x720 with 4 Axes>"
      ]
     },
     "metadata": {
      "needs_background": "light"
     },
     "output_type": "display_data"
    }
   ],
   "source": [
    "\n",
    "\n",
    "g = sns.clustermap(df_i.corr(), \n",
    "                   method = 'complete', \n",
    "                   cmap   = 'RdBu', \n",
    "                   annot  = True, \n",
    "                   annot_kws = {'size': 8})\n",
    "plt.setp(g.ax_heatmap.get_xticklabels(), rotation=60);"
   ]
  },
  {
   "cell_type": "code",
   "execution_count": 104,
   "id": "4c3cca48",
   "metadata": {},
   "outputs": [
    {
     "data": {
      "image/png": "[encoded data removed]",
      "text/plain": [
       "<Figure size 720x720 with 4 Axes>"
      ]
     },
     "metadata": {
      "needs_background": "light"
     },
     "output_type": "display_data"
    }
   ],
   "source": [
    "\n",
    "g = sns.clustermap(df_y.corr(), \n",
    "                   method = 'complete', \n",
    "                   cmap   = 'RdBu', \n",
    "                   annot  = True, \n",
    "                   annot_kws = {'size': 8})\n",
    "plt.setp(g.ax_heatmap.get_xticklabels(), rotation=60);"
   ]
  },
  {
   "cell_type": "code",
   "execution_count": null,
   "id": "6740732e",
   "metadata": {},
   "outputs": [],
   "source": [
    "corr, _ = pearsonr(list3(xmean=x.mean(dtype=object)), list2(ymean=y.mean(dtype=float64))\n",
    "#                    #if skipna is None:skipna=True)"
   ]
  }
 ],
 "metadata": {
  "kernelspec": {
   "display_name": "PythonData",
   "language": "python",
   "name": "pythondata"
  },
  "language_info": {
   "codemirror_mode": {
    "name": "ipython",
    "version": 3
   },
   "file_extension": ".py",
   "mimetype": "text/x-python",
   "name": "python",
   "nbconvert_exporter": "python",
   "pygments_lexer": "ipython3",
   "version": "3.7.7"
  },
  "papermill": {
   "default_parameters": {},
   "duration": 29.504625,
   "end_time": "2022-04-23T06:31:21.736795",
   "environment_variables": {},
   "exception": null,
   "input_path": "__notebook__.ipynb",
   "output_path": "__notebook__.ipynb",
   "parameters": {},
   "start_time": "2022-04-23T06:30:52.232170",
   "version": "2.3.4"
  },
  "vscode": {
   "interpreter": {
    "hash": "dcec0128a0b52be73e63bb13501ef6304ce934440ba74144668dbbfd9efb5441"
   }
  }
 },
 "nbformat": 4,
 "nbformat_minor": 5
}
